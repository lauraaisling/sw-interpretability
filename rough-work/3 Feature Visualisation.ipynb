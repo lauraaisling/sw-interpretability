{
 "cells": [
  {
   "cell_type": "markdown",
   "id": "2aba9488",
   "metadata": {
    "ExecuteTime": {
     "end_time": "2023-02-06T21:46:51.388011Z",
     "start_time": "2023-02-06T21:46:51.382737Z"
    }
   },
   "source": [
    "## Set up"
   ]
  },
  {
   "cell_type": "code",
   "execution_count": null,
   "id": "02a88ff4",
   "metadata": {
    "ExecuteTime": {
     "end_time": "2023-02-06T21:53:42.704594Z",
     "start_time": "2023-02-06T21:53:42.698999Z"
    }
   },
   "outputs": [],
   "source": [
    "import os\n",
    "base_dir = os.path.normpath(os.getcwd() + os.sep + os.pardir) "
   ]
  },
  {
   "cell_type": "code",
   "execution_count": null,
   "id": "d49a550f",
   "metadata": {
    "ExecuteTime": {
     "end_time": "2023-02-06T21:55:40.092211Z",
     "start_time": "2023-02-06T21:55:40.085274Z"
    }
   },
   "outputs": [],
   "source": [
    "# import requests # request img from web\n",
    "# import shutil # save img locally\n",
    "# from pathlib import Path\n",
    "# from PIL import Image\n",
    "# import numpy as np\n",
    "# import math\n",
    "# import matplotlib.pyplot as plt\n",
    "import torch\n",
    "import torchvision\n",
    "# from torchvision import transforms"
   ]
  },
  {
   "cell_type": "code",
   "execution_count": null,
   "id": "c1b0415a",
   "metadata": {
    "ExecuteTime": {
     "end_time": "2023-02-06T21:54:10.172299Z",
     "start_time": "2023-02-06T21:53:42.725626Z"
    }
   },
   "outputs": [],
   "source": [
    "import sys\n",
    "sys.path.append(f'{base_dir}/src/captum')\n",
    "from captum import optim as optimviz"
   ]
  },
  {
   "cell_type": "code",
   "execution_count": null,
   "id": "42862482",
   "metadata": {
    "ExecuteTime": {
     "end_time": "2023-02-06T21:55:16.372846Z",
     "start_time": "2023-02-06T21:55:16.367208Z"
    }
   },
   "outputs": [],
   "source": [
    "device = torch.device(\"cuda:0\" if torch.cuda.is_available() else \"cpu\")"
   ]
  },
  {
   "cell_type": "markdown",
   "id": "0337dc6a",
   "metadata": {},
   "source": [
    "## Utilities"
   ]
  },
  {
   "cell_type": "code",
   "execution_count": null,
   "id": "12ebe8f2",
   "metadata": {
    "ExecuteTime": {
     "end_time": "2023-02-06T21:55:18.950915Z",
     "start_time": "2023-02-06T21:55:18.937398Z"
    }
   },
   "outputs": [],
   "source": [
    "def visualize(model: torch.nn.Module, target: torch.nn.Module, neuron: int = -1, \n",
    "              neuron_obj: bool = True, lr: float = 0.025) -> None:\n",
    "    image = optimviz.images.NaturalImage((224, 224)).to(device)\n",
    "    transforms = [\n",
    "        # Normalization for torchvision models\n",
    "        torchvision.transforms.Normalize(mean=[0.485, 0.456, 0.406], std=[0.229, 0.224, 0.225]),\n",
    "        # Random translation, scaling, and rotation to help with visualization quality.\n",
    "        # Padding is used to avoid transform artifacts and then it's cropped away.\n",
    "        torch.nn.ReflectionPad2d(16),\n",
    "        optimviz.transforms.RandomSpatialJitter(16),\n",
    "        optimviz.transforms.RandomScale(scale=(1, 0.975, 1.025, 0.95, 1.05)),\n",
    "        torchvision.transforms.RandomRotation(degrees=(-5,5)),\n",
    "        optimviz.transforms.RandomSpatialJitter(8),\n",
    "        optimviz.transforms.CenterCrop((224,224)),\n",
    "    ]\n",
    "    transforms = torch.nn.Sequential(*transforms)\n",
    "    if isinstance(model, optimviz.models.InceptionV1):\n",
    "        # For the GoogLeNet model, we don't need the initial normalization\n",
    "        transforms = transforms[1:]\n",
    "        print(\"transforms[1:]\") ################## test\n",
    "    else: ######################################## test\n",
    "        print(\"transforms\") ###################### test\n",
    "    if neuron > -1:\n",
    "        if neuron_obj is True: \n",
    "            loss_fn = optimviz.loss.NeuronActivation(target, neuron)\n",
    "        else:\n",
    "            loss_fn = optimviz.loss.ChannelActivation(target, neuron)\n",
    "    else:\n",
    "        loss_fn = optimviz.loss.DeepDream(target)\n",
    "    obj = optimviz.InputOptimization(model, loss_fn, image, transforms)\n",
    "    history = obj.optimize(optimviz.optimization.n_steps(128, show_progress=False), lr=lr)   \n",
    "\n",
    "    print(f\"\"\"There are {len(history)} steps in the history.\n",
    "    Initial loss is {history[0].item()}.\n",
    "    Final loss is {history[-1].item()}.\"\"\")\n",
    "\n",
    "    image().show()"
   ]
  },
  {
   "cell_type": "code",
   "execution_count": null,
   "id": "4216025b",
   "metadata": {},
   "outputs": [],
   "source": []
  },
  {
   "cell_type": "markdown",
   "id": "51a91c8e",
   "metadata": {},
   "source": [
    "## Load models"
   ]
  },
  {
   "cell_type": "code",
   "execution_count": null,
   "id": "89be2127",
   "metadata": {
    "ExecuteTime": {
     "end_time": "2023-02-06T21:55:33.212681Z",
     "start_time": "2023-02-06T21:55:28.911433Z"
    }
   },
   "outputs": [],
   "source": [
    "googlenet_torchhub = torch.hub.load('pytorch/vision:v0.10.0', 'googlenet', pretrained=True).to(device)\n",
    "googlenet_torchhub.eval()"
   ]
  },
  {
   "cell_type": "code",
   "execution_count": null,
   "id": "fe8d7a57",
   "metadata": {
    "ExecuteTime": {
     "end_time": "2023-02-06T21:55:45.651172Z",
     "start_time": "2023-02-06T21:55:44.950275Z"
    }
   },
   "outputs": [],
   "source": [
    "googlenet_torchvision = torchvision.models.googlenet(pretrained=True).to(device)\n",
    "googlenet_torchvision.eval()"
   ]
  },
  {
   "cell_type": "code",
   "execution_count": null,
   "id": "12612d0f",
   "metadata": {
    "ExecuteTime": {
     "end_time": "2023-02-06T21:55:46.048991Z",
     "start_time": "2023-02-06T21:55:45.750967Z"
    }
   },
   "outputs": [],
   "source": [
    "googlenet_captum = optimviz.models._image.inception_v1.googlenet(pretrained=True).to(device)\n",
    "googlenet_captum.eval()"
   ]
  },
  {
   "cell_type": "markdown",
   "id": "03f561d1",
   "metadata": {},
   "source": [
    "## Visualisations"
   ]
  },
  {
   "cell_type": "code",
   "execution_count": null,
   "id": "161f876c",
   "metadata": {
    "ExecuteTime": {
     "end_time": "2023-02-06T21:55:48.143943Z",
     "start_time": "2023-02-06T21:55:48.137930Z"
    }
   },
   "outputs": [],
   "source": [
    "neuron = 55\n",
    "target_torchhub = googlenet_torchhub.inception4e.branch1.conv\n",
    "target_torchvision = googlenet_torchvision.inception4e.branch1.conv\n",
    "target_captum = googlenet_captum.mixed4e.conv_1x1"
   ]
  },
  {
   "cell_type": "code",
   "execution_count": null,
   "id": "a655f36c",
   "metadata": {
    "ExecuteTime": {
     "end_time": "2023-02-06T21:56:22.604341Z",
     "start_time": "2023-02-06T21:55:48.850446Z"
    }
   },
   "outputs": [],
   "source": [
    "visualize(googlenet_torchhub, target_torchhub, neuron)"
   ]
  },
  {
   "cell_type": "code",
   "execution_count": null,
   "id": "62022cfe",
   "metadata": {
    "ExecuteTime": {
     "end_time": "2023-02-06T21:56:59.534578Z",
     "start_time": "2023-02-06T21:56:22.733658Z"
    }
   },
   "outputs": [],
   "source": [
    "visualize(googlenet_torchvision, target_torchvision, neuron)"
   ]
  },
  {
   "cell_type": "code",
   "execution_count": null,
   "id": "9dec9f02",
   "metadata": {
    "ExecuteTime": {
     "end_time": "2023-02-06T22:30:00.753063Z",
     "start_time": "2023-02-06T22:29:15.363238Z"
    }
   },
   "outputs": [],
   "source": [
    "visualize(googlenet_captum, target_captum, neuron) # 55"
   ]
  },
  {
   "cell_type": "code",
   "execution_count": null,
   "id": "e8e9e239",
   "metadata": {
    "ExecuteTime": {
     "end_time": "2023-02-06T23:23:27.494803Z",
     "start_time": "2023-02-06T23:22:34.973969Z"
    }
   },
   "outputs": [],
   "source": [
    "visualize(googlenet_captum, target_captum, 42)"
   ]
  },
  {
   "cell_type": "code",
   "execution_count": null,
   "id": "1d89a9c8",
   "metadata": {
    "ExecuteTime": {
     "end_time": "2023-02-06T23:24:22.463483Z",
     "start_time": "2023-02-06T23:23:30.508424Z"
    }
   },
   "outputs": [],
   "source": [
    "visualize(googlenet_captum, target_captum, 42)"
   ]
  },
  {
   "cell_type": "code",
   "execution_count": null,
   "id": "4975b927",
   "metadata": {},
   "outputs": [],
   "source": []
  }
 ],
 "metadata": {
  "kernelspec": {
   "display_name": "Python 3 (ipykernel)",
   "language": "python",
   "name": "python3"
  },
  "language_info": {
   "codemirror_mode": {
    "name": "ipython",
    "version": 3
   },
   "file_extension": ".py",
   "mimetype": "text/x-python",
   "name": "python",
   "nbconvert_exporter": "python",
   "pygments_lexer": "ipython3",
   "version": "3.8.16"
  },
  "toc": {
   "base_numbering": 1,
   "nav_menu": {},
   "number_sections": true,
   "sideBar": true,
   "skip_h1_title": false,
   "title_cell": "Table of Contents",
   "title_sidebar": "Contents",
   "toc_cell": false,
   "toc_position": {},
   "toc_section_display": true,
   "toc_window_display": false
  },
  "varInspector": {
   "cols": {
    "lenName": 16,
    "lenType": 16,
    "lenVar": 40
   },
   "kernels_config": {
    "python": {
     "delete_cmd_postfix": "",
     "delete_cmd_prefix": "del ",
     "library": "var_list.py",
     "varRefreshCmd": "print(var_dic_list())"
    },
    "r": {
     "delete_cmd_postfix": ") ",
     "delete_cmd_prefix": "rm(",
     "library": "var_list.r",
     "varRefreshCmd": "cat(var_dic_list()) "
    }
   },
   "types_to_exclude": [
    "module",
    "function",
    "builtin_function_or_method",
    "instance",
    "_Feature"
   ],
   "window_display": false
  }
 },
 "nbformat": 4,
 "nbformat_minor": 5
}
