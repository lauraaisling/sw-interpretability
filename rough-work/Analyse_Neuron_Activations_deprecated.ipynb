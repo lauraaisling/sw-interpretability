{
 "cells": [
  {
   "cell_type": "markdown",
   "id": "563764b2",
   "metadata": {},
   "source": [
    "## Set up"
   ]
  },
  {
   "cell_type": "code",
   "execution_count": 1,
   "id": "ea6a9166",
   "metadata": {},
   "outputs": [
    {
     "name": "stderr",
     "output_type": "stream",
     "text": [
      "/tmp/ipykernel_41742/2026189150.py:14: DeprecationWarning: the imp module is deprecated in favour of importlib; see the module's documentation for alternative uses\n",
      "  import imp\n"
     ]
    },
    {
     "data": {
      "text/plain": [
       "<module 'utilities' from '/home/laura/sw-interpretability/scripts/utilities.py'>"
      ]
     },
     "execution_count": 1,
     "metadata": {},
     "output_type": "execute_result"
    }
   ],
   "source": [
    "import sys\n",
    "sys.path.append('./scripts/')\n",
    "\n",
    "import matplotlib.pyplot as plt\n",
    "import seaborn as sns\n",
    "import math\n",
    "import copy\n",
    "import numpy as np\n",
    "sns.set_style(\"darkgrid\")\n",
    "from PIL import Image\n",
    "from sklearn.preprocessing import StandardScaler\n",
    "from sklearn.preprocessing import MinMaxScaler\n",
    "\n",
    "import imp\n",
    "import my_datasets\n",
    "import utilities \n",
    "imp.reload(my_datasets) \n",
    "imp.reload(utilities) "
   ]
  },
  {
   "cell_type": "code",
   "execution_count": 2,
   "id": "cd24f8b5",
   "metadata": {},
   "outputs": [
    {
     "name": "stdout",
     "output_type": "stream",
     "text": [
      "10000 10000\n"
     ]
    }
   ],
   "source": [
    "dataset='ilsvrc12'\n",
    "paths, count, y, idx_to_labels = my_datasets.get_dataset(dataset)\n",
    "\n",
    "print(count, len(paths))"
   ]
  },
  {
   "cell_type": "code",
   "execution_count": 3,
   "id": "99ef379d",
   "metadata": {},
   "outputs": [],
   "source": [
    "layer='Mixed_7b.cat_2'\n",
    "SAVEFOLD0=f'../outputs/{dataset}'\n",
    "\n",
    "SAVEFOLD=f\"{SAVEFOLD0}/{layer}/\""
   ]
  },
  {
   "cell_type": "code",
   "execution_count": 4,
   "id": "ea93381c",
   "metadata": {},
   "outputs": [],
   "source": [
    "gradients_wrt_conv_layer=np.load(f\"{SAVEFOLD}/gradients_wrt_conv_layer.npy\")\n",
    "predictions=np.load(f\"{SAVEFOLD}/predictions.npy\")\n",
    "conv_maps=np.load(f\"{SAVEFOLD}/conv_maps.npy\")\n",
    "\n",
    "pvh=np.load(f\"{SAVEFOLD}/eigenvectors.npy\",allow_pickle=True)"
   ]
  },
  {
   "cell_type": "code",
   "execution_count": 5,
   "id": "b8264970",
   "metadata": {},
   "outputs": [],
   "source": [
    "transforms = \"standardise\" # None / \"standardise\" / \"normalise\""
   ]
  },
  {
   "cell_type": "code",
   "execution_count": 6,
   "id": "89339281",
   "metadata": {},
   "outputs": [],
   "source": [
    "conv_maps_avg = conv_maps.mean(3).mean(2)"
   ]
  },
  {
   "cell_type": "code",
   "execution_count": 7,
   "id": "cdba9372",
   "metadata": {},
   "outputs": [],
   "source": [
    "scale = StandardScaler()\n",
    "normalise = MinMaxScaler()\n",
    "\n",
    "standardised_data = scale.fit_transform(conv_maps_avg) \n",
    "normalised_data = normalise.fit_transform(conv_maps_avg) # .shape (10000, 2048)"
   ]
  },
  {
   "cell_type": "code",
   "execution_count": 8,
   "id": "d93d6004",
   "metadata": {},
   "outputs": [
    {
     "name": "stdout",
     "output_type": "stream",
     "text": [
      "Standardise\n"
     ]
    }
   ],
   "source": [
    "if transforms == \"standardise\":\n",
    "    activations = standardised_data\n",
    "    print(\"Standardise\")\n",
    "elif transforms == \"normalise\": \n",
    "    activations = normalised_data\n",
    "    print(\"Normaliseise\")\n",
    "else: \n",
    "    activations = conv_maps_avg\n",
    "    print(\"Raw activations\")"
   ]
  },
  {
   "cell_type": "code",
   "execution_count": 9,
   "id": "456bc06d",
   "metadata": {
    "scrolled": true
   },
   "outputs": [],
   "source": [
    "# conv_maps_avg"
   ]
  },
  {
   "cell_type": "code",
   "execution_count": 10,
   "id": "30099aaa",
   "metadata": {},
   "outputs": [],
   "source": [
    "# activations"
   ]
  },
  {
   "cell_type": "code",
   "execution_count": 11,
   "id": "6aa79f49",
   "metadata": {},
   "outputs": [
    {
     "data": {
      "text/plain": [
       "(2048, 2048)"
      ]
     },
     "execution_count": 11,
     "metadata": {},
     "output_type": "execute_result"
    }
   ],
   "source": [
    "pvh.shape"
   ]
  },
  {
   "cell_type": "markdown",
   "id": "3191299a",
   "metadata": {},
   "source": [
    "## Utilities"
   ]
  },
  {
   "cell_type": "code",
   "execution_count": 12,
   "id": "da72861d",
   "metadata": {},
   "outputs": [],
   "source": [
    "def plot_ims_and_activations(neuron,top, maps = activations):\n",
    "    print(f\"\\nNeuron {str(neuron)}\")\n",
    "\n",
    "    print(f\"\\n{top} maximally activating dataset example: \")\n",
    "    top_ims = utilities.get_activations(activations_avg = maps, neuron = neuron).argsort()[-top:][::-1] \n",
    "    print(top_ims) # array([...]) \n",
    "\n",
    "    print(f\"\\n{top} corresponding highest activations: \")\n",
    "    print(utilities.get_activations(activations_avg = maps, ims = top_ims, neuron=neuron)) \n",
    "    neurons_activated = dict()\n",
    "    num_times_activated = dict()\n",
    "    fig, ax = plt.subplots(top, 2, figsize=(2*6, top*6))\n",
    "    ax = ax.flatten()\n",
    "    for idx, image_id in enumerate(top_ims):\n",
    "        im = Image.open(paths[image_id])\n",
    "        ax[idx*2].imshow(im)\n",
    "        ax[idx*2].axis('off')\n",
    "        ax[idx*2].set_title(f\"#{str(idx+1)} highest act.; Im. #{str(image_id)}; Act.: {str(round(utilities.get_activations(activations_avg = maps, ims = top_ims[idx], neuron=neuron),3))}\") \n",
    "        ax[idx*2+1].plot(utilities.get_activations(activations_avg = maps, ims = image_id)) \n",
    "        ax[idx*2+1].set_title(f\"Top neurons: {utilities.get_activations(activations_avg = maps, ims = image_id).argsort()[-10:][::-1]}\", size=12)\n",
    "        neurons_activated[image_id] = utilities.get_activations(activations_avg = maps, ims = image_id).argsort()[-top:][::-1] \n",
    "        for top_neuron in utilities.get_activations(activations_avg = maps, ims = image_id).argsort()[-top:][::-1]: \n",
    "            if top_neuron in num_times_activated:\n",
    "                num_times_activated[top_neuron] += 1\n",
    "            else:\n",
    "                num_times_activated[top_neuron] = 1\n",
    "    plt.show()\n",
    "    num_times_activated = dict(sorted(num_times_activated.items(), key=lambda x:x[1], reverse=True))\n",
    "    print(\"10 highest activating neurons for each image ID: \")\n",
    "    for key, value in neurons_activated.items():\n",
    "        print(key, ' : ', value)\n",
    "    print(\"Number of times each top neuron is in list: \")\n",
    "    print(num_times_activated)\n",
    "    return neurons_activated, num_times_activated"
   ]
  },
  {
   "cell_type": "code",
   "execution_count": 13,
   "id": "32204d07",
   "metadata": {},
   "outputs": [],
   "source": [
    "def boxplot(neuron_list, ylim = 3, maps = activations):\n",
    "    ax = sns.boxplot(utilities.get_activations(activations_avg = maps, neuron = neuron_list)) \n",
    "    ax.set_xticklabels(neuron_list)\n",
    "    ax.set_ylim([0, ylim]) "
   ]
  },
  {
   "cell_type": "code",
   "execution_count": 14,
   "id": "ceb18692",
   "metadata": {},
   "outputs": [],
   "source": [
    "def plot_cosine_similarities(top_ims, min_sim=0.2, max_sim=1, maps = activations): \n",
    "    activations = utilities.get_activations(activations_avg = maps, ims = top_ims)\n",
    "    activations_dot = np.empty([len(top_ims),len(top_ims)])\n",
    "    activations_sim = np.empty([len(top_ims),len(top_ims)])\n",
    "    for i in range(len(top_ims)):\n",
    "        for j in range(len(top_ims)):\n",
    "            activations_dot[i,j] = np.dot(activations[i], activations[j])\n",
    "            activations_sim[i,j] = activations_dot[i,j]/(np.linalg.norm(activations[i])*np.linalg.norm(activations[j])) \n",
    "\n",
    "    ax = plt.subplot()\n",
    "    im = ax.imshow(activations_sim, cmap='viridis', interpolation='nearest', vmin=min_sim, vmax=max_sim) \n",
    "    plt.title(\"Cosine similarities\")\n",
    "    plt.subplots_adjust(right=0.8)\n",
    "    cbar_ax = plt.axes([0.85, 0.1, 0.075, 0.8])\n",
    "    plt.colorbar(mappable=(im), cax=cbar_ax)\n",
    "    plt.show()\n",
    "    return activations_sim"
   ]
  },
  {
   "cell_type": "code",
   "execution_count": 15,
   "id": "59eb890c",
   "metadata": {},
   "outputs": [],
   "source": [
    "def plot_cosine_similarities_without_neuron(top_ims, min_sim=0.2, max_sim=1, maps = activations): \n",
    "    activations = utilities.get_activations(activations_avg = maps, ims = top_ims) \n",
    "    activations_not = copy.copy(activations)\n",
    "    activations_not = np.delete(activations_not, neuron, axis=1)\n",
    "    activations_dot = np.empty([len(top_ims),len(top_ims)])\n",
    "    activations_sim = np.empty([len(top_ims),len(top_ims)])\n",
    "    for i in range(len(top_ims)):\n",
    "        for j in range(len(top_ims)):\n",
    "            activations_dot[i,j] = np.dot(activations_not[i], activations_not[j])\n",
    "            activations_sim[i,j] = activations_dot[i,j]/(np.linalg.norm(activations_not[i])*np.linalg.norm(activations_not[j])) \n",
    "\n",
    "    ax = plt.subplot()\n",
    "    im = ax.imshow(activations_sim, cmap='viridis', interpolation='nearest', vmin=min_sim, vmax=max_sim) \n",
    "    plt.title(f\"Cosine similarities without neuron {neuron}\")\n",
    "    plt.subplots_adjust(right=0.8)\n",
    "    cbar_ax = plt.axes([0.85, 0.1, 0.075, 0.8])\n",
    "    plt.colorbar(mappable=(im), cax=cbar_ax)\n",
    "    plt.show() \n",
    "    return activations_sim"
   ]
  },
  {
   "cell_type": "code",
   "execution_count": 16,
   "id": "6228c273",
   "metadata": {},
   "outputs": [],
   "source": [
    "def plot_pear_corr(top_ims, min_sim=None, max_sim=None, maps = activations): \n",
    "    activations = utilities.get_activations(activations_avg = maps, ims = top_ims)\n",
    "    # activations.shape # (25, 2048)\n",
    "    pear_corr = np.corrcoef(activations) # (50, 50) \n",
    "    ax = plt.subplot()\n",
    "    im = plt.imshow(pear_corr, cmap='viridis', interpolation='nearest', vmin=min_sim, vmax=max_sim) \n",
    "    plt.title(\"Pearson correlation\")\n",
    "    plt.subplots_adjust(right=0.8)\n",
    "    cbar_ax = plt.axes([0.85, 0.1, 0.075, 0.8])\n",
    "    plt.colorbar(mappable=(im), cax=cbar_ax)\n",
    "    plt.show()\n",
    "    return pear_corr"
   ]
  },
  {
   "cell_type": "code",
   "execution_count": 17,
   "id": "6fee6e9b",
   "metadata": {},
   "outputs": [],
   "source": [
    "def neuron_cosine_similarities(top_ims, neuron, width = 0.4, maps = activations): \n",
    "    activations = utilities.get_activations(activations_avg = maps, ims = top_ims) \n",
    "    neuron_dot = np.empty([len(top_ims)])\n",
    "    neuron_sim = np.empty([len(top_ims)])\n",
    "    neuron_vec = np.zeros(2048)\n",
    "    neuron_vec[neuron] = 1\n",
    "    for i in range(len(top_ims)):\n",
    "        neuron_dot[i] = np.dot(activations[i], neuron_vec)\n",
    "        neuron_sim[i] = neuron_dot[i]/(np.linalg.norm(activations[i])) \n",
    "    plt.bar(range(len(neuron_sim)), neuron_sim, width = width)\n",
    "    plt.show()\n",
    "    return neuron_sim"
   ]
  },
  {
   "cell_type": "code",
   "execution_count": 18,
   "id": "9fde5988",
   "metadata": {},
   "outputs": [],
   "source": [
    "def neuron_acts_and_cosine_similarities(top_ims, neuron, width = 0.4, maps = activations): \n",
    "    activations = utilities.get_activations(activations_avg = maps, ims = top_ims)\n",
    "    neuron_dot = np.empty([len(top_ims)])\n",
    "    neuron_sim = np.empty([len(top_ims)])\n",
    "    neuron_vec = np.zeros(2048)\n",
    "    neuron_vec[neuron] = 1\n",
    "    for i in range(len(top_ims)):\n",
    "        neuron_dot[i] = np.dot(activations[i], neuron_vec)\n",
    "        neuron_sim[i] = neuron_dot[i]/(np.linalg.norm(activations[i])) \n",
    "    fig, ax = plt.subplots(2, 1)\n",
    "    ax = ax.flatten()\n",
    "    ax[0].bar(range(len(neuron_sim)), neuron_sim, width = width)\n",
    "    ax[0].set_title(f\"Cosine similarity of image with neuron {neuron} direction\")\n",
    "    ax[1].plot(range(len(top_ims)), activations[:,neuron])\n",
    "    ax[1].set_title(f\"Image activation for neuron {neuron}\")\n",
    "    ax[1].set_ylim(0, max(activations[:,neuron] + 0.2))\n",
    "    plt.tight_layout()\n",
    "    return neuron_sim"
   ]
  },
  {
   "cell_type": "markdown",
   "id": "23259185",
   "metadata": {},
   "source": [
    "## Stanardardise and normalise data"
   ]
  },
  {
   "cell_type": "code",
   "execution_count": 19,
   "id": "196b82b3",
   "metadata": {},
   "outputs": [
    {
     "data": {
      "text/plain": [
       "<AxesSubplot: >"
      ]
     },
     "execution_count": 19,
     "metadata": {},
     "output_type": "execute_result"
    },
    {
     "data": {
      "image/png": "[encoded data removed]",
      "text/plain": [
       "<Figure size 640x480 with 1 Axes>"
      ]
     },
     "metadata": {},
     "output_type": "display_data"
    }
   ],
   "source": [
    "sns.boxplot(activations[:,1210:1220])"
   ]
  },
  {
   "cell_type": "code",
   "execution_count": 20,
   "id": "c43dd261",
   "metadata": {},
   "outputs": [
    {
     "data": {
      "text/plain": [
       "<AxesSubplot: >"
      ]
     },
     "execution_count": 20,
     "metadata": {},
     "output_type": "execute_result"
    },
    {
     "data": {
      "image/png": "[encoded data removed]",
      "text/plain": [
       "<Figure size 640x480 with 1 Axes>"
      ]
     },
     "metadata": {},
     "output_type": "display_data"
    }
   ],
   "source": [
    "sns.boxplot(standardised_data[:,1210:1220])"
   ]
  },
  {
   "cell_type": "code",
   "execution_count": 21,
   "id": "1f522537",
   "metadata": {},
   "outputs": [
    {
     "data": {
      "text/plain": [
       "<AxesSubplot: >"
      ]
     },
     "execution_count": 21,
     "metadata": {},
     "output_type": "execute_result"
    },
    {
     "data": {
      "image/png": "[encoded data removed]",
      "text/plain": [
       "<Figure size 640x480 with 1 Axes>"
      ]
     },
     "metadata": {},
     "output_type": "display_data"
    }
   ],
   "source": [
    "sns.boxplot(normalised_data[:,1210:1220])"
   ]
  },
  {
   "cell_type": "code",
   "execution_count": 22,
   "id": "5039abe3",
   "metadata": {},
   "outputs": [
    {
     "data": {
      "text/plain": [
       "array([[-0.19453002, -0.55699489,  0.49602738, ..., -0.42646365,\n",
       "         2.47800132, -0.19513146],\n",
       "       [-0.4811552 , -0.36254914, -0.00980556, ..., -0.37188355,\n",
       "        -0.09907177, -0.26326883],\n",
       "       [-0.5710877 , -0.59569609,  0.13117456, ..., -0.42646365,\n",
       "        -0.42922297, -0.47148676],\n",
       "       ...,\n",
       "       [-0.62018972, -0.17212305,  0.17720605, ...,  8.04758243,\n",
       "        -0.24000857, -0.47554872],\n",
       "       [-0.08295891,  2.18514015, -0.46197014, ..., -0.37301702,\n",
       "         0.48375618, -0.21264737],\n",
       "       [-0.32225456, -0.34142135,  0.02046275, ..., -0.42646365,\n",
       "         2.82586937, -0.47554872]])"
      ]
     },
     "execution_count": 22,
     "metadata": {},
     "output_type": "execute_result"
    }
   ],
   "source": [
    "standardised_data"
   ]
  },
  {
   "cell_type": "code",
   "execution_count": 23,
   "id": "9ff7457e",
   "metadata": {},
   "outputs": [
    {
     "data": {
      "text/plain": [
       "array([[4.46541912e-02, 8.03902375e-03, 1.35218899e-01, ...,\n",
       "        0.00000000e+00, 2.58230107e-01, 2.47365256e-02],\n",
       "       [2.04815264e-02, 1.88372812e-02, 9.11809221e-02, ...,\n",
       "        3.27366451e-03, 4.30544712e-02, 1.87259049e-02],\n",
       "       [1.28970286e-02, 5.88980972e-03, 1.03454696e-01, ...,\n",
       "        0.00000000e+00, 1.54881224e-02, 3.58317940e-04],\n",
       "       ...,\n",
       "       [8.75598745e-03, 2.94123128e-02, 1.07462213e-01, ...,\n",
       "        5.08265575e-01, 3.12867932e-02, 0.00000000e+00],\n",
       "       [5.40635919e-02, 1.60319445e-01, 5.18153297e-02, ...,\n",
       "        3.20567984e-03, 9.17183508e-02, 2.31913898e-02],\n",
       "       [3.38824845e-02, 2.00105818e-02, 9.38160911e-02, ...,\n",
       "        0.00000000e+00, 2.87275744e-01, 0.00000000e+00]])"
      ]
     },
     "execution_count": 23,
     "metadata": {},
     "output_type": "execute_result"
    }
   ],
   "source": [
    "normalised_data"
   ]
  },
  {
   "cell_type": "markdown",
   "id": "8262bd6e",
   "metadata": {},
   "source": [
    "## Analyse polysemantic neurons"
   ]
  },
  {
   "cell_type": "markdown",
   "id": "9a960b06",
   "metadata": {},
   "source": [
    "### Plot max activating images and activations"
   ]
  },
  {
   "cell_type": "code",
   "execution_count": 24,
   "id": "b6130a24",
   "metadata": {
    "scrolled": true
   },
   "outputs": [
    {
     "ename": "TypeError",
     "evalue": "plot_ims_and_activations() got an unexpected keyword argument 'direction'",
     "output_type": "error",
     "traceback": [
      "\u001b[0;31m---------------------------------------------------------------------------\u001b[0m",
      "\u001b[0;31mTypeError\u001b[0m                                 Traceback (most recent call last)",
      "Cell \u001b[0;32mIn[24], line 1\u001b[0m\n\u001b[0;32m----> 1\u001b[0m neurons_activated, num_times_activated \u001b[38;5;241m=\u001b[39m \u001b[43mplot_ims_and_activations\u001b[49m\u001b[43m(\u001b[49m\u001b[43mdirection\u001b[49m\u001b[43m \u001b[49m\u001b[38;5;241;43m=\u001b[39;49m\u001b[43m \u001b[49m\u001b[38;5;241;43m35\u001b[39;49m\u001b[43m,\u001b[49m\u001b[43m \u001b[49m\u001b[43mtop\u001b[49m\u001b[43m \u001b[49m\u001b[38;5;241;43m=\u001b[39;49m\u001b[43m \u001b[49m\u001b[38;5;241;43m25\u001b[39;49m\u001b[43m)\u001b[49m\n",
      "\u001b[0;31mTypeError\u001b[0m: plot_ims_and_activations() got an unexpected keyword argument 'direction'"
     ]
    }
   ],
   "source": [
    "neurons_activated, num_times_activated = plot_ims_and_activations(direction = 35, top = 25)"
   ]
  },
  {
   "cell_type": "code",
   "execution_count": null,
   "id": "6bc7537d",
   "metadata": {},
   "outputs": [],
   "source": [
    "neurons_activated, num_times_activated = plot_ims_and_activations(neuron =  27, top = 25)"
   ]
  },
  {
   "cell_type": "code",
   "execution_count": null,
   "id": "cf796ad0",
   "metadata": {
    "scrolled": true
   },
   "outputs": [],
   "source": [
    "neurons_activated, num_times_activated = plot_ims_and_activations(neuron =  57, top = 50)"
   ]
  },
  {
   "cell_type": "code",
   "execution_count": null,
   "id": "205c0914",
   "metadata": {
    "scrolled": true
   },
   "outputs": [],
   "source": [
    "print(\"\\n10 highest activating neurons for each image ID:\")\n",
    "for key, value in neurons_activated.items():\n",
    "    print(key, ' : ', value)\n",
    "print(\"\\nNumber of times each top neuron is in list:\")\n",
    "print(num_times_activated)"
   ]
  },
  {
   "cell_type": "code",
   "execution_count": null,
   "id": "dfe10b50",
   "metadata": {},
   "outputs": [],
   "source": [
    "# Look up neuron of interest to see if ther's an obvious pattern\n",
    "plot_ims_and_activations(neuron = 1617, top = 25)"
   ]
  },
  {
   "cell_type": "code",
   "execution_count": null,
   "id": "4b81b97a",
   "metadata": {
    "scrolled": true
   },
   "outputs": [],
   "source": [
    "neuron_list = [1215,27,35,57,70,74,93] \n",
    "boxplot(neuron_list)"
   ]
  },
  {
   "cell_type": "markdown",
   "id": "e208f683",
   "metadata": {},
   "source": [
    "### Neuron similarities"
   ]
  },
  {
   "cell_type": "markdown",
   "id": "172db36b",
   "metadata": {},
   "source": [
    "#### Neuron 35"
   ]
  },
  {
   "cell_type": "code",
   "execution_count": null,
   "id": "3cc3b240",
   "metadata": {},
   "outputs": [],
   "source": [
    "neuron = 35\n",
    "top = 50 \n",
    "top_ims = utilities.get_activations(activations_avg = activations, neuron = neuron).argsort()[-top:][::-1] "
   ]
  },
  {
   "cell_type": "code",
   "execution_count": null,
   "id": "9bb8d650",
   "metadata": {},
   "outputs": [],
   "source": [
    "activations.shape"
   ]
  },
  {
   "cell_type": "code",
   "execution_count": null,
   "id": "9d4a8c77",
   "metadata": {},
   "outputs": [],
   "source": [
    "utilities.get_activations(activations_avg = activations, ims = top_ims).shape[1]"
   ]
  },
  {
   "cell_type": "code",
   "execution_count": null,
   "id": "3d8b81d5",
   "metadata": {
    "scrolled": true
   },
   "outputs": [],
   "source": [
    "plot_ims_and_activations(neuron = neuron, top = top)"
   ]
  },
  {
   "cell_type": "code",
   "execution_count": null,
   "id": "924796c6",
   "metadata": {
    "scrolled": true
   },
   "outputs": [],
   "source": [
    "cosine_sim = plot_cosine_similarities(top_ims, min_sim=0.2, max_sim=1)"
   ]
  },
  {
   "cell_type": "code",
   "execution_count": null,
   "id": "3458bb55",
   "metadata": {
    "scrolled": true
   },
   "outputs": [],
   "source": [
    "cosine_sim_without_neuron = plot_cosine_similarities_without_neuron(top_ims)"
   ]
  },
  {
   "cell_type": "code",
   "execution_count": null,
   "id": "5b55e69d",
   "metadata": {},
   "outputs": [],
   "source": [
    "diff = cosine_sim - cosine_sim_without_neuron\n",
    "diff.mean(1).mean(0) # average difference in cosine similarity with and without neuron"
   ]
  },
  {
   "cell_type": "code",
   "execution_count": null,
   "id": "82a3a0e1",
   "metadata": {
    "scrolled": false
   },
   "outputs": [],
   "source": [
    "_ = plot_pear_corr(top_ims)"
   ]
  },
  {
   "cell_type": "code",
   "execution_count": null,
   "id": "73c9c6e6",
   "metadata": {
    "scrolled": true
   },
   "outputs": [],
   "source": [
    "# try to clump together categories to see if closer cosing similarity\n",
    "print(utilities.get_activations(activations_avg = activations, neuron = neuron).argsort()[-top:][::-1])\n",
    "\n",
    "top_ims_sorted = np.array((9488, 9484, 9480, 9483, 9489, 9482, 9485, # apples\n",
    "                1343, 2350, 7012, 5223, 1768, 5860, 2359, # filed\n",
    "                5224, 7523, 7683, # tennis/football...\n",
    "                5609, 9810, 4299, 9813, 9819, 6772, 21, \n",
    "                5993)) # other\n",
    "# for im in top_ims_sorted:\n",
    "#     print(\"Image: \" + str(im))\n",
    "#     im = Image.open(paths[im])\n",
    "#     im.show() \n",
    "fig, ax = plt.subplots(math.ceil(len(top_ims_sorted)//5), 5)\n",
    "ax = ax.flatten()\n",
    "for idx, im_id in enumerate(top_ims_sorted):\n",
    "    im = Image.open(paths[im_id])\n",
    "    ax[idx].imshow(im)\n",
    "    ax[idx].set_title(im_id, size = 8)\n",
    "    ax[idx].axis('off')"
   ]
  },
  {
   "cell_type": "code",
   "execution_count": null,
   "id": "386f12a1",
   "metadata": {},
   "outputs": [],
   "source": [
    "# try to clump together categories to see if closer cosine similarity\n",
    "print(utilities.get_activations(activations_avg = activations, neuron = neuron).argsort()[-top:][::-1])\n",
    "\n",
    "top_ims_sorted = np.array((9488, 9484, 9480, 9483, 9489, 9482, 9485, 9486, # apples\n",
    "                1343, 2350, 7012, 9811, 7879, 5223, 5749, 6210, 7163, 8435, 5231, 4106, 6214, 9083, 9128, 5865, \n",
    "                5860, 2359, 2009, 1768, 1764, 1703, 1947, 2056, 2166, 1674, # filed\n",
    "                5224, 7523, 7683, 9812, 9817, # tennis/football...\n",
    "                5609, 9810, 4299, 9813, 9819, 6772, 21, \n",
    "                5993, 6211, 4905, 9439)) # other\n",
    "# for im in top_ims_sorted:\n",
    "#     print(\"Image: \" + str(im))\n",
    "#     im = Image.open(paths[im])\n",
    "#     im.show() \n",
    "fig, ax = plt.subplots(math.ceil(len(top_ims_sorted)//5), 5, figsize = (10,20))  # change for 50 \n",
    "ax = ax.flatten()\n",
    "for idx, im_id in enumerate(top_ims_sorted):\n",
    "    im = Image.open(paths[im_id])\n",
    "    ax[idx].imshow(im)\n",
    "    ax[idx].set_title(im_id, size = 8)\n",
    "    ax[idx].axis('off')"
   ]
  },
  {
   "cell_type": "code",
   "execution_count": null,
   "id": "0bc791be",
   "metadata": {
    "scrolled": true
   },
   "outputs": [],
   "source": [
    "plot_cosine_similarities(top_ims_sorted, min_sim=0.0, max_sim=1)"
   ]
  },
  {
   "cell_type": "code",
   "execution_count": null,
   "id": "df0f501c",
   "metadata": {},
   "outputs": [],
   "source": [
    "plot_pear_corr(top_ims_sorted)"
   ]
  },
  {
   "cell_type": "code",
   "execution_count": null,
   "id": "b657f041",
   "metadata": {
    "scrolled": false
   },
   "outputs": [],
   "source": [
    "cosine_neuron = neuron_acts_and_cosine_similarities(top_ims, neuron)\n",
    "cosine_neuron"
   ]
  },
  {
   "cell_type": "markdown",
   "id": "c31f8396",
   "metadata": {},
   "source": [
    "#### Neuron 27"
   ]
  },
  {
   "cell_type": "code",
   "execution_count": null,
   "id": "221f4181",
   "metadata": {},
   "outputs": [],
   "source": [
    "neuron = 27\n",
    "top = 50\n",
    "top_ims  = utilities.get_activations(activations_avg = activations, neuron = neuron).argsort()[-top:][::-1] "
   ]
  },
  {
   "cell_type": "code",
   "execution_count": null,
   "id": "33fdb39d",
   "metadata": {},
   "outputs": [],
   "source": [
    "plot_ims_and_activations(neuron = neuron, top = top)"
   ]
  },
  {
   "cell_type": "code",
   "execution_count": null,
   "id": "5fa220a7",
   "metadata": {},
   "outputs": [],
   "source": [
    "plot_cosine_similarities(top_ims, min_sim=0.2, max_sim=1)"
   ]
  },
  {
   "cell_type": "code",
   "execution_count": null,
   "id": "f0a4c43f",
   "metadata": {},
   "outputs": [],
   "source": [
    "cosine_neuron = neuron_cosine_similarities(top_ims, neuron)\n",
    "cosine_neuron"
   ]
  },
  {
   "cell_type": "code",
   "execution_count": null,
   "id": "e4c3712d",
   "metadata": {
    "scrolled": false
   },
   "outputs": [],
   "source": [
    "# try to clump together categories to see if closer cosing similarity\n",
    "print(activations[:,neuron].argsort()[-top:][::-1])\n",
    "print(utilities.get_activations(activations_avg = activations, neuron = neuron).argsort()[-top:][::-1])\n",
    "\n",
    "top_ims_sorted = np.array((5826, 5824, 4545, 7131, 5617, 4983, 9205, 8607, 6606, # shelves etc\n",
    "                           1947, 1927, 1045, 1828, 2082, 2089, 2022, 2025, 1945, \n",
    "                           2092, 2672, 2436, 1664, 2073, 2739, 2912))\n",
    "# for im in top_ims_sorted:\n",
    "#     print(\"Image: \" + str(im))\n",
    "#     im = Image.open(paths[im])\n",
    "#     im.show() \n",
    "fig, ax = plt.subplots(math.ceil(len(top_ims_sorted)//5), 5)\n",
    "ax = ax.flatten()\n",
    "for idx, im_id in enumerate(top_ims_sorted):\n",
    "    im = Image.open(paths[im_id])\n",
    "    ax[idx].imshow(im)\n",
    "    ax[idx].set_title(im_id, size = 8)\n",
    "    ax[idx].axis('off')"
   ]
  },
  {
   "cell_type": "code",
   "execution_count": null,
   "id": "6f5ce8a4",
   "metadata": {},
   "outputs": [],
   "source": [
    "# try to clump together categories to see if closer cosine similarity\n",
    "print(utilities.get_activations(activations_avg = activations, neuron = neuron).argsort()[-top:][::-1])\n",
    "\n",
    "top_ims_sorted = np.array((5826, 5824, 4545, 5827, 6928, 5617, 5193, 4983, 9205, \n",
    "                           8607, 7131, 6606, 6240, 5556, 4219, 4541, 5214, \n",
    "                           5271, 4819, 4816, 7980, 8583,  # shelves etc\n",
    "                           1947, 1927, 1045, 1828, 2082, 2089, 2022, 2025, 1945, \n",
    "                           2092, 2672, 2436, 1664, 2073, 2087, 1890, 1824, \n",
    "                           2469, 1864, 2165, 1602, 1944, 2739, 2736, 2781, 1725, 2912, 2862 # dogs\n",
    "                           ))\n",
    "# for im in top_ims_sorted:\n",
    "#     print(\"Image: \" + str(im))\n",
    "#     im = Image.open(paths[im])\n",
    "#     im.show() \n",
    "fig, ax = plt.subplots(math.ceil(len(top_ims_sorted)//5), 5, figsize = (10,20))\n",
    "ax = ax.flatten()\n",
    "for idx, im_id in enumerate(top_ims_sorted):\n",
    "    im = Image.open(paths[im_id])\n",
    "    ax[idx].imshow(im)\n",
    "    ax[idx].set_title(im_id, size = 8)\n",
    "    ax[idx].axis('off')"
   ]
  },
  {
   "cell_type": "code",
   "execution_count": null,
   "id": "936ceac5",
   "metadata": {
    "scrolled": true
   },
   "outputs": [],
   "source": [
    "plot_cosine_similarities(top_ims_sorted, min_sim=0.0, max_sim=1)"
   ]
  },
  {
   "cell_type": "markdown",
   "id": "6b517f36",
   "metadata": {},
   "source": [
    "#### Neuron 57"
   ]
  },
  {
   "cell_type": "code",
   "execution_count": null,
   "id": "4876480f",
   "metadata": {},
   "outputs": [],
   "source": [
    "neuron = 57\n",
    "top = 50\n",
    "top_ims  = utilities.get_activations(activations_avg = activations, neuron = neuron).argsort()[-top:][::-1] "
   ]
  },
  {
   "cell_type": "code",
   "execution_count": null,
   "id": "9f238d0b",
   "metadata": {},
   "outputs": [],
   "source": [
    "plot_ims_and_activations(neuron = neuron, top = top)"
   ]
  },
  {
   "cell_type": "code",
   "execution_count": null,
   "id": "a2210eea",
   "metadata": {},
   "outputs": [],
   "source": [
    "top_ims"
   ]
  },
  {
   "cell_type": "code",
   "execution_count": null,
   "id": "bc5e8464",
   "metadata": {},
   "outputs": [],
   "source": [
    "plot_cosine_similarities(top_ims, min_sim=0.2, max_sim=1)"
   ]
  },
  {
   "cell_type": "code",
   "execution_count": null,
   "id": "25670b99",
   "metadata": {
    "scrolled": true
   },
   "outputs": [],
   "source": [
    "cosine_neuron = neuron_cosine_similarities(top_ims, neuron, width = 0.6)\n",
    "cosine_neuron"
   ]
  },
  {
   "cell_type": "code",
   "execution_count": null,
   "id": "795b16c2",
   "metadata": {
    "scrolled": true
   },
   "outputs": [],
   "source": [
    "# try to clump together categories to see if closer cosing similarity\n",
    "print(utilities.get_activations(activations_avg = activations, neuron = neuron).argsort()[-top:][::-1])\n",
    "\n",
    "top_ims_sorted = np.array((1970, 2679, 2334, 1963, 1991, 1992, 1971, \n",
    "                           1973, 2051, 2052, 1990, 1899, 2267, 2424, \n",
    "                           2055, 2670, # black fluffy dogs\n",
    "                           2336, 1772, 2191, 2168, 1566, 2044, 1766, \n",
    "                           2285, 2172, 2171, 2320, 2170, 2580, # other dogs\n",
    "                           8308, 5934, 9348, 6828, 5394, 8447, 5935, \n",
    "                           9193, 9196, 6838, 8813, 5938, 9192, 8684, 8599, \n",
    "                           5933, 9343, 6336, 4540, 7998, 7982)) # diagonal rectangle\n",
    "# for im in top_ims_sorted:\n",
    "#     print(\"Image: \" + str(im))\n",
    "#     im = Image.open(paths[im])\n",
    "#     im.show() \n",
    "fig, ax = plt.subplots(math.ceil(len(top_ims)//5), 5, figsize = (10,20))\n",
    "ax = ax.flatten()\n",
    "for idx, im_id in enumerate(top_ims_sorted):\n",
    "    im = Image.open(paths[im_id])\n",
    "    ax[idx].imshow(im)\n",
    "    ax[idx].set_title(im_id, size = 8)\n",
    "    ax[idx].axis('off')"
   ]
  },
  {
   "cell_type": "code",
   "execution_count": null,
   "id": "7d8d4069",
   "metadata": {},
   "outputs": [],
   "source": [
    "plot_cosine_similarities(top_ims_sorted, min_sim=0.0, max_sim=1)"
   ]
  },
  {
   "cell_type": "markdown",
   "id": "a0b5b4f6",
   "metadata": {},
   "source": [
    "## RW"
   ]
  },
  {
   "cell_type": "code",
   "execution_count": null,
   "id": "28439b5e",
   "metadata": {
    "scrolled": true
   },
   "outputs": [],
   "source": [
    "top = 100\n",
    "\n",
    "neuron = 1215\n",
    "\n",
    "print(\"\\nmaximally activating dataset example: \")\n",
    "print(np.argmax(conv_maps_avg[:,neuron])) # 5205\n",
    "\n",
    "print(\"\\n10 maximally activating dataset example: \")\n",
    "top_ims = conv_maps_avg[:,neuron].argsort()[-top:][::-1]\n",
    "print(top_ims) # array([...])\n",
    "\n",
    "print(\"\\n10 corresponding highest activations: \")\n",
    "print(conv_maps_avg[top_ims,neuron])\n",
    "\n",
    "for idx, im in enumerate(top_ims):\n",
    "    print(\"Top \" + str(idx) + \" activation; Image number: \" + str(im) + \"; Activation: \" + str(conv_maps_avg[top_ims[idx],neuron]))\n",
    "    im = Image.open(paths[im])\n",
    "    im.show() "
   ]
  },
  {
   "cell_type": "code",
   "execution_count": null,
   "id": "0eb7f929",
   "metadata": {
    "scrolled": true
   },
   "outputs": [],
   "source": [
    "top = 25\n",
    "neuron = 27\n",
    "\n",
    "print(f\"\\nNeuron {str(neuron)}\")\n",
    "      \n",
    "# print(f\"\\nmaximally activating dataset example: {np.argmax(conv_maps_avg[:,neuron])}\")\n",
    "\n",
    "print(f\"\\n{top} maximally activating dataset example: \")\n",
    "top_ims = conv_maps_avg[:,neuron].argsort()[-top:][::-1]\n",
    "print(top_ims) # array([...])\n",
    "\n",
    "print(f\"\\n{top} corresponding highest activations: \")\n",
    "print(conv_maps_avg[top_ims,neuron])\n",
    "\n",
    "fig, ax = plt.subplots(top, 2, figsize=(2*6, top*6))\n",
    "ax = ax.flatten()\n",
    "for idx, image_id in enumerate(top_ims):\n",
    "    im = Image.open(paths[image_id])\n",
    "    ax[idx*2].imshow(im)\n",
    "    ax[idx*2].axis('off')\n",
    "    ax[idx*2].set_title(f\"#{str(idx+1)} highest act.; Im. #{str(image_id)}; Act.: {str(round(conv_maps_avg[top_ims[idx],neuron],3))}\") \n",
    "    ax[idx*2+1].plot(conv_maps_avg[image_id])\n",
    "    ax[idx*2+1].set_title(f\"Top neurons: {conv_maps_avg[image_id].argsort()[-10:][::-1]}\", size=12)\n",
    "plt.show()"
   ]
  },
  {
   "cell_type": "code",
   "execution_count": null,
   "id": "469a7e03",
   "metadata": {},
   "outputs": [],
   "source": [
    "def plot_ims_and_activations(neuron,top):\n",
    "    print(f\"\\nNeuron {str(neuron)}\")\n",
    "\n",
    "    # print(f\"\\nmaximally activating dataset example: {np.argmax(conv_maps_avg[:,neuron])}\")\n",
    "\n",
    "    print(f\"\\n{top} maximally activating dataset example: \")\n",
    "    top_ims = conv_maps_avg[:,neuron].argsort()[-top:][::-1]\n",
    "    print(top_ims) # array([...])\n",
    "\n",
    "    print(f\"\\n{top} corresponding highest activations: \")\n",
    "    print(conv_maps_avg[top_ims,neuron])\n",
    "    \n",
    "    fig, ax = plt.subplots(top, 2, figsize=(2*6, top*6))\n",
    "    ax = ax.flatten()\n",
    "    for idx, image_id in enumerate(top_ims):\n",
    "        im = Image.open(paths[image_id])\n",
    "        ax[idx*2].imshow(im)\n",
    "        ax[idx*2].axis('off')\n",
    "        ax[idx*2].set_title(f\"#{str(idx+1)} highest act.; Im. #{str(image_id)}; Act.: {str(round(conv_maps_avg[top_ims[idx],neuron],3))}\") \n",
    "        ax[idx*2+1].plot(conv_maps_avg[image_id])\n",
    "        ax[idx*2+1].set_title(f\"Top neurons: {conv_maps_avg[image_id].argsort()[-10:][::-1]}\", size=12)\n",
    "    plt.show()"
   ]
  },
  {
   "cell_type": "markdown",
   "id": "bc1ef3df",
   "metadata": {},
   "source": [
    "### Scale and normalise data"
   ]
  },
  {
   "cell_type": "code",
   "execution_count": null,
   "id": "1bf2b7f1",
   "metadata": {},
   "outputs": [],
   "source": [
    "# need to scale each neuron to mean 0 std 1\n",
    "# need neurons at axis 1 so transpose\n",
    "# conv_maps_avg_tr = np.transpose(conv_maps_avg)\n",
    "# scaled_data_tr = scale.fit_transform(conv_maps_avg_tr) \n",
    "# scaled_data = np.transpose(scaled_data_tr)\n",
    "# print(scaled_data_tr.shape) # scaled_data_tr.shape (2048, 10000)\n",
    "# print(scaled_data.shape) # scaled_data.shape (10000, 2048)\n",
    "# print(\"scaled_data_tr.mean(0)\", scaled_data_tr.mean(0))\n",
    "# print(\"scaled_data_tr.mean(1)\", scaled_data_tr.mean(1))\n",
    "# print(\"scaled_data.mean(0)\", scaled_data.mean(0))\n",
    "# print(\"scaled_data.mean(1)\", scaled_data.mean(1))\n",
    "# print(\"scaled_data.mean(0).shape\", scaled_data.mean(0).shape) # (2048,)\n",
    "# print(\"scaled_data.mean(1).shape\", scaled_data.mean(1).shape) # (10000,)\n",
    "# print(scaled_data) "
   ]
  },
  {
   "cell_type": "code",
   "execution_count": null,
   "id": "e4272d56",
   "metadata": {},
   "outputs": [],
   "source": [
    "# scaled_data_test = scale.fit_transform(conv_maps_avg) \n",
    "# scaled_data_test.shape # (10000, 2048)\n",
    "# scaled_data_test[:,1210:1220].shape # (10000, 10)\n",
    "# scaled_data_test.mean(0).shape # (2048,)\n",
    "# scaled_data_test.mean(0)[1210:1220] # array([-5.46385159e-16, -1.14526166e-15,  1.69295689e-15, -2.77267098e-16,\n",
    "#         6.95166147e-17,  2.48987497e-15,  9.26964061e-16,  1.48356882e-15,\n",
    "#         6.90825175e-16,  2.31342723e-16])\n",
    "# scaled_data_test.std(0)[1210:1220] # array([1., 1., 1., 1., 1., 1., 1., 1., 1., 1.])"
   ]
  }
 ],
 "metadata": {
  "kernelspec": {
   "display_name": "Python 3 (ipykernel)",
   "language": "python",
   "name": "python3"
  },
  "language_info": {
   "codemirror_mode": {
    "name": "ipython",
    "version": 3
   },
   "file_extension": ".py",
   "mimetype": "text/x-python",
   "name": "python",
   "nbconvert_exporter": "python",
   "pygments_lexer": "ipython3",
   "version": "3.8.16"
  }
 },
 "nbformat": 4,
 "nbformat_minor": 5
}
