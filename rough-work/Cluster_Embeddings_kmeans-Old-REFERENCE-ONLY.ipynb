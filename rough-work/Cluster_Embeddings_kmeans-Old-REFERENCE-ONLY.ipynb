{
 "cells": [
  {
   "cell_type": "markdown",
   "id": "fe2a0aa5",
   "metadata": {},
   "source": [
    "## Set up"
   ]
  },
  {
   "cell_type": "code",
   "execution_count": 2,
   "id": "1fa7bbc6",
   "metadata": {
    "scrolled": true
   },
   "outputs": [
    {
     "name": "stderr",
     "output_type": "stream",
     "text": [
      "/tmp/ipykernel_29715/943380063.py:23: DeprecationWarning: the imp module is deprecated in favour of importlib; see the module's documentation for alternative uses\n",
      "  import imp\n"
     ]
    }
   ],
   "source": [
    "import sys\n",
    "sys.path.append('./scripts/')\n",
    "\n",
    "import math\n",
    "import copy\n",
    "import random # random seed to reproduce MDS and t-SNE plots\n",
    "import numpy as np\n",
    "import matplotlib.pyplot as plt\n",
    "import seaborn as sns\n",
    "sns.set_style(\"darkgrid\")\n",
    "from PIL import Image\n",
    "\n",
    "from sklearn.preprocessing import StandardScaler\n",
    "from sklearn.preprocessing import MinMaxScaler\n",
    "from sklearn.cluster import DBSCAN\n",
    "from sklearn import manifold # MDS and t-SNE\n",
    "from sklearn import cluster # k-Means clustering\n",
    "from sklearn import preprocessing # scaling attributes\n",
    "from sklearn.metrics import silhouette_score # silhouette width for clustering\n",
    "from sklearn.decomposition import PCA\n",
    "import hdbscan\n",
    "\n",
    "import imp\n",
    "import my_datasets\n",
    "import utilities \n",
    "imp.reload(my_datasets) \n",
    "imp.reload(utilities) \n",
    "\n",
    "plt.rcParams[\"figure.figsize\"] = (3,3)"
   ]
  },
  {
   "cell_type": "code",
   "execution_count": 3,
   "id": "8dc0a71d",
   "metadata": {},
   "outputs": [],
   "source": [
    "lim = 10"
   ]
  },
  {
   "cell_type": "code",
   "execution_count": 4,
   "id": "280e787e",
   "metadata": {},
   "outputs": [
    {
     "ename": "TypeError",
     "evalue": "get_dataset() got an unexpected keyword argument 'lim'",
     "output_type": "error",
     "traceback": [
      "\u001b[0;31m---------------------------------------------------------------------------\u001b[0m",
      "\u001b[0;31mTypeError\u001b[0m                                 Traceback (most recent call last)",
      "Cell \u001b[0;32mIn[4], line 2\u001b[0m\n\u001b[1;32m      1\u001b[0m dataset\u001b[38;5;241m=\u001b[39m\u001b[38;5;124m'\u001b[39m\u001b[38;5;124milsvrc12\u001b[39m\u001b[38;5;124m'\u001b[39m\n\u001b[0;32m----> 2\u001b[0m paths, count, y, idx_to_labels \u001b[38;5;241m=\u001b[39m \u001b[43mmy_datasets\u001b[49m\u001b[38;5;241;43m.\u001b[39;49m\u001b[43mget_dataset\u001b[49m\u001b[43m(\u001b[49m\u001b[43mdataset\u001b[49m\u001b[43m,\u001b[49m\u001b[43mlim\u001b[49m\u001b[38;5;241;43m=\u001b[39;49m\u001b[38;5;241;43m10\u001b[39;49m\u001b[43m)\u001b[49m\n\u001b[1;32m      4\u001b[0m \u001b[38;5;28mprint\u001b[39m(count, \u001b[38;5;28mlen\u001b[39m(paths))\n",
      "\u001b[0;31mTypeError\u001b[0m: get_dataset() got an unexpected keyword argument 'lim'"
     ]
    }
   ],
   "source": [
    "dataset='ilsvrc12'\n",
    "paths, count, y, idx_to_labels = my_datasets.get_dataset(dataset,lim=10)\n",
    "\n",
    "print(count, len(paths))"
   ]
  },
  {
   "cell_type": "code",
   "execution_count": null,
   "id": "4489bb17",
   "metadata": {},
   "outputs": [],
   "source": [
    "layer='Mixed_7b.cat_2'\n",
    "SAVEFOLD0=f'../outputs/{dataset}'\n",
    "\n",
    "SAVEFOLD=f\"{SAVEFOLD0}/{layer}/\""
   ]
  },
  {
   "cell_type": "code",
   "execution_count": null,
   "id": "72ec586f",
   "metadata": {},
   "outputs": [],
   "source": [
    "# temp\n",
    "import torch\n",
    "model = torch.hub.load('pytorch/vision:v0.9.0', 'inception_v3', pretrained=True)\n",
    "model.eval()"
   ]
  },
  {
   "cell_type": "code",
   "execution_count": null,
   "id": "84d0385e",
   "metadata": {},
   "outputs": [],
   "source": [
    "# gradients_wrt_conv_layer=np.load(f\"{SAVEFOLD}/gradients_wrt_conv_layer.npy\")\n",
    "predictions=np.load(f\"{SAVEFOLD}/predictions_{lim}.npy\", mmap_mode = 'r')\n",
    "conv_maps=np.load(f\"{SAVEFOLD}/conv_maps_{lim}.npy\", mmap_mode = 'r')\n",
    "\n",
    "pvh=np.load(f\"{SAVEFOLD}/eigenvectors.npy\",allow_pickle=True, mmap_mode = 'r')"
   ]
  },
  {
   "cell_type": "code",
   "execution_count": null,
   "id": "ce49fff2",
   "metadata": {},
   "outputs": [],
   "source": [
    "transforms = \"standardise\" # None / \"standardise\" / \"normalise\""
   ]
  },
  {
   "cell_type": "code",
   "execution_count": null,
   "id": "0cb1f43a",
   "metadata": {},
   "outputs": [],
   "source": [
    "conv_maps_avg = conv_maps.mean(3).mean(2)"
   ]
  },
  {
   "cell_type": "code",
   "execution_count": null,
   "id": "90e4fd8a",
   "metadata": {},
   "outputs": [],
   "source": [
    "scale = StandardScaler()\n",
    "normalise = MinMaxScaler()\n",
    "\n",
    "standardised_data = scale.fit_transform(conv_maps_avg) \n",
    "normalised_data = normalise.fit_transform(conv_maps_avg) # .shape (10000, 2048)"
   ]
  },
  {
   "cell_type": "code",
   "execution_count": null,
   "id": "4ba8e1ec",
   "metadata": {},
   "outputs": [],
   "source": [
    "if transforms == \"standardise\":\n",
    "    activations = standardised_data\n",
    "    print(\"Standardise\")\n",
    "elif transforms == \"normalise\": \n",
    "    activations = normalised_data\n",
    "    print(\"Normaliseise\")\n",
    "else: \n",
    "    activations = conv_maps_avg\n",
    "    print(\"Raw activations\")"
   ]
  },
  {
   "cell_type": "code",
   "execution_count": null,
   "id": "705f628f",
   "metadata": {},
   "outputs": [],
   "source": [
    "# pca = PCA(n_components=200)\n",
    "# activations = pca.fit_transform(activations)"
   ]
  },
  {
   "cell_type": "code",
   "execution_count": null,
   "id": "e3d8116d",
   "metadata": {
    "scrolled": false
   },
   "outputs": [],
   "source": [
    "# conv_maps_avg"
   ]
  },
  {
   "cell_type": "code",
   "execution_count": null,
   "id": "161b91c2",
   "metadata": {},
   "outputs": [],
   "source": [
    "# activations"
   ]
  },
  {
   "cell_type": "code",
   "execution_count": null,
   "id": "97686ac9",
   "metadata": {},
   "outputs": [],
   "source": [
    "random.seed(2021)"
   ]
  },
  {
   "cell_type": "markdown",
   "id": "ab0c8599",
   "metadata": {},
   "source": [
    "## Utilities"
   ]
  },
  {
   "cell_type": "markdown",
   "id": "5207a35a",
   "metadata": {},
   "source": [
    "Scatterplot to visualise clusters"
   ]
  },
  {
   "cell_type": "code",
   "execution_count": null,
   "id": "23d46488",
   "metadata": {},
   "outputs": [],
   "source": [
    "colors = np.array(['orange', 'blue', 'lime', 'khaki', 'pink', \n",
    "                   'green', 'purple', 'yellow'])\n",
    "\n",
    "# points - a 2D array of (x,y) coordinates of data points\n",
    "# labels - an array of numeric labels in the interval [0..k-1], one for each point\n",
    "# centers - a 2D array of (x, y) coordinates of cluster centers\n",
    "# title - title of the plot\n",
    "def clustering_scatterplot(points, labels, centers, title):\n",
    "    n_clusters = np.unique(labels).size\n",
    "    for i in range(n_clusters):\n",
    "        h = plt.scatter(points[labels==i,0],\n",
    "                        points[labels==i,1], \n",
    "                        c=colors[i%colors.size],\n",
    "                        label = 'cluster '+str(i))\n",
    "    # plot the centers of the clusters\n",
    "    if centers is not None:\n",
    "        plt.scatter(centers[:,0], centers[:,1], c='r', marker='*', s=500)\n",
    "\n",
    "    _ = plt.title(title)\n",
    "    _ = plt.legend()\n",
    "    _ = plt.xlabel('x')\n",
    "    _ = plt.ylabel('y')"
   ]
  },
  {
   "cell_type": "markdown",
   "id": "cacc7fe2",
   "metadata": {},
   "source": [
    "## Clustering"
   ]
  },
  {
   "cell_type": "code",
   "execution_count": null,
   "id": "a26f7c7b",
   "metadata": {},
   "outputs": [],
   "source": [
    "neuron = 57\n",
    "top = 50\n",
    "top_ims = utilities.get_activations(activations_avg = activations, direction = neuron).argsort()[-top:][::-1]"
   ]
  },
  {
   "cell_type": "code",
   "execution_count": null,
   "id": "37ebe992",
   "metadata": {},
   "outputs": [],
   "source": [
    "top_activations = utilities.get_activations(activations_avg = activations, ims=top_ims)\n",
    "# top_activations.shape # (25, 2048)\n",
    "# top_activations"
   ]
  },
  {
   "cell_type": "code",
   "execution_count": null,
   "id": "37161826",
   "metadata": {
    "scrolled": false
   },
   "outputs": [],
   "source": [
    "# XY_MDS = manifold.MDS(n_components=2).fit_transform(top_activations)\n",
    "# plt.scatter(x=XY_MDS[:,0],y=XY_MDS[:,1])"
   ]
  },
  {
   "cell_type": "code",
   "execution_count": null,
   "id": "5f95a2f8",
   "metadata": {},
   "outputs": [],
   "source": [
    "# XY_TSNE = manifold.TSNE(n_components=2,perplexity=10).fit_transform(top_activations)\n",
    "# plt.scatter(x=XY_TSNE[:,0],y=XY_TSNE[:,1])"
   ]
  },
  {
   "cell_type": "markdown",
   "id": "1ba4f94a",
   "metadata": {},
   "source": [
    "## Try clustering algorithms"
   ]
  },
  {
   "cell_type": "markdown",
   "id": "7be6e330",
   "metadata": {},
   "source": [
    "### AgglomerativeClustering"
   ]
  },
  {
   "cell_type": "code",
   "execution_count": null,
   "id": "5e7a9a29",
   "metadata": {
    "scrolled": true
   },
   "outputs": [],
   "source": [
    "from sklearn.cluster import AgglomerativeClustering\n",
    "from scipy.cluster.hierarchy import dendrogram, linkage\n",
    "clusterer = AgglomerativeClustering(n_clusters=2, metric='euclidean', linkage='ward')\n",
    "clusterer.fit_predict(top_activations)"
   ]
  },
  {
   "cell_type": "code",
   "execution_count": null,
   "id": "f2edbe81",
   "metadata": {},
   "outputs": [],
   "source": [
    "# temp distance_threshold = \n",
    "from sklearn.metrics.pairwise import pairwise_distances # cosine_distances\n",
    "distance_matrix = pairwise_distances(top_activations, metric = 'euclidean')\n",
    "distance_matrix"
   ]
  },
  {
   "cell_type": "code",
   "execution_count": null,
   "id": "2d3f5c9f",
   "metadata": {},
   "outputs": [],
   "source": [
    "clusterer = AgglomerativeClustering(metric='precomputed', linkage='ward', distance_threshold=50)\n",
    "clusterer.fit(distance_matrix)\n",
    "print(clusterer.labels_)\n",
    "print(distance_matrix)\n",
    "print(np.min(distance_matrix[np.nonzero(distance_matrix)]))"
   ]
  },
  {
   "cell_type": "code",
   "execution_count": null,
   "id": "25bf9e28",
   "metadata": {},
   "outputs": [],
   "source": [
    "clu_labs = clusterer.labels_\n",
    "clu_lab_order = sorted(range(len(clu_labs)), key=lambda k: clu_labs[k])"
   ]
  },
  {
   "cell_type": "code",
   "execution_count": null,
   "id": "60c6cf2d",
   "metadata": {},
   "outputs": [],
   "source": [
    "fig, ax = plt.subplots(math.ceil(len(top_ims)//5), 5, figsize = (10,20))\n",
    "ax = ax.flatten()\n",
    "for idx, im_id in enumerate(top_ims[clu_lab_order]):\n",
    "    im = Image.open(paths[im_id])\n",
    "    ax[idx].imshow(im)\n",
    "    ax[idx].set_title(f\"{im_id}: cluster {clu_labs[clu_lab_order][idx]}\", size = 8)\n",
    "    ax[idx].axis('off')"
   ]
  },
  {
   "cell_type": "code",
   "execution_count": null,
   "id": "d6a04f40",
   "metadata": {
    "scrolled": true
   },
   "outputs": [],
   "source": [
    "# Apply multi-dimensional scaling (MDS) to project the data to a 2D space\n",
    "XYcoordinates = manifold.MDS(n_components=2).fit_transform(top_activations)\n",
    "print(\"transformation complete\")\n",
    "clustering_scatterplot(points=XYcoordinates[:,:], \n",
    "                       labels=clusterer.labels_, \n",
    "                       centers=None, \n",
    "                       title='MDS')"
   ]
  },
  {
   "cell_type": "code",
   "execution_count": null,
   "id": "1efcef15",
   "metadata": {
    "scrolled": false
   },
   "outputs": [],
   "source": [
    "# Apply t-SNE to project the data to a 2D space\n",
    "XYcoordinates = manifold.TSNE(n_components=2, perplexity=10).fit_transform(top_activations)\n",
    "print(\"transformation complete\")\n",
    "clustering_scatterplot(points=XYcoordinates[:,:], \n",
    "                       labels=clusterer.labels_,\n",
    "                       centers=None, \n",
    "                       title='TSNE')"
   ]
  },
  {
   "cell_type": "code",
   "execution_count": null,
   "id": "8f127563",
   "metadata": {},
   "outputs": [],
   "source": []
  },
  {
   "cell_type": "code",
   "execution_count": null,
   "id": "5d9b7b4d",
   "metadata": {},
   "outputs": [],
   "source": []
  },
  {
   "cell_type": "code",
   "execution_count": null,
   "id": "5d276c51",
   "metadata": {},
   "outputs": [],
   "source": []
  },
  {
   "cell_type": "code",
   "execution_count": null,
   "id": "383f7c14",
   "metadata": {},
   "outputs": [],
   "source": []
  },
  {
   "cell_type": "code",
   "execution_count": null,
   "id": "0d55cad2",
   "metadata": {},
   "outputs": [],
   "source": []
  },
  {
   "cell_type": "markdown",
   "id": "e26d6fd1",
   "metadata": {},
   "source": [
    "### FeatureAgglomeration"
   ]
  },
  {
   "cell_type": "code",
   "execution_count": null,
   "id": "932724bd",
   "metadata": {},
   "outputs": [],
   "source": [
    "from sklearn.cluster import FeatureAgglomeration\n",
    "from scipy.cluster.hierarchy import dendrogram, linkage\n",
    "clusterer = FeatureAgglomeration(n_clusters=2, metric='euclidean', linkage='ward')\n",
    "clusterer.fit_predict(top_activations) "
   ]
  },
  {
   "cell_type": "code",
   "execution_count": null,
   "id": "abe199ac",
   "metadata": {},
   "outputs": [],
   "source": [
    "clu_labs = clusterer.labels_\n",
    "clu_lab_order = sorted(range(len(clu_labs)), key=lambda k: clu_labs[k])"
   ]
  },
  {
   "cell_type": "code",
   "execution_count": null,
   "id": "58fd861b",
   "metadata": {},
   "outputs": [],
   "source": [
    "fig, ax = plt.subplots(math.ceil(len(top_ims)//5), 5, figsize = (10,20))\n",
    "ax = ax.flatten()\n",
    "for idx, im_id in enumerate(top_ims[clu_lab_order]):\n",
    "    im = Image.open(paths[im_id])\n",
    "    ax[idx].imshow(im)\n",
    "    ax[idx].set_title(f\"{im_id}: cluster {clu_labs[clu_lab_order][idx]}\", size = 8)\n",
    "    ax[idx].axis('off')"
   ]
  },
  {
   "cell_type": "code",
   "execution_count": null,
   "id": "a087a749",
   "metadata": {},
   "outputs": [],
   "source": []
  },
  {
   "cell_type": "code",
   "execution_count": null,
   "id": "281e5508",
   "metadata": {},
   "outputs": [],
   "source": []
  },
  {
   "cell_type": "markdown",
   "id": "4f4768e1",
   "metadata": {},
   "source": [
    "### HDBSCAN"
   ]
  },
  {
   "cell_type": "markdown",
   "id": "4953b1b9",
   "metadata": {},
   "source": [
    "!pip install hdbscan"
   ]
  },
  {
   "cell_type": "code",
   "execution_count": null,
   "id": "0dc035f0",
   "metadata": {
    "scrolled": false
   },
   "outputs": [],
   "source": [
    "# test\n",
    "# clusterer = hdbscan.HDBSCAN()\n",
    "# clusterer.fit(top_activations)\n",
    "# clusterer.labels_\n",
    "# clusterer"
   ]
  },
  {
   "cell_type": "code",
   "execution_count": null,
   "id": "87a64393",
   "metadata": {
    "scrolled": true
   },
   "outputs": [],
   "source": [
    "# activations.shape # (10000, 2048)\n",
    "# top_activations.shape # (50, 2048)\n",
    "#hclusterer.labels_.shape"
   ]
  },
  {
   "cell_type": "code",
   "execution_count": null,
   "id": "57a8ed87",
   "metadata": {
    "scrolled": false
   },
   "outputs": [],
   "source": [
    "from sklearn.metrics.pairwise import pairwise_distances # cosine_distances\n",
    "distance_matrix = pairwise_distances(top_activations, metric = 'euclidean')\n",
    "clusterer = hdbscan.HDBSCAN(metric='precomputed', cluster_selection_epsilon=5, allow_single_cluster = True)\n",
    "clusterer.fit(distance_matrix)\n",
    "print(clusterer.labels_)\n",
    "print(distance_matrix)\n",
    "print(np.min(distance_matrix[np.nonzero(distance_matrix)]))"
   ]
  },
  {
   "cell_type": "code",
   "execution_count": null,
   "id": "4eb7c259",
   "metadata": {
    "scrolled": true
   },
   "outputs": [],
   "source": [
    "# print(np.max(distance_matrix)) # 1.1333303243154806\n",
    "# distance_matrix.shape # (50, 50)\n",
    "# 1-distance_matrix\n",
    "# np.max(1-distance_matrix) # 1.0\n",
    "# np.min(1-distance_matrix) # -0.13333032431548064"
   ]
  },
  {
   "cell_type": "code",
   "execution_count": null,
   "id": "4e3d34de",
   "metadata": {},
   "outputs": [],
   "source": [
    "# ax = plt.subplot()\n",
    "# im = ax.imshow(1-distance_matrix, cmap='viridis', interpolation='nearest') \n",
    "# plt.title(\"Cosine similarities\")\n",
    "# plt.subplots_adjust(right=0.8)\n",
    "# cbar_ax = plt.axes([0.85, 0.1, 0.075, 0.8])\n",
    "# plt.colorbar(mappable=(im), cax=cbar_ax)\n",
    "# plt.show()"
   ]
  },
  {
   "cell_type": "code",
   "execution_count": null,
   "id": "2367afdf",
   "metadata": {
    "scrolled": true
   },
   "outputs": [],
   "source": [
    "clu_labs = hdbscan_clusterer.labels_\n",
    "print(clu_labs)\n",
    "clu_lab_order = sorted(range(len(clu_labs)), key=lambda k: clu_labs[k])"
   ]
  },
  {
   "cell_type": "code",
   "execution_count": null,
   "id": "267faf03",
   "metadata": {},
   "outputs": [],
   "source": [
    "fig, ax = plt.subplots(math.ceil(len(top_ims)//5), 5, figsize = (10,20))\n",
    "ax = ax.flatten()\n",
    "for idx, im_id in enumerate(top_ims[clu_lab_order]):\n",
    "    im = Image.open(paths[im_id])\n",
    "    ax[idx].imshow(im)\n",
    "    ax[idx].set_title(f\"{im_id}: cluster {clu_labs[clu_lab_order][idx]}\", size = 8)\n",
    "    ax[idx].axis('off')"
   ]
  },
  {
   "cell_type": "code",
   "execution_count": null,
   "id": "04213c5b",
   "metadata": {
    "scrolled": false
   },
   "outputs": [],
   "source": [
    "from sklearn.metrics.pairwise import pairwise_distances # cosine_distances\n",
    "distance_matrix = pairwise_distances(top_activations, metric = 'euclidean')\n",
    "distance_matrix"
   ]
  },
  {
   "cell_type": "code",
   "execution_count": null,
   "id": "dcc5ad8e",
   "metadata": {},
   "outputs": [],
   "source": [
    "# Append the cluster centers to the dataset.\n",
    "# clustered_data_sklearn = DBSCAN(eps=10).fit(top_activations) # , metric = \"cosine\"\n",
    "# print(clustered_data_sklearn.labels_)\n",
    "# clustered_data_sklearn"
   ]
  }
 ],
 "metadata": {
  "kernelspec": {
   "display_name": "Python 3 (ipykernel)",
   "language": "python",
   "name": "python3"
  },
  "language_info": {
   "codemirror_mode": {
    "name": "ipython",
    "version": 3
   },
   "file_extension": ".py",
   "mimetype": "text/x-python",
   "name": "python",
   "nbconvert_exporter": "python",
   "pygments_lexer": "ipython3",
   "version": "3.8.16"
  }
 },
 "nbformat": 4,
 "nbformat_minor": 5
}
