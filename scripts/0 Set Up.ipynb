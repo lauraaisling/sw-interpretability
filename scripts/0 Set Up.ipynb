{
 "cells": [
  {
   "cell_type": "code",
   "execution_count": 1,
   "id": "650e1f44",
   "metadata": {
    "ExecuteTime": {
     "end_time": "2023-02-06T15:46:07.148100Z",
     "start_time": "2023-02-06T15:46:07.107397Z"
    }
   },
   "outputs": [
    {
     "data": {
      "text/plain": [
       "'/mnt/c/Users/lauraa.omahony/Documents/~PhD_Stuff/1_Workspace/sw-interpretability/scripts'"
      ]
     },
     "execution_count": 1,
     "metadata": {},
     "output_type": "execute_result"
    }
   ],
   "source": [
    "import os \n",
    "os.getcwd() "
   ]
  },
  {
   "cell_type": "code",
   "execution_count": 2,
   "id": "69762ce8",
   "metadata": {
    "ExecuteTime": {
     "end_time": "2023-02-06T15:46:13.857659Z",
     "start_time": "2023-02-06T15:46:13.850582Z"
    }
   },
   "outputs": [
    {
     "data": {
      "text/plain": [
       "'/mnt/c/Users/lauraa.omahony/Documents/~PhD_Stuff/1_Workspace/sw-interpretability'"
      ]
     },
     "execution_count": 2,
     "metadata": {},
     "output_type": "execute_result"
    }
   ],
   "source": [
    "base_dir = os.path.normpath(os.getcwd() + os.sep + os.pardir)\n",
    "base_dir"
   ]
  },
  {
   "cell_type": "markdown",
   "id": "9c8bfcb9",
   "metadata": {},
   "source": [
    "## Captum"
   ]
  },
  {
   "cell_type": "code",
   "execution_count": 5,
   "id": "4b949769",
   "metadata": {
    "ExecuteTime": {
     "end_time": "2023-02-06T15:46:29.224802Z",
     "start_time": "2023-02-06T15:46:29.194269Z"
    },
    "scrolled": false
   },
   "outputs": [
    {
     "ename": "FileExistsError",
     "evalue": "[Errno 17] File exists: '/mnt/c/Users/lauraa.omahony/Documents/~PhD_Stuff/1_Workspace/sw-interpretability/src/captum'",
     "output_type": "error",
     "traceback": [
      "\u001b[0;31m---------------------------------------------------------------------------\u001b[0m",
      "\u001b[0;31mFileExistsError\u001b[0m                           Traceback (most recent call last)",
      "Cell \u001b[0;32mIn[5], line 1\u001b[0m\n\u001b[0;32m----> 1\u001b[0m \u001b[43mos\u001b[49m\u001b[38;5;241;43m.\u001b[39;49m\u001b[43mmkdir\u001b[49m\u001b[43m(\u001b[49m\u001b[38;5;124;43mf\u001b[39;49m\u001b[38;5;124;43m\"\u001b[39;49m\u001b[38;5;132;43;01m{\u001b[39;49;00m\u001b[43mbase_dir\u001b[49m\u001b[38;5;132;43;01m}\u001b[39;49;00m\u001b[38;5;124;43m/src/captum\u001b[39;49m\u001b[38;5;124;43m\"\u001b[39;49m\u001b[43m)\u001b[49m\n",
      "\u001b[0;31mFileExistsError\u001b[0m: [Errno 17] File exists: '/mnt/c/Users/lauraa.omahony/Documents/~PhD_Stuff/1_Workspace/sw-interpretability/src/captum'"
     ]
    }
   ],
   "source": [
    "os.mkdir(f\"{base_dir}/src/captum\") "
   ]
  },
  {
   "cell_type": "code",
   "execution_count": 6,
   "id": "5381d5ee",
   "metadata": {
    "ExecuteTime": {
     "end_time": "2023-02-06T15:46:52.625737Z",
     "start_time": "2023-02-06T15:46:52.618718Z"
    },
    "scrolled": true
   },
   "outputs": [
    {
     "data": {
      "text/plain": [
       "'/mnt/c/Users/lauraa.omahony/Documents/~PhD_Stuff/1_Workspace/sw-interpretability/src/captum'"
      ]
     },
     "execution_count": 6,
     "metadata": {},
     "output_type": "execute_result"
    }
   ],
   "source": [
    "os.chdir(\"../src/captum\")\n",
    "os.getcwd()"
   ]
  },
  {
   "cell_type": "code",
   "execution_count": 14,
   "id": "e7e68861",
   "metadata": {
    "ExecuteTime": {
     "end_time": "2023-02-06T16:00:24.913631Z",
     "start_time": "2023-02-06T15:59:58.035110Z"
    },
    "scrolled": true
   },
   "outputs": [
    {
     "name": "stdout",
     "output_type": "stream",
     "text": [
      "fatal: destination path '.' already exists and is not an empty directory.\n",
      "Already on 'optim-wip'\n",
      "Your branch is up to date with 'origin/optim-wip'.\n",
      "Obtaining file:///mnt/c/Users/lauraa.omahony/Documents/~PhD_Stuff/1_Workspace/sw-interpretability/src/captum\n",
      "  Installing build dependencies ... \u001b[?25ldone\n",
      "\u001b[?25h  Checking if build backend supports build_editable ... \u001b[?25ldone\n",
      "\u001b[?25h  Getting requirements to build editable ... \u001b[?25ldone\n",
      "\u001b[?25h  Preparing editable metadata (pyproject.toml) ... \u001b[?25ldone\n",
      "\u001b[?25hRequirement already satisfied: torch>=1.6 in /home/lauraom/anaconda3/envs/sw-interpretability/lib/python3.8/site-packages (from captum==0.5.0) (1.13.1)\n",
      "Requirement already satisfied: matplotlib in /home/lauraom/anaconda3/envs/sw-interpretability/lib/python3.8/site-packages (from captum==0.5.0) (3.6.2)\n",
      "Requirement already satisfied: numpy in /home/lauraom/anaconda3/envs/sw-interpretability/lib/python3.8/site-packages (from captum==0.5.0) (1.23.5)\n",
      "Requirement already satisfied: typing_extensions in /home/lauraom/anaconda3/envs/sw-interpretability/lib/python3.8/site-packages (from torch>=1.6->captum==0.5.0) (4.4.0)\n",
      "Requirement already satisfied: python-dateutil>=2.7 in /home/lauraom/anaconda3/envs/sw-interpretability/lib/python3.8/site-packages (from matplotlib->captum==0.5.0) (2.8.2)\n",
      "Requirement already satisfied: kiwisolver>=1.0.1 in /home/lauraom/anaconda3/envs/sw-interpretability/lib/python3.8/site-packages (from matplotlib->captum==0.5.0) (1.4.4)\n",
      "Requirement already satisfied: contourpy>=1.0.1 in /home/lauraom/anaconda3/envs/sw-interpretability/lib/python3.8/site-packages (from matplotlib->captum==0.5.0) (1.0.5)\n",
      "Requirement already satisfied: cycler>=0.10 in /home/lauraom/anaconda3/envs/sw-interpretability/lib/python3.8/site-packages (from matplotlib->captum==0.5.0) (0.11.0)\n",
      "Requirement already satisfied: pillow>=6.2.0 in /home/lauraom/anaconda3/envs/sw-interpretability/lib/python3.8/site-packages (from matplotlib->captum==0.5.0) (9.3.0)\n",
      "Requirement already satisfied: fonttools>=4.22.0 in /home/lauraom/anaconda3/envs/sw-interpretability/lib/python3.8/site-packages (from matplotlib->captum==0.5.0) (4.25.0)\n",
      "Requirement already satisfied: pyparsing>=2.2.1 in /home/lauraom/anaconda3/envs/sw-interpretability/lib/python3.8/site-packages (from matplotlib->captum==0.5.0) (3.0.9)\n",
      "Requirement already satisfied: packaging>=20.0 in /home/lauraom/anaconda3/envs/sw-interpretability/lib/python3.8/site-packages (from matplotlib->captum==0.5.0) (22.0)\n",
      "Requirement already satisfied: six>=1.5 in /home/lauraom/anaconda3/envs/sw-interpretability/lib/python3.8/site-packages (from python-dateutil>=2.7->matplotlib->captum==0.5.0) (1.16.0)\n",
      "Building wheels for collected packages: captum\n",
      "  Building editable for captum (pyproject.toml) ... \u001b[?25ldone\n",
      "\u001b[?25h  Created wheel for captum: filename=captum-0.5.0-0.editable-py3-none-any.whl size=11605 sha256=051e4518928cb59842184f241eaf51d516ec7479bb53106b8e8d177ae8d7e40f\n",
      "  Stored in directory: /tmp/pip-ephem-wheel-cache-3zi3d6mw/wheels/61/94/9a/15d1074dab2ac70ca1272476a4d6ecde3376d5c74c9a9d9d60\n",
      "Successfully built captum\n",
      "Installing collected packages: captum\n",
      "  Attempting uninstall: captum\n",
      "    Found existing installation: captum 0.5.0\n",
      "    Uninstalling captum-0.5.0:\n",
      "      Successfully uninstalled captum-0.5.0\n",
      "Successfully installed captum-0.5.0\n"
     ]
    }
   ],
   "source": [
    "!git clone https://github.com/pytorch/captum .\n",
    "# %cd captum\n",
    "!git checkout \"optim-wip\"\n",
    "!pip3 install -e ."
   ]
  },
  {
   "cell_type": "markdown",
   "id": "69818732",
   "metadata": {},
   "source": [
    "Downloaded into scripts. \n",
    "Moved into src folder... "
   ]
  },
  {
   "cell_type": "code",
   "execution_count": 15,
   "id": "8c64a35f",
   "metadata": {
    "ExecuteTime": {
     "end_time": "2023-02-06T16:00:29.773925Z",
     "start_time": "2023-02-06T16:00:26.275642Z"
    }
   },
   "outputs": [
    {
     "name": "stdout",
     "output_type": "stream",
     "text": [
      "Package                           Version     Editable project location\n",
      "--------------------------------- ----------- -------------------------------------------------------------------------------------------\n",
      "anyio                             3.5.0\n",
      "argon2-cffi                       21.3.0\n",
      "argon2-cffi-bindings              21.2.0\n",
      "astroid                           2.14.1\n",
      "asttokens                         2.0.5\n",
      "attrs                             22.1.0\n",
      "autopep8                          2.0.1\n",
      "Babel                             2.11.0\n",
      "backcall                          0.2.0\n",
      "beautifulsoup4                    4.11.1\n",
      "bleach                            4.1.0\n",
      "Bottleneck                        1.3.5\n",
      "brotlipy                          0.7.0\n",
      "captum                            0.5.0       /mnt/c/Users/lauraa.omahony/Documents/~PhD_Stuff/1_Workspace/sw-interpretability/src/captum\n",
      "certifi                           2022.6.15\n",
      "cffi                              1.15.1\n",
      "charset-normalizer                2.0.4\n",
      "comm                              0.1.2\n",
      "contourpy                         1.0.5\n",
      "cryptography                      38.0.4\n",
      "cycler                            0.11.0\n",
      "debugpy                           1.5.1\n",
      "decorator                         5.1.1\n",
      "defusedxml                        0.7.1\n",
      "dill                              0.3.6\n",
      "entrypoints                       0.4\n",
      "executing                         0.8.3\n",
      "fastjsonschema                    2.16.2\n",
      "flit_core                         3.6.0\n",
      "fonttools                         4.25.0\n",
      "idna                              3.4\n",
      "importlib-metadata                4.11.3\n",
      "importlib-resources               5.2.0\n",
      "ipykernel                         6.19.2\n",
      "ipython                           8.8.0\n",
      "ipython-genutils                  0.2.0\n",
      "ipywidgets                        7.6.5\n",
      "isort                             5.12.0\n",
      "jedi                              0.18.1\n",
      "Jinja2                            3.1.2\n",
      "joblib                            1.1.0\n",
      "json5                             0.9.6\n",
      "jsonschema                        4.16.0\n",
      "jupyter                           1.0.0\n",
      "jupyter_client                    7.4.8\n",
      "jupyter-console                   6.4.4\n",
      "jupyter-contrib-core              0.4.2\n",
      "jupyter-contrib-nbextensions      0.7.0\n",
      "jupyter_core                      5.1.1\n",
      "jupyter-highlight-selected-word   0.2.0\n",
      "jupyter-nbextensions-configurator 0.6.1\n",
      "jupyter-server                    1.23.4\n",
      "jupyterlab                        3.5.3\n",
      "jupyterlab-pygments               0.1.2\n",
      "jupyterlab_server                 2.16.5\n",
      "jupyterlab-widgets                1.0.0\n",
      "kiwisolver                        1.4.4\n",
      "lazy-object-proxy                 1.9.0\n",
      "lxml                              4.9.1\n",
      "MarkupSafe                        2.1.1\n",
      "matplotlib                        3.6.2\n",
      "matplotlib-inline                 0.1.6\n",
      "mccabe                            0.7.0\n",
      "mistune                           0.8.4\n",
      "mkl-fft                           1.3.1\n",
      "mkl-random                        1.2.2\n",
      "mkl-service                       2.4.0\n",
      "munkres                           1.1.4\n",
      "nbclassic                         0.4.8\n",
      "nbclient                          0.5.13\n",
      "nbconvert                         6.5.4\n",
      "nbformat                          5.7.0\n",
      "nest-asyncio                      1.5.6\n",
      "notebook                          6.5.2\n",
      "notebook_shim                     0.2.2\n",
      "numexpr                           2.8.4\n",
      "numpy                             1.23.5\n",
      "packaging                         22.0\n",
      "pandas                            1.5.2\n",
      "pandocfilters                     1.5.0\n",
      "parso                             0.8.3\n",
      "pexpect                           4.8.0\n",
      "pickleshare                       0.7.5\n",
      "Pillow                            9.3.0\n",
      "pip                               22.3.1\n",
      "pkgutil_resolve_name              1.3.10\n",
      "platformdirs                      2.5.2\n",
      "ply                               3.11\n",
      "prometheus-client                 0.14.1\n",
      "prompt-toolkit                    3.0.36\n",
      "psutil                            5.9.0\n",
      "ptyprocess                        0.7.0\n",
      "pure-eval                         0.2.2\n",
      "pycodestyle                       2.10.0\n",
      "pycparser                         2.21\n",
      "Pygments                          2.11.2\n",
      "pylint                            2.16.1\n",
      "pyOpenSSL                         22.0.0\n",
      "pyparsing                         3.0.9\n",
      "PyQt5-sip                         12.11.0\n",
      "pyrsistent                        0.18.0\n",
      "PySocks                           1.7.1\n",
      "python-dateutil                   2.8.2\n",
      "pytz                              2022.7\n",
      "PyYAML                            6.0\n",
      "pyzmq                             23.2.0\n",
      "qtconsole                         5.4.0\n",
      "QtPy                              2.2.0\n",
      "requests                          2.28.1\n",
      "scikit-learn                      1.1.1\n",
      "scipy                             1.9.3\n",
      "seaborn                           0.12.2\n",
      "Send2Trash                        1.8.0\n",
      "setuptools                        65.6.3\n",
      "sip                               6.6.2\n",
      "six                               1.16.0\n",
      "sniffio                           1.2.0\n",
      "soupsieve                         2.3.2.post1\n",
      "stack-data                        0.2.0\n",
      "terminado                         0.17.1\n",
      "threadpoolctl                     2.2.0\n",
      "tinycss2                          1.2.1\n",
      "toml                              0.10.2\n",
      "tomli                             2.0.1\n",
      "tomlkit                           0.11.6\n",
      "torch                             1.13.1\n",
      "torchvision                       0.14.1\n",
      "tornado                           6.2\n",
      "traitlets                         5.7.1\n",
      "typing_extensions                 4.4.0\n",
      "urllib3                           1.26.14\n",
      "wcwidth                           0.2.5\n",
      "webencodings                      0.5.1\n",
      "websocket-client                  0.58.0\n",
      "wheel                             0.37.1\n",
      "widgetsnbextension                3.5.2\n",
      "wrapt                             1.14.1\n",
      "zipp                              3.11.0\n"
     ]
    }
   ],
   "source": [
    "!pip list"
   ]
  },
  {
   "cell_type": "markdown",
   "id": "99b6223f",
   "metadata": {},
   "source": [
    "https://github.com/pytorch/captum/tree/optim-wip/captum/optim\n",
    "\n",
    "https://github.com/pytorch/captum/blob/optim-wip/tutorials/optimviz/GettingStarted_OptimViz.ipynb\n",
    "\n",
    "https://github.com/pytorch/captum/blob/optim-wip/tutorials/optimviz/BasicLosses_OptimViz.ipynb"
   ]
  },
  {
   "cell_type": "code",
   "execution_count": 1,
   "id": "5e2eb426",
   "metadata": {
    "ExecuteTime": {
     "end_time": "2023-02-14T20:38:06.679181Z",
     "start_time": "2023-02-14T20:37:14.593753Z"
    }
   },
   "outputs": [
    {
     "name": "stdout",
     "output_type": "stream",
     "text": [
      "Collecting torch-lucent\n",
      "  Downloading torch_lucent-0.1.8-py3-none-any.whl (46 kB)\n",
      "\u001b[2K     \u001b[90m━━━━━━━━━━━━━━━━━━━━━━━━━━━━━━━━━━━━━━━━\u001b[0m \u001b[32m46.1/46.1 kB\u001b[0m \u001b[31m1.7 MB/s\u001b[0m eta \u001b[36m0:00:00\u001b[0m\n",
      "\u001b[?25hCollecting future\n",
      "  Downloading future-0.18.3.tar.gz (840 kB)\n",
      "\u001b[2K     \u001b[90m━━━━━━━━━━━━━━━━━━━━━━━━━━━━━━━━━━━━━━━\u001b[0m \u001b[32m840.9/840.9 kB\u001b[0m \u001b[31m3.4 MB/s\u001b[0m eta \u001b[36m0:00:00\u001b[0ma \u001b[36m0:00:01\u001b[0m\n",
      "\u001b[?25h  Preparing metadata (setup.py) ... \u001b[?25ldone\n",
      "\u001b[?25hCollecting pytest\n",
      "  Downloading pytest-7.2.1-py3-none-any.whl (317 kB)\n",
      "\u001b[2K     \u001b[90m━━━━━━━━━━━━━━━━━━━━━━━━━━━━━━━━━━━━━━━\u001b[0m \u001b[32m317.1/317.1 kB\u001b[0m \u001b[31m3.2 MB/s\u001b[0m eta \u001b[36m0:00:00\u001b[0ma \u001b[36m0:00:01\u001b[0m\n",
      "\u001b[?25hCollecting coverage\n",
      "  Downloading coverage-7.1.0-cp38-cp38-manylinux_2_5_x86_64.manylinux1_x86_64.manylinux_2_17_x86_64.manylinux2014_x86_64.whl (227 kB)\n",
      "\u001b[2K     \u001b[90m━━━━━━━━━━━━━━━━━━━━━━━━━━━━━━━━━━━━━━━\u001b[0m \u001b[32m227.8/227.8 kB\u001b[0m \u001b[31m3.5 MB/s\u001b[0m eta \u001b[36m0:00:00\u001b[0m00:01\u001b[0m\n",
      "\u001b[?25hCollecting kornia<=0.4.1\n",
      "  Downloading kornia-0.4.1-py2.py3-none-any.whl (225 kB)\n",
      "\u001b[2K     \u001b[90m━━━━━━━━━━━━━━━━━━━━━━━━━━━━━━━━━━━━━━━\u001b[0m \u001b[32m225.1/225.1 kB\u001b[0m \u001b[31m3.8 MB/s\u001b[0m eta \u001b[36m0:00:00\u001b[0ma \u001b[36m0:00:01\u001b[0m\n",
      "\u001b[?25hRequirement already satisfied: torch>=1.5.0 in /home/lauraom/anaconda3/envs/sw-interpretability/lib/python3.8/site-packages (from torch-lucent) (1.13.1)\n",
      "Requirement already satisfied: pillow in /home/lauraom/anaconda3/envs/sw-interpretability/lib/python3.8/site-packages (from torch-lucent) (9.3.0)\n",
      "Collecting pytest-mock\n",
      "  Downloading pytest_mock-3.10.0-py3-none-any.whl (9.3 kB)\n",
      "Requirement already satisfied: scikit-learn in /home/lauraom/anaconda3/envs/sw-interpretability/lib/python3.8/site-packages (from torch-lucent) (1.1.1)\n",
      "Requirement already satisfied: torchvision in /home/lauraom/anaconda3/envs/sw-interpretability/lib/python3.8/site-packages (from torch-lucent) (0.14.1)\n",
      "Requirement already satisfied: numpy in /home/lauraom/anaconda3/envs/sw-interpretability/lib/python3.8/site-packages (from torch-lucent) (1.23.5)\n",
      "Collecting tqdm\n",
      "  Downloading tqdm-4.64.1-py2.py3-none-any.whl (78 kB)\n",
      "\u001b[2K     \u001b[90m━━━━━━━━━━━━━━━━━━━━━━━━━━━━━━━━━━━━━━━━\u001b[0m \u001b[32m78.5/78.5 kB\u001b[0m \u001b[31m3.9 MB/s\u001b[0m eta \u001b[36m0:00:00\u001b[0m\n",
      "\u001b[?25hCollecting coveralls\n",
      "  Downloading coveralls-3.3.1-py2.py3-none-any.whl (14 kB)\n",
      "Requirement already satisfied: ipython in /home/lauraom/anaconda3/envs/sw-interpretability/lib/python3.8/site-packages (from torch-lucent) (8.8.0)\n",
      "Requirement already satisfied: decorator in /home/lauraom/anaconda3/envs/sw-interpretability/lib/python3.8/site-packages (from torch-lucent) (5.1.1)\n",
      "Requirement already satisfied: typing_extensions in /home/lauraom/anaconda3/envs/sw-interpretability/lib/python3.8/site-packages (from torch>=1.5.0->torch-lucent) (4.4.0)\n",
      "Collecting docopt>=0.6.1\n",
      "  Downloading docopt-0.6.2.tar.gz (25 kB)\n",
      "  Preparing metadata (setup.py) ... \u001b[?25ldone\n",
      "\u001b[?25hCollecting coverage\n",
      "  Downloading coverage-6.5.0-cp38-cp38-manylinux_2_5_x86_64.manylinux1_x86_64.manylinux_2_17_x86_64.manylinux2014_x86_64.whl (214 kB)\n",
      "\u001b[2K     \u001b[90m━━━━━━━━━━━━━━━━━━━━━━━━━━━━━━━━━━━━━━━\u001b[0m \u001b[32m214.4/214.4 kB\u001b[0m \u001b[31m4.0 MB/s\u001b[0m eta \u001b[36m0:00:00\u001b[0ma \u001b[36m0:00:01\u001b[0m\n",
      "\u001b[?25hRequirement already satisfied: requests>=1.0.0 in /home/lauraom/anaconda3/envs/sw-interpretability/lib/python3.8/site-packages (from coveralls->torch-lucent) (2.28.1)\n",
      "Requirement already satisfied: jedi>=0.16 in /home/lauraom/anaconda3/envs/sw-interpretability/lib/python3.8/site-packages (from ipython->torch-lucent) (0.18.1)\n",
      "Requirement already satisfied: traitlets>=5 in /home/lauraom/anaconda3/envs/sw-interpretability/lib/python3.8/site-packages (from ipython->torch-lucent) (5.7.1)\n",
      "Requirement already satisfied: backcall in /home/lauraom/anaconda3/envs/sw-interpretability/lib/python3.8/site-packages (from ipython->torch-lucent) (0.2.0)\n",
      "Requirement already satisfied: matplotlib-inline in /home/lauraom/anaconda3/envs/sw-interpretability/lib/python3.8/site-packages (from ipython->torch-lucent) (0.1.6)\n",
      "Requirement already satisfied: prompt-toolkit<3.1.0,>=3.0.11 in /home/lauraom/anaconda3/envs/sw-interpretability/lib/python3.8/site-packages (from ipython->torch-lucent) (3.0.36)\n",
      "Requirement already satisfied: pickleshare in /home/lauraom/anaconda3/envs/sw-interpretability/lib/python3.8/site-packages (from ipython->torch-lucent) (0.7.5)\n",
      "Requirement already satisfied: stack-data in /home/lauraom/anaconda3/envs/sw-interpretability/lib/python3.8/site-packages (from ipython->torch-lucent) (0.2.0)\n",
      "Requirement already satisfied: pygments>=2.4.0 in /home/lauraom/anaconda3/envs/sw-interpretability/lib/python3.8/site-packages (from ipython->torch-lucent) (2.11.2)\n",
      "Requirement already satisfied: pexpect>4.3 in /home/lauraom/anaconda3/envs/sw-interpretability/lib/python3.8/site-packages (from ipython->torch-lucent) (4.8.0)\n",
      "Collecting exceptiongroup>=1.0.0rc8\n",
      "  Downloading exceptiongroup-1.1.0-py3-none-any.whl (14 kB)\n",
      "Collecting iniconfig\n",
      "  Downloading iniconfig-2.0.0-py3-none-any.whl (5.9 kB)\n",
      "Collecting pluggy<2.0,>=0.12\n",
      "  Using cached pluggy-1.0.0-py2.py3-none-any.whl (13 kB)\n",
      "Requirement already satisfied: tomli>=1.0.0 in /home/lauraom/anaconda3/envs/sw-interpretability/lib/python3.8/site-packages (from pytest->torch-lucent) (2.0.1)\n",
      "Requirement already satisfied: attrs>=19.2.0 in /home/lauraom/anaconda3/envs/sw-interpretability/lib/python3.8/site-packages (from pytest->torch-lucent) (22.1.0)\n",
      "Requirement already satisfied: packaging in /home/lauraom/anaconda3/envs/sw-interpretability/lib/python3.8/site-packages (from pytest->torch-lucent) (22.0)\n",
      "Requirement already satisfied: joblib>=1.0.0 in /home/lauraom/anaconda3/envs/sw-interpretability/lib/python3.8/site-packages (from scikit-learn->torch-lucent) (1.1.0)\n",
      "Requirement already satisfied: threadpoolctl>=2.0.0 in /home/lauraom/anaconda3/envs/sw-interpretability/lib/python3.8/site-packages (from scikit-learn->torch-lucent) (2.2.0)\n",
      "Requirement already satisfied: scipy>=1.3.2 in /home/lauraom/anaconda3/envs/sw-interpretability/lib/python3.8/site-packages (from scikit-learn->torch-lucent) (1.9.3)\n",
      "Requirement already satisfied: parso<0.9.0,>=0.8.0 in /home/lauraom/anaconda3/envs/sw-interpretability/lib/python3.8/site-packages (from jedi>=0.16->ipython->torch-lucent) (0.8.3)\n",
      "Requirement already satisfied: ptyprocess>=0.5 in /home/lauraom/anaconda3/envs/sw-interpretability/lib/python3.8/site-packages (from pexpect>4.3->ipython->torch-lucent) (0.7.0)\n",
      "Requirement already satisfied: wcwidth in /home/lauraom/anaconda3/envs/sw-interpretability/lib/python3.8/site-packages (from prompt-toolkit<3.1.0,>=3.0.11->ipython->torch-lucent) (0.2.5)\n",
      "Requirement already satisfied: certifi>=2017.4.17 in /home/lauraom/anaconda3/envs/sw-interpretability/lib/python3.8/site-packages (from requests>=1.0.0->coveralls->torch-lucent) (2022.6.15)\n",
      "Requirement already satisfied: charset-normalizer<3,>=2 in /home/lauraom/anaconda3/envs/sw-interpretability/lib/python3.8/site-packages (from requests>=1.0.0->coveralls->torch-lucent) (2.0.4)\n",
      "Requirement already satisfied: idna<4,>=2.5 in /home/lauraom/anaconda3/envs/sw-interpretability/lib/python3.8/site-packages (from requests>=1.0.0->coveralls->torch-lucent) (3.4)\n",
      "Requirement already satisfied: urllib3<1.27,>=1.21.1 in /home/lauraom/anaconda3/envs/sw-interpretability/lib/python3.8/site-packages (from requests>=1.0.0->coveralls->torch-lucent) (1.26.14)\n",
      "Requirement already satisfied: asttokens in /home/lauraom/anaconda3/envs/sw-interpretability/lib/python3.8/site-packages (from stack-data->ipython->torch-lucent) (2.0.5)\n",
      "Requirement already satisfied: pure-eval in /home/lauraom/anaconda3/envs/sw-interpretability/lib/python3.8/site-packages (from stack-data->ipython->torch-lucent) (0.2.2)\n",
      "Requirement already satisfied: executing in /home/lauraom/anaconda3/envs/sw-interpretability/lib/python3.8/site-packages (from stack-data->ipython->torch-lucent) (0.8.3)\n",
      "Requirement already satisfied: six in /home/lauraom/anaconda3/envs/sw-interpretability/lib/python3.8/site-packages (from asttokens->stack-data->ipython->torch-lucent) (1.16.0)\n",
      "Building wheels for collected packages: future, docopt\n",
      "  Building wheel for future (setup.py) ... \u001b[?25ldone\n",
      "\u001b[?25h  Created wheel for future: filename=future-0.18.3-py3-none-any.whl size=492025 sha256=33db3342212c4c50df60893c5ca7d9b9cca1132bf67c703255d2d7efb81c3b36\n",
      "  Stored in directory: /home/lauraom/.cache/pip/wheels/a6/db/41/71a0e5d071a14e716cc11bb021a9caa8f76ec337eca071487e\n"
     ]
    },
    {
     "name": "stdout",
     "output_type": "stream",
     "text": [
      "  Building wheel for docopt (setup.py) ... \u001b[?25ldone\n",
      "\u001b[?25h  Created wheel for docopt: filename=docopt-0.6.2-py2.py3-none-any.whl size=13706 sha256=1aa30ec65602bd3c9f73572ba7c404495446763cdb04cfcab6d1e0bcb4ce25b6\n",
      "  Stored in directory: /home/lauraom/.cache/pip/wheels/ca/cc/e3/f1e272f628fdb013d969acc99cfe2e031ea15b3efb74ffe842\n",
      "Successfully built future docopt\n",
      "Installing collected packages: docopt, tqdm, pluggy, iniconfig, future, exceptiongroup, coverage, pytest, kornia, coveralls, pytest-mock, torch-lucent\n",
      "Successfully installed coverage-6.5.0 coveralls-3.3.1 docopt-0.6.2 exceptiongroup-1.1.0 future-0.18.3 iniconfig-2.0.0 kornia-0.4.1 pluggy-1.0.0 pytest-7.2.1 pytest-mock-3.10.0 torch-lucent-0.1.8 tqdm-4.64.1\n"
     ]
    }
   ],
   "source": [
    "!pip install torch-lucent"
   ]
  },
  {
   "cell_type": "code",
   "execution_count": null,
   "id": "0e2c8b0d",
   "metadata": {},
   "outputs": [],
   "source": []
  },
  {
   "cell_type": "code",
   "execution_count": null,
   "id": "5ef21f60",
   "metadata": {},
   "outputs": [],
   "source": []
  },
  {
   "cell_type": "code",
   "execution_count": null,
   "id": "4a0afa10",
   "metadata": {},
   "outputs": [],
   "source": []
  },
  {
   "cell_type": "code",
   "execution_count": null,
   "id": "24a038c8",
   "metadata": {},
   "outputs": [],
   "source": []
  },
  {
   "cell_type": "code",
   "execution_count": null,
   "id": "349b74d6",
   "metadata": {},
   "outputs": [],
   "source": []
  },
  {
   "cell_type": "code",
   "execution_count": null,
   "id": "d3290932",
   "metadata": {},
   "outputs": [],
   "source": []
  }
 ],
 "metadata": {
  "kernelspec": {
   "display_name": "Python 3 (ipykernel)",
   "language": "python",
   "name": "python3"
  },
  "language_info": {
   "codemirror_mode": {
    "name": "ipython",
    "version": 3
   },
   "file_extension": ".py",
   "mimetype": "text/x-python",
   "name": "python",
   "nbconvert_exporter": "python",
   "pygments_lexer": "ipython3",
   "version": "3.8.16"
  },
  "toc": {
   "base_numbering": 1,
   "nav_menu": {},
   "number_sections": true,
   "sideBar": true,
   "skip_h1_title": false,
   "title_cell": "Table of Contents",
   "title_sidebar": "Contents",
   "toc_cell": false,
   "toc_position": {},
   "toc_section_display": true,
   "toc_window_display": false
  },
  "varInspector": {
   "cols": {
    "lenName": 16,
    "lenType": 16,
    "lenVar": 40
   },
   "kernels_config": {
    "python": {
     "delete_cmd_postfix": "",
     "delete_cmd_prefix": "del ",
     "library": "var_list.py",
     "varRefreshCmd": "print(var_dic_list())"
    },
    "r": {
     "delete_cmd_postfix": ") ",
     "delete_cmd_prefix": "rm(",
     "library": "var_list.r",
     "varRefreshCmd": "cat(var_dic_list()) "
    }
   },
   "types_to_exclude": [
    "module",
    "function",
    "builtin_function_or_method",
    "instance",
    "_Feature"
   ],
   "window_display": false
  }
 },
 "nbformat": 4,
 "nbformat_minor": 5
}
