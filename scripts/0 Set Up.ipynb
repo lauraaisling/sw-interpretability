{
 "cells": [
  {
   "cell_type": "code",
   "execution_count": 1,
   "id": "650e1f44",
   "metadata": {
    "ExecuteTime": {
     "end_time": "2023-02-06T15:46:07.148100Z",
     "start_time": "2023-02-06T15:46:07.107397Z"
    }
   },
   "outputs": [
    {
     "data": {
      "text/plain": [
       "'/mnt/c/Users/lauraa.omahony/Documents/~PhD_Stuff/1_Workspace/sw-interpretability/scripts'"
      ]
     },
     "execution_count": 1,
     "metadata": {},
     "output_type": "execute_result"
    }
   ],
   "source": [
    "import os \n",
    "os.getcwd() "
   ]
  },
  {
   "cell_type": "code",
   "execution_count": 2,
   "id": "69762ce8",
   "metadata": {
    "ExecuteTime": {
     "end_time": "2023-02-06T15:46:13.857659Z",
     "start_time": "2023-02-06T15:46:13.850582Z"
    }
   },
   "outputs": [
    {
     "data": {
      "text/plain": [
       "'/mnt/c/Users/lauraa.omahony/Documents/~PhD_Stuff/1_Workspace/sw-interpretability'"
      ]
     },
     "execution_count": 2,
     "metadata": {},
     "output_type": "execute_result"
    }
   ],
   "source": [
    "base_dir = os.path.normpath(os.getcwd() + os.sep + os.pardir)\n",
    "base_dir"
   ]
  },
  {
   "cell_type": "markdown",
   "id": "9c8bfcb9",
   "metadata": {},
   "source": [
    "## Captum"
   ]
  },
  {
   "cell_type": "code",
   "execution_count": 5,
   "id": "4b949769",
   "metadata": {
    "ExecuteTime": {
     "end_time": "2023-02-06T15:46:29.224802Z",
     "start_time": "2023-02-06T15:46:29.194269Z"
    },
    "scrolled": false
   },
   "outputs": [
    {
     "ename": "FileExistsError",
     "evalue": "[Errno 17] File exists: '/mnt/c/Users/lauraa.omahony/Documents/~PhD_Stuff/1_Workspace/sw-interpretability/src/captum'",
     "output_type": "error",
     "traceback": [
      "\u001b[0;31m---------------------------------------------------------------------------\u001b[0m",
      "\u001b[0;31mFileExistsError\u001b[0m                           Traceback (most recent call last)",
      "Cell \u001b[0;32mIn[5], line 1\u001b[0m\n\u001b[0;32m----> 1\u001b[0m \u001b[43mos\u001b[49m\u001b[38;5;241;43m.\u001b[39;49m\u001b[43mmkdir\u001b[49m\u001b[43m(\u001b[49m\u001b[38;5;124;43mf\u001b[39;49m\u001b[38;5;124;43m\"\u001b[39;49m\u001b[38;5;132;43;01m{\u001b[39;49;00m\u001b[43mbase_dir\u001b[49m\u001b[38;5;132;43;01m}\u001b[39;49;00m\u001b[38;5;124;43m/src/captum\u001b[39;49m\u001b[38;5;124;43m\"\u001b[39;49m\u001b[43m)\u001b[49m\n",
      "\u001b[0;31mFileExistsError\u001b[0m: [Errno 17] File exists: '/mnt/c/Users/lauraa.omahony/Documents/~PhD_Stuff/1_Workspace/sw-interpretability/src/captum'"
     ]
    }
   ],
   "source": [
    "os.mkdir(f\"{base_dir}/src/captum\") "
   ]
  },
  {
   "cell_type": "code",
   "execution_count": 6,
   "id": "5381d5ee",
   "metadata": {
    "ExecuteTime": {
     "end_time": "2023-02-06T15:46:52.625737Z",
     "start_time": "2023-02-06T15:46:52.618718Z"
    },
    "scrolled": true
   },
   "outputs": [
    {
     "data": {
      "text/plain": [
       "'/mnt/c/Users/lauraa.omahony/Documents/~PhD_Stuff/1_Workspace/sw-interpretability/src/captum'"
      ]
     },
     "execution_count": 6,
     "metadata": {},
     "output_type": "execute_result"
    }
   ],
   "source": [
    "os.chdir(\"../src/captum\")\n",
    "os.getcwd()"
   ]
  },
  {
   "cell_type": "code",
   "execution_count": 14,
   "id": "e7e68861",
   "metadata": {
    "ExecuteTime": {
     "end_time": "2023-02-06T16:00:24.913631Z",
     "start_time": "2023-02-06T15:59:58.035110Z"
    },
    "scrolled": true
   },
   "outputs": [
    {
     "name": "stdout",
     "output_type": "stream",
     "text": [
      "fatal: destination path '.' already exists and is not an empty directory.\n",
      "Already on 'optim-wip'\n",
      "Your branch is up to date with 'origin/optim-wip'.\n",
      "Obtaining file:///mnt/c/Users/lauraa.omahony/Documents/~PhD_Stuff/1_Workspace/sw-interpretability/src/captum\n",
      "  Installing build dependencies ... \u001b[?25ldone\n",
      "\u001b[?25h  Checking if build backend supports build_editable ... \u001b[?25ldone\n",
      "\u001b[?25h  Getting requirements to build editable ... \u001b[?25ldone\n",
      "\u001b[?25h  Preparing editable metadata (pyproject.toml) ... \u001b[?25ldone\n",
      "\u001b[?25hRequirement already satisfied: torch>=1.6 in /home/lauraom/anaconda3/envs/sw-interpretability/lib/python3.8/site-packages (from captum==0.5.0) (1.13.1)\n",
      "Requirement already satisfied: matplotlib in /home/lauraom/anaconda3/envs/sw-interpretability/lib/python3.8/site-packages (from captum==0.5.0) (3.6.2)\n",
      "Requirement already satisfied: numpy in /home/lauraom/anaconda3/envs/sw-interpretability/lib/python3.8/site-packages (from captum==0.5.0) (1.23.5)\n",
      "Requirement already satisfied: typing_extensions in /home/lauraom/anaconda3/envs/sw-interpretability/lib/python3.8/site-packages (from torch>=1.6->captum==0.5.0) (4.4.0)\n",
      "Requirement already satisfied: python-dateutil>=2.7 in /home/lauraom/anaconda3/envs/sw-interpretability/lib/python3.8/site-packages (from matplotlib->captum==0.5.0) (2.8.2)\n",
      "Requirement already satisfied: kiwisolver>=1.0.1 in /home/lauraom/anaconda3/envs/sw-interpretability/lib/python3.8/site-packages (from matplotlib->captum==0.5.0) (1.4.4)\n",
      "Requirement already satisfied: contourpy>=1.0.1 in /home/lauraom/anaconda3/envs/sw-interpretability/lib/python3.8/site-packages (from matplotlib->captum==0.5.0) (1.0.5)\n",
      "Requirement already satisfied: cycler>=0.10 in /home/lauraom/anaconda3/envs/sw-interpretability/lib/python3.8/site-packages (from matplotlib->captum==0.5.0) (0.11.0)\n",
      "Requirement already satisfied: pillow>=6.2.0 in /home/lauraom/anaconda3/envs/sw-interpretability/lib/python3.8/site-packages (from matplotlib->captum==0.5.0) (9.3.0)\n",
      "Requirement already satisfied: fonttools>=4.22.0 in /home/lauraom/anaconda3/envs/sw-interpretability/lib/python3.8/site-packages (from matplotlib->captum==0.5.0) (4.25.0)\n",
      "Requirement already satisfied: pyparsing>=2.2.1 in /home/lauraom/anaconda3/envs/sw-interpretability/lib/python3.8/site-packages (from matplotlib->captum==0.5.0) (3.0.9)\n",
      "Requirement already satisfied: packaging>=20.0 in /home/lauraom/anaconda3/envs/sw-interpretability/lib/python3.8/site-packages (from matplotlib->captum==0.5.0) (22.0)\n",
      "Requirement already satisfied: six>=1.5 in /home/lauraom/anaconda3/envs/sw-interpretability/lib/python3.8/site-packages (from python-dateutil>=2.7->matplotlib->captum==0.5.0) (1.16.0)\n",
      "Building wheels for collected packages: captum\n",
      "  Building editable for captum (pyproject.toml) ... \u001b[?25ldone\n",
      "\u001b[?25h  Created wheel for captum: filename=captum-0.5.0-0.editable-py3-none-any.whl size=11605 sha256=051e4518928cb59842184f241eaf51d516ec7479bb53106b8e8d177ae8d7e40f\n",
      "  Stored in directory: /tmp/pip-ephem-wheel-cache-3zi3d6mw/wheels/61/94/9a/15d1074dab2ac70ca1272476a4d6ecde3376d5c74c9a9d9d60\n",
      "Successfully built captum\n",
      "Installing collected packages: captum\n",
      "  Attempting uninstall: captum\n",
      "    Found existing installation: captum 0.5.0\n",
      "    Uninstalling captum-0.5.0:\n",
      "      Successfully uninstalled captum-0.5.0\n",
      "Successfully installed captum-0.5.0\n"
     ]
    }
   ],
   "source": [
    "!git clone https://github.com/pytorch/captum .\n",
    "# %cd captum\n",
    "!git checkout \"optim-wip\"\n",
    "!pip3 install -e ."
   ]
  },
  {
   "cell_type": "markdown",
   "id": "69818732",
   "metadata": {},
   "source": [
    "Downloaded into scripts. \n",
    "Moved into src folder... "
   ]
  },
  {
   "cell_type": "code",
   "execution_count": 15,
   "id": "8c64a35f",
   "metadata": {
    "ExecuteTime": {
     "end_time": "2023-02-06T16:00:29.773925Z",
     "start_time": "2023-02-06T16:00:26.275642Z"
    }
   },
   "outputs": [
    {
     "name": "stdout",
     "output_type": "stream",
     "text": [
      "Package                           Version     Editable project location\n",
      "--------------------------------- ----------- -------------------------------------------------------------------------------------------\n",
      "anyio                             3.5.0\n",
      "argon2-cffi                       21.3.0\n",
      "argon2-cffi-bindings              21.2.0\n",
      "astroid                           2.14.1\n",
      "asttokens                         2.0.5\n",
      "attrs                             22.1.0\n",
      "autopep8                          2.0.1\n",
      "Babel                             2.11.0\n",
      "backcall                          0.2.0\n",
      "beautifulsoup4                    4.11.1\n",
      "bleach                            4.1.0\n",
      "Bottleneck                        1.3.5\n",
      "brotlipy                          0.7.0\n",
      "captum                            0.5.0       /mnt/c/Users/lauraa.omahony/Documents/~PhD_Stuff/1_Workspace/sw-interpretability/src/captum\n",
      "certifi                           2022.6.15\n",
      "cffi                              1.15.1\n",
      "charset-normalizer                2.0.4\n",
      "comm                              0.1.2\n",
      "contourpy                         1.0.5\n",
      "cryptography                      38.0.4\n",
      "cycler                            0.11.0\n",
      "debugpy                           1.5.1\n",
      "decorator                         5.1.1\n",
      "defusedxml                        0.7.1\n",
      "dill                              0.3.6\n",
      "entrypoints                       0.4\n",
      "executing                         0.8.3\n",
      "fastjsonschema                    2.16.2\n",
      "flit_core                         3.6.0\n",
      "fonttools                         4.25.0\n",
      "idna                              3.4\n",
      "importlib-metadata                4.11.3\n",
      "importlib-resources               5.2.0\n",
      "ipykernel                         6.19.2\n",
      "ipython                           8.8.0\n",
      "ipython-genutils                  0.2.0\n",
      "ipywidgets                        7.6.5\n",
      "isort                             5.12.0\n",
      "jedi                              0.18.1\n",
      "Jinja2                            3.1.2\n",
      "joblib                            1.1.0\n",
      "json5                             0.9.6\n",
      "jsonschema                        4.16.0\n",
      "jupyter                           1.0.0\n",
      "jupyter_client                    7.4.8\n",
      "jupyter-console                   6.4.4\n",
      "jupyter-contrib-core              0.4.2\n",
      "jupyter-contrib-nbextensions      0.7.0\n",
      "jupyter_core                      5.1.1\n",
      "jupyter-highlight-selected-word   0.2.0\n",
      "jupyter-nbextensions-configurator 0.6.1\n",
      "jupyter-server                    1.23.4\n",
      "jupyterlab                        3.5.3\n",
      "jupyterlab-pygments               0.1.2\n",
      "jupyterlab_server                 2.16.5\n",
      "jupyterlab-widgets                1.0.0\n",
      "kiwisolver                        1.4.4\n",
      "lazy-object-proxy                 1.9.0\n",
      "lxml                              4.9.1\n",
      "MarkupSafe                        2.1.1\n",
      "matplotlib                        3.6.2\n",
      "matplotlib-inline                 0.1.6\n",
      "mccabe                            0.7.0\n",
      "mistune                           0.8.4\n",
      "mkl-fft                           1.3.1\n",
      "mkl-random                        1.2.2\n",
      "mkl-service                       2.4.0\n",
      "munkres                           1.1.4\n",
      "nbclassic                         0.4.8\n",
      "nbclient                          0.5.13\n",
      "nbconvert                         6.5.4\n",
      "nbformat                          5.7.0\n",
      "nest-asyncio                      1.5.6\n",
      "notebook                          6.5.2\n",
      "notebook_shim                     0.2.2\n",
      "numexpr                           2.8.4\n",
      "numpy                             1.23.5\n",
      "packaging                         22.0\n",
      "pandas                            1.5.2\n",
      "pandocfilters                     1.5.0\n",
      "parso                             0.8.3\n",
      "pexpect                           4.8.0\n",
      "pickleshare                       0.7.5\n",
      "Pillow                            9.3.0\n",
      "pip                               22.3.1\n",
      "pkgutil_resolve_name              1.3.10\n",
      "platformdirs                      2.5.2\n",
      "ply                               3.11\n",
      "prometheus-client                 0.14.1\n",
      "prompt-toolkit                    3.0.36\n",
      "psutil                            5.9.0\n",
      "ptyprocess                        0.7.0\n",
      "pure-eval                         0.2.2\n",
      "pycodestyle                       2.10.0\n",
      "pycparser                         2.21\n",
      "Pygments                          2.11.2\n",
      "pylint                            2.16.1\n",
      "pyOpenSSL                         22.0.0\n",
      "pyparsing                         3.0.9\n",
      "PyQt5-sip                         12.11.0\n",
      "pyrsistent                        0.18.0\n",
      "PySocks                           1.7.1\n",
      "python-dateutil                   2.8.2\n",
      "pytz                              2022.7\n",
      "PyYAML                            6.0\n",
      "pyzmq                             23.2.0\n",
      "qtconsole                         5.4.0\n",
      "QtPy                              2.2.0\n",
      "requests                          2.28.1\n",
      "scikit-learn                      1.1.1\n",
      "scipy                             1.9.3\n",
      "seaborn                           0.12.2\n",
      "Send2Trash                        1.8.0\n",
      "setuptools                        65.6.3\n",
      "sip                               6.6.2\n",
      "six                               1.16.0\n",
      "sniffio                           1.2.0\n",
      "soupsieve                         2.3.2.post1\n",
      "stack-data                        0.2.0\n",
      "terminado                         0.17.1\n",
      "threadpoolctl                     2.2.0\n",
      "tinycss2                          1.2.1\n",
      "toml                              0.10.2\n",
      "tomli                             2.0.1\n",
      "tomlkit                           0.11.6\n",
      "torch                             1.13.1\n",
      "torchvision                       0.14.1\n",
      "tornado                           6.2\n",
      "traitlets                         5.7.1\n",
      "typing_extensions                 4.4.0\n",
      "urllib3                           1.26.14\n",
      "wcwidth                           0.2.5\n",
      "webencodings                      0.5.1\n",
      "websocket-client                  0.58.0\n",
      "wheel                             0.37.1\n",
      "widgetsnbextension                3.5.2\n",
      "wrapt                             1.14.1\n",
      "zipp                              3.11.0\n"
     ]
    }
   ],
   "source": [
    "!pip list"
   ]
  },
  {
   "cell_type": "markdown",
   "id": "99b6223f",
   "metadata": {},
   "source": [
    "https://github.com/pytorch/captum/tree/optim-wip/captum/optim\n",
    "\n",
    "https://github.com/pytorch/captum/blob/optim-wip/tutorials/optimviz/GettingStarted_OptimViz.ipynb\n",
    "\n",
    "https://github.com/pytorch/captum/blob/optim-wip/tutorials/optimviz/BasicLosses_OptimViz.ipynb"
   ]
  },
  {
   "cell_type": "code",
   "execution_count": null,
   "id": "5e2eb426",
   "metadata": {},
   "outputs": [],
   "source": []
  },
  {
   "cell_type": "code",
   "execution_count": null,
   "id": "0e2c8b0d",
   "metadata": {},
   "outputs": [],
   "source": []
  },
  {
   "cell_type": "code",
   "execution_count": null,
   "id": "5ef21f60",
   "metadata": {},
   "outputs": [],
   "source": []
  },
  {
   "cell_type": "code",
   "execution_count": null,
   "id": "4a0afa10",
   "metadata": {},
   "outputs": [],
   "source": []
  },
  {
   "cell_type": "code",
   "execution_count": null,
   "id": "24a038c8",
   "metadata": {},
   "outputs": [],
   "source": []
  },
  {
   "cell_type": "code",
   "execution_count": null,
   "id": "349b74d6",
   "metadata": {},
   "outputs": [],
   "source": []
  },
  {
   "cell_type": "code",
   "execution_count": null,
   "id": "d3290932",
   "metadata": {},
   "outputs": [],
   "source": []
  }
 ],
 "metadata": {
  "kernelspec": {
   "display_name": "Python 3 (ipykernel)",
   "language": "python",
   "name": "python3"
  },
  "language_info": {
   "codemirror_mode": {
    "name": "ipython",
    "version": 3
   },
   "file_extension": ".py",
   "mimetype": "text/x-python",
   "name": "python",
   "nbconvert_exporter": "python",
   "pygments_lexer": "ipython3",
   "version": "3.8.16"
  },
  "toc": {
   "base_numbering": 1,
   "nav_menu": {},
   "number_sections": true,
   "sideBar": true,
   "skip_h1_title": false,
   "title_cell": "Table of Contents",
   "title_sidebar": "Contents",
   "toc_cell": false,
   "toc_position": {},
   "toc_section_display": true,
   "toc_window_display": false
  },
  "varInspector": {
   "cols": {
    "lenName": 16,
    "lenType": 16,
    "lenVar": 40
   },
   "kernels_config": {
    "python": {
     "delete_cmd_postfix": "",
     "delete_cmd_prefix": "del ",
     "library": "var_list.py",
     "varRefreshCmd": "print(var_dic_list())"
    },
    "r": {
     "delete_cmd_postfix": ") ",
     "delete_cmd_prefix": "rm(",
     "library": "var_list.r",
     "varRefreshCmd": "cat(var_dic_list()) "
    }
   },
   "types_to_exclude": [
    "module",
    "function",
    "builtin_function_or_method",
    "instance",
    "_Feature"
   ],
   "window_display": false
  }
 },
 "nbformat": 4,
 "nbformat_minor": 5
}
