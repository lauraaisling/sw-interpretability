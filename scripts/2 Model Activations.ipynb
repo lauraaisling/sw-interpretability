{
 "cells": [
  {
   "cell_type": "markdown",
   "id": "e470beed",
   "metadata": {},
   "source": [
    "## Set up"
   ]
  },
  {
   "cell_type": "code",
   "execution_count": 1,
   "id": "8dedb8a6",
   "metadata": {
    "ExecuteTime": {
     "end_time": "2023-02-07T13:05:09.262201Z",
     "start_time": "2023-02-07T13:05:09.259257Z"
    }
   },
   "outputs": [],
   "source": [
    "import os\n",
    "base_dir = os.path.normpath(os.getcwd() + os.sep + os.pardir) "
   ]
  },
  {
   "cell_type": "code",
   "execution_count": 2,
   "id": "39e793ce",
   "metadata": {
    "ExecuteTime": {
     "end_time": "2023-02-07T13:05:22.239456Z",
     "start_time": "2023-02-07T13:05:09.286662Z"
    },
    "scrolled": true
   },
   "outputs": [],
   "source": [
    "# import requests # request img from web\n",
    "# import shutil # save img locally\n",
    "# from pathlib import Path\n",
    "from PIL import Image\n",
    "# import numpy as np\n",
    "# import math\n",
    "import matplotlib.pyplot as plt\n",
    "import torch\n",
    "import torchvision\n",
    "from torchvision import transforms"
   ]
  },
  {
   "cell_type": "code",
   "execution_count": 3,
   "id": "18e29b11",
   "metadata": {
    "ExecuteTime": {
     "end_time": "2023-02-07T13:05:30.737875Z",
     "start_time": "2023-02-07T13:05:22.262668Z"
    },
    "scrolled": true
   },
   "outputs": [
    {
     "name": "stdout",
     "output_type": "stream",
     "text": [
      "The tqdm package is required to use captum.optim's n_steps stop criteria with progress bar\n"
     ]
    }
   ],
   "source": [
    "import sys\n",
    "sys.path.append(f'{base_dir}/src/captum')\n",
    "from captum import optim as optimviz"
   ]
  },
  {
   "cell_type": "code",
   "execution_count": 4,
   "id": "f208bd30",
   "metadata": {
    "ExecuteTime": {
     "end_time": "2023-02-07T13:05:30.795123Z",
     "start_time": "2023-02-07T13:05:30.788390Z"
    }
   },
   "outputs": [],
   "source": [
    "device = torch.device(\"cuda:0\" if torch.cuda.is_available() else \"cpu\")"
   ]
  },
  {
   "cell_type": "markdown",
   "id": "06471204",
   "metadata": {},
   "source": [
    "## Load models"
   ]
  },
  {
   "cell_type": "markdown",
   "id": "7db202b7",
   "metadata": {},
   "source": [
    "Models: \n",
    "\n",
    "https://github.com/pytorch/vision/blob/main/torchvision/models/alexnet.py\n",
    "\n",
    "GoogleNet:\n",
    "\n",
    "https://github.com/pytorch/captum/blob/optim-wip/captum/optim/models/_image/inception_v1.py line 11\n",
    "\n",
    "torchvision googlenet:\n",
    "\n",
    "https://github.com/pytorch/vision/blob/main/torchvision/models/googlenet.py"
   ]
  },
  {
   "cell_type": "code",
   "execution_count": 5,
   "id": "5167e695",
   "metadata": {
    "ExecuteTime": {
     "end_time": "2023-02-07T13:05:31.386727Z",
     "start_time": "2023-02-07T13:05:30.824194Z"
    }
   },
   "outputs": [
    {
     "name": "stderr",
     "output_type": "stream",
     "text": [
      "Using cache found in /home/lauraom/.cache/torch/hub/pytorch_vision_v0.10.0\n",
      "/home/lauraom/anaconda3/envs/sw-interpretability/lib/python3.8/site-packages/torchvision/models/_utils.py:208: UserWarning: The parameter 'pretrained' is deprecated since 0.13 and may be removed in the future, please use 'weights' instead.\n",
      "  warnings.warn(\n",
      "/home/lauraom/anaconda3/envs/sw-interpretability/lib/python3.8/site-packages/torchvision/models/_utils.py:223: UserWarning: Arguments other than a weight enum or `None` for 'weights' are deprecated since 0.13 and may be removed in the future. The current behavior is equivalent to passing `weights=GoogLeNet_Weights.IMAGENET1K_V1`. You can also use `weights=GoogLeNet_Weights.DEFAULT` to get the most up-to-date weights.\n",
      "  warnings.warn(msg)\n"
     ]
    },
    {
     "data": {
      "text/plain": [
       "GoogLeNet(\n",
       "  (conv1): BasicConv2d(\n",
       "    (conv): Conv2d(3, 64, kernel_size=(7, 7), stride=(2, 2), padding=(3, 3), bias=False)\n",
       "    (bn): BatchNorm2d(64, eps=0.001, momentum=0.1, affine=True, track_running_stats=True)\n",
       "  )\n",
       "  (maxpool1): MaxPool2d(kernel_size=3, stride=2, padding=0, dilation=1, ceil_mode=True)\n",
       "  (conv2): BasicConv2d(\n",
       "    (conv): Conv2d(64, 64, kernel_size=(1, 1), stride=(1, 1), bias=False)\n",
       "    (bn): BatchNorm2d(64, eps=0.001, momentum=0.1, affine=True, track_running_stats=True)\n",
       "  )\n",
       "  (conv3): BasicConv2d(\n",
       "    (conv): Conv2d(64, 192, kernel_size=(3, 3), stride=(1, 1), padding=(1, 1), bias=False)\n",
       "    (bn): BatchNorm2d(192, eps=0.001, momentum=0.1, affine=True, track_running_stats=True)\n",
       "  )\n",
       "  (maxpool2): MaxPool2d(kernel_size=3, stride=2, padding=0, dilation=1, ceil_mode=True)\n",
       "  (inception3a): Inception(\n",
       "    (branch1): BasicConv2d(\n",
       "      (conv): Conv2d(192, 64, kernel_size=(1, 1), stride=(1, 1), bias=False)\n",
       "      (bn): BatchNorm2d(64, eps=0.001, momentum=0.1, affine=True, track_running_stats=True)\n",
       "    )\n",
       "    (branch2): Sequential(\n",
       "      (0): BasicConv2d(\n",
       "        (conv): Conv2d(192, 96, kernel_size=(1, 1), stride=(1, 1), bias=False)\n",
       "        (bn): BatchNorm2d(96, eps=0.001, momentum=0.1, affine=True, track_running_stats=True)\n",
       "      )\n",
       "      (1): BasicConv2d(\n",
       "        (conv): Conv2d(96, 128, kernel_size=(3, 3), stride=(1, 1), padding=(1, 1), bias=False)\n",
       "        (bn): BatchNorm2d(128, eps=0.001, momentum=0.1, affine=True, track_running_stats=True)\n",
       "      )\n",
       "    )\n",
       "    (branch3): Sequential(\n",
       "      (0): BasicConv2d(\n",
       "        (conv): Conv2d(192, 16, kernel_size=(1, 1), stride=(1, 1), bias=False)\n",
       "        (bn): BatchNorm2d(16, eps=0.001, momentum=0.1, affine=True, track_running_stats=True)\n",
       "      )\n",
       "      (1): BasicConv2d(\n",
       "        (conv): Conv2d(16, 32, kernel_size=(3, 3), stride=(1, 1), padding=(1, 1), bias=False)\n",
       "        (bn): BatchNorm2d(32, eps=0.001, momentum=0.1, affine=True, track_running_stats=True)\n",
       "      )\n",
       "    )\n",
       "    (branch4): Sequential(\n",
       "      (0): MaxPool2d(kernel_size=3, stride=1, padding=1, dilation=1, ceil_mode=True)\n",
       "      (1): BasicConv2d(\n",
       "        (conv): Conv2d(192, 32, kernel_size=(1, 1), stride=(1, 1), bias=False)\n",
       "        (bn): BatchNorm2d(32, eps=0.001, momentum=0.1, affine=True, track_running_stats=True)\n",
       "      )\n",
       "    )\n",
       "  )\n",
       "  (inception3b): Inception(\n",
       "    (branch1): BasicConv2d(\n",
       "      (conv): Conv2d(256, 128, kernel_size=(1, 1), stride=(1, 1), bias=False)\n",
       "      (bn): BatchNorm2d(128, eps=0.001, momentum=0.1, affine=True, track_running_stats=True)\n",
       "    )\n",
       "    (branch2): Sequential(\n",
       "      (0): BasicConv2d(\n",
       "        (conv): Conv2d(256, 128, kernel_size=(1, 1), stride=(1, 1), bias=False)\n",
       "        (bn): BatchNorm2d(128, eps=0.001, momentum=0.1, affine=True, track_running_stats=True)\n",
       "      )\n",
       "      (1): BasicConv2d(\n",
       "        (conv): Conv2d(128, 192, kernel_size=(3, 3), stride=(1, 1), padding=(1, 1), bias=False)\n",
       "        (bn): BatchNorm2d(192, eps=0.001, momentum=0.1, affine=True, track_running_stats=True)\n",
       "      )\n",
       "    )\n",
       "    (branch3): Sequential(\n",
       "      (0): BasicConv2d(\n",
       "        (conv): Conv2d(256, 32, kernel_size=(1, 1), stride=(1, 1), bias=False)\n",
       "        (bn): BatchNorm2d(32, eps=0.001, momentum=0.1, affine=True, track_running_stats=True)\n",
       "      )\n",
       "      (1): BasicConv2d(\n",
       "        (conv): Conv2d(32, 96, kernel_size=(3, 3), stride=(1, 1), padding=(1, 1), bias=False)\n",
       "        (bn): BatchNorm2d(96, eps=0.001, momentum=0.1, affine=True, track_running_stats=True)\n",
       "      )\n",
       "    )\n",
       "    (branch4): Sequential(\n",
       "      (0): MaxPool2d(kernel_size=3, stride=1, padding=1, dilation=1, ceil_mode=True)\n",
       "      (1): BasicConv2d(\n",
       "        (conv): Conv2d(256, 64, kernel_size=(1, 1), stride=(1, 1), bias=False)\n",
       "        (bn): BatchNorm2d(64, eps=0.001, momentum=0.1, affine=True, track_running_stats=True)\n",
       "      )\n",
       "    )\n",
       "  )\n",
       "  (maxpool3): MaxPool2d(kernel_size=3, stride=2, padding=0, dilation=1, ceil_mode=True)\n",
       "  (inception4a): Inception(\n",
       "    (branch1): BasicConv2d(\n",
       "      (conv): Conv2d(480, 192, kernel_size=(1, 1), stride=(1, 1), bias=False)\n",
       "      (bn): BatchNorm2d(192, eps=0.001, momentum=0.1, affine=True, track_running_stats=True)\n",
       "    )\n",
       "    (branch2): Sequential(\n",
       "      (0): BasicConv2d(\n",
       "        (conv): Conv2d(480, 96, kernel_size=(1, 1), stride=(1, 1), bias=False)\n",
       "        (bn): BatchNorm2d(96, eps=0.001, momentum=0.1, affine=True, track_running_stats=True)\n",
       "      )\n",
       "      (1): BasicConv2d(\n",
       "        (conv): Conv2d(96, 208, kernel_size=(3, 3), stride=(1, 1), padding=(1, 1), bias=False)\n",
       "        (bn): BatchNorm2d(208, eps=0.001, momentum=0.1, affine=True, track_running_stats=True)\n",
       "      )\n",
       "    )\n",
       "    (branch3): Sequential(\n",
       "      (0): BasicConv2d(\n",
       "        (conv): Conv2d(480, 16, kernel_size=(1, 1), stride=(1, 1), bias=False)\n",
       "        (bn): BatchNorm2d(16, eps=0.001, momentum=0.1, affine=True, track_running_stats=True)\n",
       "      )\n",
       "      (1): BasicConv2d(\n",
       "        (conv): Conv2d(16, 48, kernel_size=(3, 3), stride=(1, 1), padding=(1, 1), bias=False)\n",
       "        (bn): BatchNorm2d(48, eps=0.001, momentum=0.1, affine=True, track_running_stats=True)\n",
       "      )\n",
       "    )\n",
       "    (branch4): Sequential(\n",
       "      (0): MaxPool2d(kernel_size=3, stride=1, padding=1, dilation=1, ceil_mode=True)\n",
       "      (1): BasicConv2d(\n",
       "        (conv): Conv2d(480, 64, kernel_size=(1, 1), stride=(1, 1), bias=False)\n",
       "        (bn): BatchNorm2d(64, eps=0.001, momentum=0.1, affine=True, track_running_stats=True)\n",
       "      )\n",
       "    )\n",
       "  )\n",
       "  (inception4b): Inception(\n",
       "    (branch1): BasicConv2d(\n",
       "      (conv): Conv2d(512, 160, kernel_size=(1, 1), stride=(1, 1), bias=False)\n",
       "      (bn): BatchNorm2d(160, eps=0.001, momentum=0.1, affine=True, track_running_stats=True)\n",
       "    )\n",
       "    (branch2): Sequential(\n",
       "      (0): BasicConv2d(\n",
       "        (conv): Conv2d(512, 112, kernel_size=(1, 1), stride=(1, 1), bias=False)\n",
       "        (bn): BatchNorm2d(112, eps=0.001, momentum=0.1, affine=True, track_running_stats=True)\n",
       "      )\n",
       "      (1): BasicConv2d(\n",
       "        (conv): Conv2d(112, 224, kernel_size=(3, 3), stride=(1, 1), padding=(1, 1), bias=False)\n",
       "        (bn): BatchNorm2d(224, eps=0.001, momentum=0.1, affine=True, track_running_stats=True)\n",
       "      )\n",
       "    )\n",
       "    (branch3): Sequential(\n",
       "      (0): BasicConv2d(\n",
       "        (conv): Conv2d(512, 24, kernel_size=(1, 1), stride=(1, 1), bias=False)\n",
       "        (bn): BatchNorm2d(24, eps=0.001, momentum=0.1, affine=True, track_running_stats=True)\n",
       "      )\n",
       "      (1): BasicConv2d(\n",
       "        (conv): Conv2d(24, 64, kernel_size=(3, 3), stride=(1, 1), padding=(1, 1), bias=False)\n",
       "        (bn): BatchNorm2d(64, eps=0.001, momentum=0.1, affine=True, track_running_stats=True)\n",
       "      )\n",
       "    )\n",
       "    (branch4): Sequential(\n",
       "      (0): MaxPool2d(kernel_size=3, stride=1, padding=1, dilation=1, ceil_mode=True)\n",
       "      (1): BasicConv2d(\n",
       "        (conv): Conv2d(512, 64, kernel_size=(1, 1), stride=(1, 1), bias=False)\n",
       "        (bn): BatchNorm2d(64, eps=0.001, momentum=0.1, affine=True, track_running_stats=True)\n",
       "      )\n",
       "    )\n",
       "  )\n",
       "  (inception4c): Inception(\n",
       "    (branch1): BasicConv2d(\n",
       "      (conv): Conv2d(512, 128, kernel_size=(1, 1), stride=(1, 1), bias=False)\n",
       "      (bn): BatchNorm2d(128, eps=0.001, momentum=0.1, affine=True, track_running_stats=True)\n",
       "    )\n",
       "    (branch2): Sequential(\n",
       "      (0): BasicConv2d(\n",
       "        (conv): Conv2d(512, 128, kernel_size=(1, 1), stride=(1, 1), bias=False)\n",
       "        (bn): BatchNorm2d(128, eps=0.001, momentum=0.1, affine=True, track_running_stats=True)\n",
       "      )\n",
       "      (1): BasicConv2d(\n",
       "        (conv): Conv2d(128, 256, kernel_size=(3, 3), stride=(1, 1), padding=(1, 1), bias=False)\n",
       "        (bn): BatchNorm2d(256, eps=0.001, momentum=0.1, affine=True, track_running_stats=True)\n",
       "      )\n",
       "    )\n",
       "    (branch3): Sequential(\n",
       "      (0): BasicConv2d(\n",
       "        (conv): Conv2d(512, 24, kernel_size=(1, 1), stride=(1, 1), bias=False)\n",
       "        (bn): BatchNorm2d(24, eps=0.001, momentum=0.1, affine=True, track_running_stats=True)\n",
       "      )\n",
       "      (1): BasicConv2d(\n",
       "        (conv): Conv2d(24, 64, kernel_size=(3, 3), stride=(1, 1), padding=(1, 1), bias=False)\n",
       "        (bn): BatchNorm2d(64, eps=0.001, momentum=0.1, affine=True, track_running_stats=True)\n",
       "      )\n",
       "    )\n",
       "    (branch4): Sequential(\n",
       "      (0): MaxPool2d(kernel_size=3, stride=1, padding=1, dilation=1, ceil_mode=True)\n",
       "      (1): BasicConv2d(\n",
       "        (conv): Conv2d(512, 64, kernel_size=(1, 1), stride=(1, 1), bias=False)\n",
       "        (bn): BatchNorm2d(64, eps=0.001, momentum=0.1, affine=True, track_running_stats=True)\n",
       "      )\n",
       "    )\n",
       "  )\n",
       "  (inception4d): Inception(\n",
       "    (branch1): BasicConv2d(\n",
       "      (conv): Conv2d(512, 112, kernel_size=(1, 1), stride=(1, 1), bias=False)\n",
       "      (bn): BatchNorm2d(112, eps=0.001, momentum=0.1, affine=True, track_running_stats=True)\n",
       "    )\n",
       "    (branch2): Sequential(\n",
       "      (0): BasicConv2d(\n",
       "        (conv): Conv2d(512, 144, kernel_size=(1, 1), stride=(1, 1), bias=False)\n",
       "        (bn): BatchNorm2d(144, eps=0.001, momentum=0.1, affine=True, track_running_stats=True)\n",
       "      )\n",
       "      (1): BasicConv2d(\n",
       "        (conv): Conv2d(144, 288, kernel_size=(3, 3), stride=(1, 1), padding=(1, 1), bias=False)\n",
       "        (bn): BatchNorm2d(288, eps=0.001, momentum=0.1, affine=True, track_running_stats=True)\n",
       "      )\n",
       "    )\n",
       "    (branch3): Sequential(\n",
       "      (0): BasicConv2d(\n",
       "        (conv): Conv2d(512, 32, kernel_size=(1, 1), stride=(1, 1), bias=False)\n",
       "        (bn): BatchNorm2d(32, eps=0.001, momentum=0.1, affine=True, track_running_stats=True)\n",
       "      )\n",
       "      (1): BasicConv2d(\n",
       "        (conv): Conv2d(32, 64, kernel_size=(3, 3), stride=(1, 1), padding=(1, 1), bias=False)\n",
       "        (bn): BatchNorm2d(64, eps=0.001, momentum=0.1, affine=True, track_running_stats=True)\n",
       "      )\n",
       "    )\n",
       "    (branch4): Sequential(\n",
       "      (0): MaxPool2d(kernel_size=3, stride=1, padding=1, dilation=1, ceil_mode=True)\n",
       "      (1): BasicConv2d(\n",
       "        (conv): Conv2d(512, 64, kernel_size=(1, 1), stride=(1, 1), bias=False)\n",
       "        (bn): BatchNorm2d(64, eps=0.001, momentum=0.1, affine=True, track_running_stats=True)\n",
       "      )\n",
       "    )\n",
       "  )\n",
       "  (inception4e): Inception(\n",
       "    (branch1): BasicConv2d(\n",
       "      (conv): Conv2d(528, 256, kernel_size=(1, 1), stride=(1, 1), bias=False)\n",
       "      (bn): BatchNorm2d(256, eps=0.001, momentum=0.1, affine=True, track_running_stats=True)\n",
       "    )\n",
       "    (branch2): Sequential(\n",
       "      (0): BasicConv2d(\n",
       "        (conv): Conv2d(528, 160, kernel_size=(1, 1), stride=(1, 1), bias=False)\n",
       "        (bn): BatchNorm2d(160, eps=0.001, momentum=0.1, affine=True, track_running_stats=True)\n",
       "      )\n",
       "      (1): BasicConv2d(\n",
       "        (conv): Conv2d(160, 320, kernel_size=(3, 3), stride=(1, 1), padding=(1, 1), bias=False)\n",
       "        (bn): BatchNorm2d(320, eps=0.001, momentum=0.1, affine=True, track_running_stats=True)\n",
       "      )\n",
       "    )\n",
       "    (branch3): Sequential(\n",
       "      (0): BasicConv2d(\n",
       "        (conv): Conv2d(528, 32, kernel_size=(1, 1), stride=(1, 1), bias=False)\n",
       "        (bn): BatchNorm2d(32, eps=0.001, momentum=0.1, affine=True, track_running_stats=True)\n",
       "      )\n",
       "      (1): BasicConv2d(\n",
       "        (conv): Conv2d(32, 128, kernel_size=(3, 3), stride=(1, 1), padding=(1, 1), bias=False)\n",
       "        (bn): BatchNorm2d(128, eps=0.001, momentum=0.1, affine=True, track_running_stats=True)\n",
       "      )\n",
       "    )\n",
       "    (branch4): Sequential(\n",
       "      (0): MaxPool2d(kernel_size=3, stride=1, padding=1, dilation=1, ceil_mode=True)\n",
       "      (1): BasicConv2d(\n",
       "        (conv): Conv2d(528, 128, kernel_size=(1, 1), stride=(1, 1), bias=False)\n",
       "        (bn): BatchNorm2d(128, eps=0.001, momentum=0.1, affine=True, track_running_stats=True)\n",
       "      )\n",
       "    )\n",
       "  )\n",
       "  (maxpool4): MaxPool2d(kernel_size=2, stride=2, padding=0, dilation=1, ceil_mode=True)\n",
       "  (inception5a): Inception(\n",
       "    (branch1): BasicConv2d(\n",
       "      (conv): Conv2d(832, 256, kernel_size=(1, 1), stride=(1, 1), bias=False)\n",
       "      (bn): BatchNorm2d(256, eps=0.001, momentum=0.1, affine=True, track_running_stats=True)\n",
       "    )\n",
       "    (branch2): Sequential(\n",
       "      (0): BasicConv2d(\n",
       "        (conv): Conv2d(832, 160, kernel_size=(1, 1), stride=(1, 1), bias=False)\n",
       "        (bn): BatchNorm2d(160, eps=0.001, momentum=0.1, affine=True, track_running_stats=True)\n",
       "      )\n",
       "      (1): BasicConv2d(\n",
       "        (conv): Conv2d(160, 320, kernel_size=(3, 3), stride=(1, 1), padding=(1, 1), bias=False)\n",
       "        (bn): BatchNorm2d(320, eps=0.001, momentum=0.1, affine=True, track_running_stats=True)\n",
       "      )\n",
       "    )\n",
       "    (branch3): Sequential(\n",
       "      (0): BasicConv2d(\n",
       "        (conv): Conv2d(832, 32, kernel_size=(1, 1), stride=(1, 1), bias=False)\n",
       "        (bn): BatchNorm2d(32, eps=0.001, momentum=0.1, affine=True, track_running_stats=True)\n",
       "      )\n",
       "      (1): BasicConv2d(\n",
       "        (conv): Conv2d(32, 128, kernel_size=(3, 3), stride=(1, 1), padding=(1, 1), bias=False)\n",
       "        (bn): BatchNorm2d(128, eps=0.001, momentum=0.1, affine=True, track_running_stats=True)\n",
       "      )\n",
       "    )\n",
       "    (branch4): Sequential(\n",
       "      (0): MaxPool2d(kernel_size=3, stride=1, padding=1, dilation=1, ceil_mode=True)\n",
       "      (1): BasicConv2d(\n",
       "        (conv): Conv2d(832, 128, kernel_size=(1, 1), stride=(1, 1), bias=False)\n",
       "        (bn): BatchNorm2d(128, eps=0.001, momentum=0.1, affine=True, track_running_stats=True)\n",
       "      )\n",
       "    )\n",
       "  )\n",
       "  (inception5b): Inception(\n",
       "    (branch1): BasicConv2d(\n",
       "      (conv): Conv2d(832, 384, kernel_size=(1, 1), stride=(1, 1), bias=False)\n",
       "      (bn): BatchNorm2d(384, eps=0.001, momentum=0.1, affine=True, track_running_stats=True)\n",
       "    )\n",
       "    (branch2): Sequential(\n",
       "      (0): BasicConv2d(\n",
       "        (conv): Conv2d(832, 192, kernel_size=(1, 1), stride=(1, 1), bias=False)\n",
       "        (bn): BatchNorm2d(192, eps=0.001, momentum=0.1, affine=True, track_running_stats=True)\n",
       "      )\n",
       "      (1): BasicConv2d(\n",
       "        (conv): Conv2d(192, 384, kernel_size=(3, 3), stride=(1, 1), padding=(1, 1), bias=False)\n",
       "        (bn): BatchNorm2d(384, eps=0.001, momentum=0.1, affine=True, track_running_stats=True)\n",
       "      )\n",
       "    )\n",
       "    (branch3): Sequential(\n",
       "      (0): BasicConv2d(\n",
       "        (conv): Conv2d(832, 48, kernel_size=(1, 1), stride=(1, 1), bias=False)\n",
       "        (bn): BatchNorm2d(48, eps=0.001, momentum=0.1, affine=True, track_running_stats=True)\n",
       "      )\n",
       "      (1): BasicConv2d(\n",
       "        (conv): Conv2d(48, 128, kernel_size=(3, 3), stride=(1, 1), padding=(1, 1), bias=False)\n",
       "        (bn): BatchNorm2d(128, eps=0.001, momentum=0.1, affine=True, track_running_stats=True)\n",
       "      )\n",
       "    )\n",
       "    (branch4): Sequential(\n",
       "      (0): MaxPool2d(kernel_size=3, stride=1, padding=1, dilation=1, ceil_mode=True)\n",
       "      (1): BasicConv2d(\n",
       "        (conv): Conv2d(832, 128, kernel_size=(1, 1), stride=(1, 1), bias=False)\n",
       "        (bn): BatchNorm2d(128, eps=0.001, momentum=0.1, affine=True, track_running_stats=True)\n",
       "      )\n",
       "    )\n",
       "  )\n",
       "  (aux1): None\n",
       "  (aux2): None\n",
       "  (avgpool): AdaptiveAvgPool2d(output_size=(1, 1))\n",
       "  (dropout): Dropout(p=0.2, inplace=False)\n",
       "  (fc): Linear(in_features=1024, out_features=1000, bias=True)\n",
       ")"
      ]
     },
     "execution_count": 5,
     "metadata": {},
     "output_type": "execute_result"
    }
   ],
   "source": [
    "googlenet_torchhub = torch.hub.load('pytorch/vision:v0.10.0', 'googlenet', pretrained=True).to(device)\n",
    "googlenet_torchhub.eval()"
   ]
  },
  {
   "cell_type": "code",
   "execution_count": 6,
   "id": "3ac41133",
   "metadata": {
    "ExecuteTime": {
     "end_time": "2023-02-07T13:05:32.011434Z",
     "start_time": "2023-02-07T13:05:31.443108Z"
    }
   },
   "outputs": [
    {
     "data": {
      "text/plain": [
       "GoogLeNet(\n",
       "  (conv1): BasicConv2d(\n",
       "    (conv): Conv2d(3, 64, kernel_size=(7, 7), stride=(2, 2), padding=(3, 3), bias=False)\n",
       "    (bn): BatchNorm2d(64, eps=0.001, momentum=0.1, affine=True, track_running_stats=True)\n",
       "  )\n",
       "  (maxpool1): MaxPool2d(kernel_size=3, stride=2, padding=0, dilation=1, ceil_mode=True)\n",
       "  (conv2): BasicConv2d(\n",
       "    (conv): Conv2d(64, 64, kernel_size=(1, 1), stride=(1, 1), bias=False)\n",
       "    (bn): BatchNorm2d(64, eps=0.001, momentum=0.1, affine=True, track_running_stats=True)\n",
       "  )\n",
       "  (conv3): BasicConv2d(\n",
       "    (conv): Conv2d(64, 192, kernel_size=(3, 3), stride=(1, 1), padding=(1, 1), bias=False)\n",
       "    (bn): BatchNorm2d(192, eps=0.001, momentum=0.1, affine=True, track_running_stats=True)\n",
       "  )\n",
       "  (maxpool2): MaxPool2d(kernel_size=3, stride=2, padding=0, dilation=1, ceil_mode=True)\n",
       "  (inception3a): Inception(\n",
       "    (branch1): BasicConv2d(\n",
       "      (conv): Conv2d(192, 64, kernel_size=(1, 1), stride=(1, 1), bias=False)\n",
       "      (bn): BatchNorm2d(64, eps=0.001, momentum=0.1, affine=True, track_running_stats=True)\n",
       "    )\n",
       "    (branch2): Sequential(\n",
       "      (0): BasicConv2d(\n",
       "        (conv): Conv2d(192, 96, kernel_size=(1, 1), stride=(1, 1), bias=False)\n",
       "        (bn): BatchNorm2d(96, eps=0.001, momentum=0.1, affine=True, track_running_stats=True)\n",
       "      )\n",
       "      (1): BasicConv2d(\n",
       "        (conv): Conv2d(96, 128, kernel_size=(3, 3), stride=(1, 1), padding=(1, 1), bias=False)\n",
       "        (bn): BatchNorm2d(128, eps=0.001, momentum=0.1, affine=True, track_running_stats=True)\n",
       "      )\n",
       "    )\n",
       "    (branch3): Sequential(\n",
       "      (0): BasicConv2d(\n",
       "        (conv): Conv2d(192, 16, kernel_size=(1, 1), stride=(1, 1), bias=False)\n",
       "        (bn): BatchNorm2d(16, eps=0.001, momentum=0.1, affine=True, track_running_stats=True)\n",
       "      )\n",
       "      (1): BasicConv2d(\n",
       "        (conv): Conv2d(16, 32, kernel_size=(3, 3), stride=(1, 1), padding=(1, 1), bias=False)\n",
       "        (bn): BatchNorm2d(32, eps=0.001, momentum=0.1, affine=True, track_running_stats=True)\n",
       "      )\n",
       "    )\n",
       "    (branch4): Sequential(\n",
       "      (0): MaxPool2d(kernel_size=3, stride=1, padding=1, dilation=1, ceil_mode=True)\n",
       "      (1): BasicConv2d(\n",
       "        (conv): Conv2d(192, 32, kernel_size=(1, 1), stride=(1, 1), bias=False)\n",
       "        (bn): BatchNorm2d(32, eps=0.001, momentum=0.1, affine=True, track_running_stats=True)\n",
       "      )\n",
       "    )\n",
       "  )\n",
       "  (inception3b): Inception(\n",
       "    (branch1): BasicConv2d(\n",
       "      (conv): Conv2d(256, 128, kernel_size=(1, 1), stride=(1, 1), bias=False)\n",
       "      (bn): BatchNorm2d(128, eps=0.001, momentum=0.1, affine=True, track_running_stats=True)\n",
       "    )\n",
       "    (branch2): Sequential(\n",
       "      (0): BasicConv2d(\n",
       "        (conv): Conv2d(256, 128, kernel_size=(1, 1), stride=(1, 1), bias=False)\n",
       "        (bn): BatchNorm2d(128, eps=0.001, momentum=0.1, affine=True, track_running_stats=True)\n",
       "      )\n",
       "      (1): BasicConv2d(\n",
       "        (conv): Conv2d(128, 192, kernel_size=(3, 3), stride=(1, 1), padding=(1, 1), bias=False)\n",
       "        (bn): BatchNorm2d(192, eps=0.001, momentum=0.1, affine=True, track_running_stats=True)\n",
       "      )\n",
       "    )\n",
       "    (branch3): Sequential(\n",
       "      (0): BasicConv2d(\n",
       "        (conv): Conv2d(256, 32, kernel_size=(1, 1), stride=(1, 1), bias=False)\n",
       "        (bn): BatchNorm2d(32, eps=0.001, momentum=0.1, affine=True, track_running_stats=True)\n",
       "      )\n",
       "      (1): BasicConv2d(\n",
       "        (conv): Conv2d(32, 96, kernel_size=(3, 3), stride=(1, 1), padding=(1, 1), bias=False)\n",
       "        (bn): BatchNorm2d(96, eps=0.001, momentum=0.1, affine=True, track_running_stats=True)\n",
       "      )\n",
       "    )\n",
       "    (branch4): Sequential(\n",
       "      (0): MaxPool2d(kernel_size=3, stride=1, padding=1, dilation=1, ceil_mode=True)\n",
       "      (1): BasicConv2d(\n",
       "        (conv): Conv2d(256, 64, kernel_size=(1, 1), stride=(1, 1), bias=False)\n",
       "        (bn): BatchNorm2d(64, eps=0.001, momentum=0.1, affine=True, track_running_stats=True)\n",
       "      )\n",
       "    )\n",
       "  )\n",
       "  (maxpool3): MaxPool2d(kernel_size=3, stride=2, padding=0, dilation=1, ceil_mode=True)\n",
       "  (inception4a): Inception(\n",
       "    (branch1): BasicConv2d(\n",
       "      (conv): Conv2d(480, 192, kernel_size=(1, 1), stride=(1, 1), bias=False)\n",
       "      (bn): BatchNorm2d(192, eps=0.001, momentum=0.1, affine=True, track_running_stats=True)\n",
       "    )\n",
       "    (branch2): Sequential(\n",
       "      (0): BasicConv2d(\n",
       "        (conv): Conv2d(480, 96, kernel_size=(1, 1), stride=(1, 1), bias=False)\n",
       "        (bn): BatchNorm2d(96, eps=0.001, momentum=0.1, affine=True, track_running_stats=True)\n",
       "      )\n",
       "      (1): BasicConv2d(\n",
       "        (conv): Conv2d(96, 208, kernel_size=(3, 3), stride=(1, 1), padding=(1, 1), bias=False)\n",
       "        (bn): BatchNorm2d(208, eps=0.001, momentum=0.1, affine=True, track_running_stats=True)\n",
       "      )\n",
       "    )\n",
       "    (branch3): Sequential(\n",
       "      (0): BasicConv2d(\n",
       "        (conv): Conv2d(480, 16, kernel_size=(1, 1), stride=(1, 1), bias=False)\n",
       "        (bn): BatchNorm2d(16, eps=0.001, momentum=0.1, affine=True, track_running_stats=True)\n",
       "      )\n",
       "      (1): BasicConv2d(\n",
       "        (conv): Conv2d(16, 48, kernel_size=(3, 3), stride=(1, 1), padding=(1, 1), bias=False)\n",
       "        (bn): BatchNorm2d(48, eps=0.001, momentum=0.1, affine=True, track_running_stats=True)\n",
       "      )\n",
       "    )\n",
       "    (branch4): Sequential(\n",
       "      (0): MaxPool2d(kernel_size=3, stride=1, padding=1, dilation=1, ceil_mode=True)\n",
       "      (1): BasicConv2d(\n",
       "        (conv): Conv2d(480, 64, kernel_size=(1, 1), stride=(1, 1), bias=False)\n",
       "        (bn): BatchNorm2d(64, eps=0.001, momentum=0.1, affine=True, track_running_stats=True)\n",
       "      )\n",
       "    )\n",
       "  )\n",
       "  (inception4b): Inception(\n",
       "    (branch1): BasicConv2d(\n",
       "      (conv): Conv2d(512, 160, kernel_size=(1, 1), stride=(1, 1), bias=False)\n",
       "      (bn): BatchNorm2d(160, eps=0.001, momentum=0.1, affine=True, track_running_stats=True)\n",
       "    )\n",
       "    (branch2): Sequential(\n",
       "      (0): BasicConv2d(\n",
       "        (conv): Conv2d(512, 112, kernel_size=(1, 1), stride=(1, 1), bias=False)\n",
       "        (bn): BatchNorm2d(112, eps=0.001, momentum=0.1, affine=True, track_running_stats=True)\n",
       "      )\n",
       "      (1): BasicConv2d(\n",
       "        (conv): Conv2d(112, 224, kernel_size=(3, 3), stride=(1, 1), padding=(1, 1), bias=False)\n",
       "        (bn): BatchNorm2d(224, eps=0.001, momentum=0.1, affine=True, track_running_stats=True)\n",
       "      )\n",
       "    )\n",
       "    (branch3): Sequential(\n",
       "      (0): BasicConv2d(\n",
       "        (conv): Conv2d(512, 24, kernel_size=(1, 1), stride=(1, 1), bias=False)\n",
       "        (bn): BatchNorm2d(24, eps=0.001, momentum=0.1, affine=True, track_running_stats=True)\n",
       "      )\n",
       "      (1): BasicConv2d(\n",
       "        (conv): Conv2d(24, 64, kernel_size=(3, 3), stride=(1, 1), padding=(1, 1), bias=False)\n",
       "        (bn): BatchNorm2d(64, eps=0.001, momentum=0.1, affine=True, track_running_stats=True)\n",
       "      )\n",
       "    )\n",
       "    (branch4): Sequential(\n",
       "      (0): MaxPool2d(kernel_size=3, stride=1, padding=1, dilation=1, ceil_mode=True)\n",
       "      (1): BasicConv2d(\n",
       "        (conv): Conv2d(512, 64, kernel_size=(1, 1), stride=(1, 1), bias=False)\n",
       "        (bn): BatchNorm2d(64, eps=0.001, momentum=0.1, affine=True, track_running_stats=True)\n",
       "      )\n",
       "    )\n",
       "  )\n",
       "  (inception4c): Inception(\n",
       "    (branch1): BasicConv2d(\n",
       "      (conv): Conv2d(512, 128, kernel_size=(1, 1), stride=(1, 1), bias=False)\n",
       "      (bn): BatchNorm2d(128, eps=0.001, momentum=0.1, affine=True, track_running_stats=True)\n",
       "    )\n",
       "    (branch2): Sequential(\n",
       "      (0): BasicConv2d(\n",
       "        (conv): Conv2d(512, 128, kernel_size=(1, 1), stride=(1, 1), bias=False)\n",
       "        (bn): BatchNorm2d(128, eps=0.001, momentum=0.1, affine=True, track_running_stats=True)\n",
       "      )\n",
       "      (1): BasicConv2d(\n",
       "        (conv): Conv2d(128, 256, kernel_size=(3, 3), stride=(1, 1), padding=(1, 1), bias=False)\n",
       "        (bn): BatchNorm2d(256, eps=0.001, momentum=0.1, affine=True, track_running_stats=True)\n",
       "      )\n",
       "    )\n",
       "    (branch3): Sequential(\n",
       "      (0): BasicConv2d(\n",
       "        (conv): Conv2d(512, 24, kernel_size=(1, 1), stride=(1, 1), bias=False)\n",
       "        (bn): BatchNorm2d(24, eps=0.001, momentum=0.1, affine=True, track_running_stats=True)\n",
       "      )\n",
       "      (1): BasicConv2d(\n",
       "        (conv): Conv2d(24, 64, kernel_size=(3, 3), stride=(1, 1), padding=(1, 1), bias=False)\n",
       "        (bn): BatchNorm2d(64, eps=0.001, momentum=0.1, affine=True, track_running_stats=True)\n",
       "      )\n",
       "    )\n",
       "    (branch4): Sequential(\n",
       "      (0): MaxPool2d(kernel_size=3, stride=1, padding=1, dilation=1, ceil_mode=True)\n",
       "      (1): BasicConv2d(\n",
       "        (conv): Conv2d(512, 64, kernel_size=(1, 1), stride=(1, 1), bias=False)\n",
       "        (bn): BatchNorm2d(64, eps=0.001, momentum=0.1, affine=True, track_running_stats=True)\n",
       "      )\n",
       "    )\n",
       "  )\n",
       "  (inception4d): Inception(\n",
       "    (branch1): BasicConv2d(\n",
       "      (conv): Conv2d(512, 112, kernel_size=(1, 1), stride=(1, 1), bias=False)\n",
       "      (bn): BatchNorm2d(112, eps=0.001, momentum=0.1, affine=True, track_running_stats=True)\n",
       "    )\n",
       "    (branch2): Sequential(\n",
       "      (0): BasicConv2d(\n",
       "        (conv): Conv2d(512, 144, kernel_size=(1, 1), stride=(1, 1), bias=False)\n",
       "        (bn): BatchNorm2d(144, eps=0.001, momentum=0.1, affine=True, track_running_stats=True)\n",
       "      )\n",
       "      (1): BasicConv2d(\n",
       "        (conv): Conv2d(144, 288, kernel_size=(3, 3), stride=(1, 1), padding=(1, 1), bias=False)\n",
       "        (bn): BatchNorm2d(288, eps=0.001, momentum=0.1, affine=True, track_running_stats=True)\n",
       "      )\n",
       "    )\n",
       "    (branch3): Sequential(\n",
       "      (0): BasicConv2d(\n",
       "        (conv): Conv2d(512, 32, kernel_size=(1, 1), stride=(1, 1), bias=False)\n",
       "        (bn): BatchNorm2d(32, eps=0.001, momentum=0.1, affine=True, track_running_stats=True)\n",
       "      )\n",
       "      (1): BasicConv2d(\n",
       "        (conv): Conv2d(32, 64, kernel_size=(3, 3), stride=(1, 1), padding=(1, 1), bias=False)\n",
       "        (bn): BatchNorm2d(64, eps=0.001, momentum=0.1, affine=True, track_running_stats=True)\n",
       "      )\n",
       "    )\n",
       "    (branch4): Sequential(\n",
       "      (0): MaxPool2d(kernel_size=3, stride=1, padding=1, dilation=1, ceil_mode=True)\n",
       "      (1): BasicConv2d(\n",
       "        (conv): Conv2d(512, 64, kernel_size=(1, 1), stride=(1, 1), bias=False)\n",
       "        (bn): BatchNorm2d(64, eps=0.001, momentum=0.1, affine=True, track_running_stats=True)\n",
       "      )\n",
       "    )\n",
       "  )\n",
       "  (inception4e): Inception(\n",
       "    (branch1): BasicConv2d(\n",
       "      (conv): Conv2d(528, 256, kernel_size=(1, 1), stride=(1, 1), bias=False)\n",
       "      (bn): BatchNorm2d(256, eps=0.001, momentum=0.1, affine=True, track_running_stats=True)\n",
       "    )\n",
       "    (branch2): Sequential(\n",
       "      (0): BasicConv2d(\n",
       "        (conv): Conv2d(528, 160, kernel_size=(1, 1), stride=(1, 1), bias=False)\n",
       "        (bn): BatchNorm2d(160, eps=0.001, momentum=0.1, affine=True, track_running_stats=True)\n",
       "      )\n",
       "      (1): BasicConv2d(\n",
       "        (conv): Conv2d(160, 320, kernel_size=(3, 3), stride=(1, 1), padding=(1, 1), bias=False)\n",
       "        (bn): BatchNorm2d(320, eps=0.001, momentum=0.1, affine=True, track_running_stats=True)\n",
       "      )\n",
       "    )\n",
       "    (branch3): Sequential(\n",
       "      (0): BasicConv2d(\n",
       "        (conv): Conv2d(528, 32, kernel_size=(1, 1), stride=(1, 1), bias=False)\n",
       "        (bn): BatchNorm2d(32, eps=0.001, momentum=0.1, affine=True, track_running_stats=True)\n",
       "      )\n",
       "      (1): BasicConv2d(\n",
       "        (conv): Conv2d(32, 128, kernel_size=(3, 3), stride=(1, 1), padding=(1, 1), bias=False)\n",
       "        (bn): BatchNorm2d(128, eps=0.001, momentum=0.1, affine=True, track_running_stats=True)\n",
       "      )\n",
       "    )\n",
       "    (branch4): Sequential(\n",
       "      (0): MaxPool2d(kernel_size=3, stride=1, padding=1, dilation=1, ceil_mode=True)\n",
       "      (1): BasicConv2d(\n",
       "        (conv): Conv2d(528, 128, kernel_size=(1, 1), stride=(1, 1), bias=False)\n",
       "        (bn): BatchNorm2d(128, eps=0.001, momentum=0.1, affine=True, track_running_stats=True)\n",
       "      )\n",
       "    )\n",
       "  )\n",
       "  (maxpool4): MaxPool2d(kernel_size=2, stride=2, padding=0, dilation=1, ceil_mode=True)\n",
       "  (inception5a): Inception(\n",
       "    (branch1): BasicConv2d(\n",
       "      (conv): Conv2d(832, 256, kernel_size=(1, 1), stride=(1, 1), bias=False)\n",
       "      (bn): BatchNorm2d(256, eps=0.001, momentum=0.1, affine=True, track_running_stats=True)\n",
       "    )\n",
       "    (branch2): Sequential(\n",
       "      (0): BasicConv2d(\n",
       "        (conv): Conv2d(832, 160, kernel_size=(1, 1), stride=(1, 1), bias=False)\n",
       "        (bn): BatchNorm2d(160, eps=0.001, momentum=0.1, affine=True, track_running_stats=True)\n",
       "      )\n",
       "      (1): BasicConv2d(\n",
       "        (conv): Conv2d(160, 320, kernel_size=(3, 3), stride=(1, 1), padding=(1, 1), bias=False)\n",
       "        (bn): BatchNorm2d(320, eps=0.001, momentum=0.1, affine=True, track_running_stats=True)\n",
       "      )\n",
       "    )\n",
       "    (branch3): Sequential(\n",
       "      (0): BasicConv2d(\n",
       "        (conv): Conv2d(832, 32, kernel_size=(1, 1), stride=(1, 1), bias=False)\n",
       "        (bn): BatchNorm2d(32, eps=0.001, momentum=0.1, affine=True, track_running_stats=True)\n",
       "      )\n",
       "      (1): BasicConv2d(\n",
       "        (conv): Conv2d(32, 128, kernel_size=(3, 3), stride=(1, 1), padding=(1, 1), bias=False)\n",
       "        (bn): BatchNorm2d(128, eps=0.001, momentum=0.1, affine=True, track_running_stats=True)\n",
       "      )\n",
       "    )\n",
       "    (branch4): Sequential(\n",
       "      (0): MaxPool2d(kernel_size=3, stride=1, padding=1, dilation=1, ceil_mode=True)\n",
       "      (1): BasicConv2d(\n",
       "        (conv): Conv2d(832, 128, kernel_size=(1, 1), stride=(1, 1), bias=False)\n",
       "        (bn): BatchNorm2d(128, eps=0.001, momentum=0.1, affine=True, track_running_stats=True)\n",
       "      )\n",
       "    )\n",
       "  )\n",
       "  (inception5b): Inception(\n",
       "    (branch1): BasicConv2d(\n",
       "      (conv): Conv2d(832, 384, kernel_size=(1, 1), stride=(1, 1), bias=False)\n",
       "      (bn): BatchNorm2d(384, eps=0.001, momentum=0.1, affine=True, track_running_stats=True)\n",
       "    )\n",
       "    (branch2): Sequential(\n",
       "      (0): BasicConv2d(\n",
       "        (conv): Conv2d(832, 192, kernel_size=(1, 1), stride=(1, 1), bias=False)\n",
       "        (bn): BatchNorm2d(192, eps=0.001, momentum=0.1, affine=True, track_running_stats=True)\n",
       "      )\n",
       "      (1): BasicConv2d(\n",
       "        (conv): Conv2d(192, 384, kernel_size=(3, 3), stride=(1, 1), padding=(1, 1), bias=False)\n",
       "        (bn): BatchNorm2d(384, eps=0.001, momentum=0.1, affine=True, track_running_stats=True)\n",
       "      )\n",
       "    )\n",
       "    (branch3): Sequential(\n",
       "      (0): BasicConv2d(\n",
       "        (conv): Conv2d(832, 48, kernel_size=(1, 1), stride=(1, 1), bias=False)\n",
       "        (bn): BatchNorm2d(48, eps=0.001, momentum=0.1, affine=True, track_running_stats=True)\n",
       "      )\n",
       "      (1): BasicConv2d(\n",
       "        (conv): Conv2d(48, 128, kernel_size=(3, 3), stride=(1, 1), padding=(1, 1), bias=False)\n",
       "        (bn): BatchNorm2d(128, eps=0.001, momentum=0.1, affine=True, track_running_stats=True)\n",
       "      )\n",
       "    )\n",
       "    (branch4): Sequential(\n",
       "      (0): MaxPool2d(kernel_size=3, stride=1, padding=1, dilation=1, ceil_mode=True)\n",
       "      (1): BasicConv2d(\n",
       "        (conv): Conv2d(832, 128, kernel_size=(1, 1), stride=(1, 1), bias=False)\n",
       "        (bn): BatchNorm2d(128, eps=0.001, momentum=0.1, affine=True, track_running_stats=True)\n",
       "      )\n",
       "    )\n",
       "  )\n",
       "  (aux1): None\n",
       "  (aux2): None\n",
       "  (avgpool): AdaptiveAvgPool2d(output_size=(1, 1))\n",
       "  (dropout): Dropout(p=0.2, inplace=False)\n",
       "  (fc): Linear(in_features=1024, out_features=1000, bias=True)\n",
       ")"
      ]
     },
     "execution_count": 6,
     "metadata": {},
     "output_type": "execute_result"
    }
   ],
   "source": [
    "googlenet_torchvision = torchvision.models.googlenet(pretrained=True).to(device)\n",
    "googlenet_torchvision.eval()"
   ]
  },
  {
   "cell_type": "code",
   "execution_count": 7,
   "id": "3283656c",
   "metadata": {
    "ExecuteTime": {
     "end_time": "2023-02-07T13:05:32.231657Z",
     "start_time": "2023-02-07T13:05:32.071170Z"
    },
    "scrolled": true
   },
   "outputs": [
    {
     "data": {
      "text/plain": [
       "InceptionV1(\n",
       "  (conv1): Conv2dSame(3, 64, kernel_size=(7, 7), stride=(2, 2))\n",
       "  (conv1_relu): RedirectedReluLayer()\n",
       "  (pool1): MaxPool2d(kernel_size=3, stride=2, padding=0, dilation=1, ceil_mode=True)\n",
       "  (local_response_norm1): LocalResponseNorm(11, alpha=0.0011, beta=0.5, k=2.0)\n",
       "  (conv2): Conv2d(64, 64, kernel_size=(1, 1), stride=(1, 1))\n",
       "  (conv2_relu): RedirectedReluLayer()\n",
       "  (conv3): Conv2dSame(64, 192, kernel_size=(3, 3), stride=(1, 1))\n",
       "  (conv3_relu): RedirectedReluLayer()\n",
       "  (local_response_norm2): LocalResponseNorm(11, alpha=0.0011, beta=0.5, k=2.0)\n",
       "  (pool2): MaxPool2d(kernel_size=3, stride=2, padding=0, dilation=1, ceil_mode=True)\n",
       "  (mixed3a): InceptionModule(\n",
       "    (conv_1x1): Conv2d(192, 64, kernel_size=(1, 1), stride=(1, 1))\n",
       "    (conv_3x3_reduce): Conv2d(192, 96, kernel_size=(1, 1), stride=(1, 1))\n",
       "    (conv_3x3_reduce_relu): RedirectedReluLayer()\n",
       "    (conv_3x3): Conv2dSame(96, 128, kernel_size=(3, 3), stride=(1, 1))\n",
       "    (conv_5x5_reduce): Conv2d(192, 16, kernel_size=(1, 1), stride=(1, 1))\n",
       "    (conv_5x5_reduce_relu): RedirectedReluLayer()\n",
       "    (conv_5x5): Conv2dSame(16, 32, kernel_size=(5, 5), stride=(1, 1))\n",
       "    (pool): MaxPool2d(kernel_size=3, stride=1, padding=1, dilation=1, ceil_mode=True)\n",
       "    (pool_proj): Conv2d(192, 32, kernel_size=(1, 1), stride=(1, 1))\n",
       "  )\n",
       "  (mixed3a_relu): RedirectedReluLayer()\n",
       "  (mixed3b): InceptionModule(\n",
       "    (conv_1x1): Conv2d(256, 128, kernel_size=(1, 1), stride=(1, 1))\n",
       "    (conv_3x3_reduce): Conv2d(256, 128, kernel_size=(1, 1), stride=(1, 1))\n",
       "    (conv_3x3_reduce_relu): RedirectedReluLayer()\n",
       "    (conv_3x3): Conv2dSame(128, 192, kernel_size=(3, 3), stride=(1, 1))\n",
       "    (conv_5x5_reduce): Conv2d(256, 32, kernel_size=(1, 1), stride=(1, 1))\n",
       "    (conv_5x5_reduce_relu): RedirectedReluLayer()\n",
       "    (conv_5x5): Conv2dSame(32, 96, kernel_size=(5, 5), stride=(1, 1))\n",
       "    (pool): MaxPool2d(kernel_size=3, stride=1, padding=1, dilation=1, ceil_mode=True)\n",
       "    (pool_proj): Conv2d(256, 64, kernel_size=(1, 1), stride=(1, 1))\n",
       "  )\n",
       "  (mixed3b_relu): RedirectedReluLayer()\n",
       "  (pool3): MaxPool2d(kernel_size=3, stride=2, padding=0, dilation=1, ceil_mode=True)\n",
       "  (mixed4a): InceptionModule(\n",
       "    (conv_1x1): Conv2d(480, 192, kernel_size=(1, 1), stride=(1, 1))\n",
       "    (conv_3x3_reduce): Conv2d(480, 96, kernel_size=(1, 1), stride=(1, 1))\n",
       "    (conv_3x3_reduce_relu): RedirectedReluLayer()\n",
       "    (conv_3x3): Conv2dSame(96, 204, kernel_size=(3, 3), stride=(1, 1))\n",
       "    (conv_5x5_reduce): Conv2d(480, 16, kernel_size=(1, 1), stride=(1, 1))\n",
       "    (conv_5x5_reduce_relu): RedirectedReluLayer()\n",
       "    (conv_5x5): Conv2dSame(16, 48, kernel_size=(5, 5), stride=(1, 1))\n",
       "    (pool): MaxPool2d(kernel_size=3, stride=1, padding=1, dilation=1, ceil_mode=True)\n",
       "    (pool_proj): Conv2d(480, 64, kernel_size=(1, 1), stride=(1, 1))\n",
       "  )\n",
       "  (mixed4a_relu): RedirectedReluLayer()\n",
       "  (mixed4b): InceptionModule(\n",
       "    (conv_1x1): Conv2d(508, 160, kernel_size=(1, 1), stride=(1, 1))\n",
       "    (conv_3x3_reduce): Conv2d(508, 112, kernel_size=(1, 1), stride=(1, 1))\n",
       "    (conv_3x3_reduce_relu): RedirectedReluLayer()\n",
       "    (conv_3x3): Conv2dSame(112, 224, kernel_size=(3, 3), stride=(1, 1))\n",
       "    (conv_5x5_reduce): Conv2d(508, 24, kernel_size=(1, 1), stride=(1, 1))\n",
       "    (conv_5x5_reduce_relu): RedirectedReluLayer()\n",
       "    (conv_5x5): Conv2dSame(24, 64, kernel_size=(5, 5), stride=(1, 1))\n",
       "    (pool): MaxPool2d(kernel_size=3, stride=1, padding=1, dilation=1, ceil_mode=True)\n",
       "    (pool_proj): Conv2d(508, 64, kernel_size=(1, 1), stride=(1, 1))\n",
       "  )\n",
       "  (mixed4b_relu): RedirectedReluLayer()\n",
       "  (mixed4c): InceptionModule(\n",
       "    (conv_1x1): Conv2d(512, 128, kernel_size=(1, 1), stride=(1, 1))\n",
       "    (conv_3x3_reduce): Conv2d(512, 128, kernel_size=(1, 1), stride=(1, 1))\n",
       "    (conv_3x3_reduce_relu): RedirectedReluLayer()\n",
       "    (conv_3x3): Conv2dSame(128, 256, kernel_size=(3, 3), stride=(1, 1))\n",
       "    (conv_5x5_reduce): Conv2d(512, 24, kernel_size=(1, 1), stride=(1, 1))\n",
       "    (conv_5x5_reduce_relu): RedirectedReluLayer()\n",
       "    (conv_5x5): Conv2dSame(24, 64, kernel_size=(5, 5), stride=(1, 1))\n",
       "    (pool): MaxPool2d(kernel_size=3, stride=1, padding=1, dilation=1, ceil_mode=True)\n",
       "    (pool_proj): Conv2d(512, 64, kernel_size=(1, 1), stride=(1, 1))\n",
       "  )\n",
       "  (mixed4c_relu): RedirectedReluLayer()\n",
       "  (mixed4d): InceptionModule(\n",
       "    (conv_1x1): Conv2d(512, 112, kernel_size=(1, 1), stride=(1, 1))\n",
       "    (conv_3x3_reduce): Conv2d(512, 144, kernel_size=(1, 1), stride=(1, 1))\n",
       "    (conv_3x3_reduce_relu): RedirectedReluLayer()\n",
       "    (conv_3x3): Conv2dSame(144, 288, kernel_size=(3, 3), stride=(1, 1))\n",
       "    (conv_5x5_reduce): Conv2d(512, 32, kernel_size=(1, 1), stride=(1, 1))\n",
       "    (conv_5x5_reduce_relu): RedirectedReluLayer()\n",
       "    (conv_5x5): Conv2dSame(32, 64, kernel_size=(5, 5), stride=(1, 1))\n",
       "    (pool): MaxPool2d(kernel_size=3, stride=1, padding=1, dilation=1, ceil_mode=True)\n",
       "    (pool_proj): Conv2d(512, 64, kernel_size=(1, 1), stride=(1, 1))\n",
       "  )\n",
       "  (mixed4d_relu): RedirectedReluLayer()\n",
       "  (mixed4e): InceptionModule(\n",
       "    (conv_1x1): Conv2d(528, 256, kernel_size=(1, 1), stride=(1, 1))\n",
       "    (conv_3x3_reduce): Conv2d(528, 160, kernel_size=(1, 1), stride=(1, 1))\n",
       "    (conv_3x3_reduce_relu): RedirectedReluLayer()\n",
       "    (conv_3x3): Conv2dSame(160, 320, kernel_size=(3, 3), stride=(1, 1))\n",
       "    (conv_5x5_reduce): Conv2d(528, 32, kernel_size=(1, 1), stride=(1, 1))\n",
       "    (conv_5x5_reduce_relu): RedirectedReluLayer()\n",
       "    (conv_5x5): Conv2dSame(32, 128, kernel_size=(5, 5), stride=(1, 1))\n",
       "    (pool): MaxPool2d(kernel_size=3, stride=1, padding=1, dilation=1, ceil_mode=True)\n",
       "    (pool_proj): Conv2d(528, 128, kernel_size=(1, 1), stride=(1, 1))\n",
       "  )\n",
       "  (mixed4e_relu): RedirectedReluLayer()\n",
       "  (pool4): MaxPool2d(kernel_size=3, stride=2, padding=0, dilation=1, ceil_mode=True)\n",
       "  (mixed5a): InceptionModule(\n",
       "    (conv_1x1): Conv2d(832, 256, kernel_size=(1, 1), stride=(1, 1))\n",
       "    (conv_3x3_reduce): Conv2d(832, 160, kernel_size=(1, 1), stride=(1, 1))\n",
       "    (conv_3x3_reduce_relu): RedirectedReluLayer()\n",
       "    (conv_3x3): Conv2dSame(160, 320, kernel_size=(3, 3), stride=(1, 1))\n",
       "    (conv_5x5_reduce): Conv2d(832, 48, kernel_size=(1, 1), stride=(1, 1))\n",
       "    (conv_5x5_reduce_relu): RedirectedReluLayer()\n",
       "    (conv_5x5): Conv2dSame(48, 128, kernel_size=(5, 5), stride=(1, 1))\n",
       "    (pool): MaxPool2d(kernel_size=3, stride=1, padding=1, dilation=1, ceil_mode=True)\n",
       "    (pool_proj): Conv2d(832, 128, kernel_size=(1, 1), stride=(1, 1))\n",
       "  )\n",
       "  (mixed5a_relu): RedirectedReluLayer()\n",
       "  (mixed5b): InceptionModule(\n",
       "    (conv_1x1): Conv2d(832, 384, kernel_size=(1, 1), stride=(1, 1))\n",
       "    (conv_3x3_reduce): Conv2d(832, 192, kernel_size=(1, 1), stride=(1, 1))\n",
       "    (conv_3x3_reduce_relu): RedirectedReluLayer()\n",
       "    (conv_3x3): Conv2dSame(192, 384, kernel_size=(3, 3), stride=(1, 1))\n",
       "    (conv_5x5_reduce): Conv2d(832, 48, kernel_size=(1, 1), stride=(1, 1))\n",
       "    (conv_5x5_reduce_relu): RedirectedReluLayer()\n",
       "    (conv_5x5): Conv2dSame(48, 128, kernel_size=(5, 5), stride=(1, 1))\n",
       "    (pool): MaxPool2d(kernel_size=3, stride=1, padding=1, dilation=1, ceil_mode=True)\n",
       "    (pool_proj): Conv2d(832, 128, kernel_size=(1, 1), stride=(1, 1))\n",
       "  )\n",
       "  (mixed5b_relu): RedirectedReluLayer()\n",
       "  (avgpool): AdaptiveAvgPool2d(output_size=(1, 1))\n",
       "  (drop): Dropout(p=0.4000000059604645, inplace=False)\n",
       "  (fc): Linear(in_features=1024, out_features=1008, bias=True)\n",
       ")"
      ]
     },
     "execution_count": 7,
     "metadata": {},
     "output_type": "execute_result"
    }
   ],
   "source": [
    "googlenet_captum = optimviz.models._image.inception_v1.googlenet(pretrained=True).to(device)\n",
    "googlenet_captum.eval()"
   ]
  },
  {
   "cell_type": "markdown",
   "id": "19cc3508",
   "metadata": {},
   "source": [
    "## Extract activations"
   ]
  },
  {
   "cell_type": "markdown",
   "id": "09d73a32",
   "metadata": {},
   "source": [
    "https://discuss.pytorch.org/t/how-to-register-forward-hooks-for-each-module/43347 \n",
    "https://discuss.pytorch.org/t/how-can-l-load-my-best-model-as-a-feature-extractor-evaluator/17254"
   ]
  },
  {
   "cell_type": "code",
   "execution_count": 8,
   "id": "343e7c0d",
   "metadata": {
    "ExecuteTime": {
     "end_time": "2023-02-07T13:05:32.293375Z",
     "start_time": "2023-02-07T13:05:32.289376Z"
    }
   },
   "outputs": [],
   "source": [
    "filename = f'{base_dir}/data/test-images/mixed4e55_imagenet/mixed4e55_imagenet_im_0.png'"
   ]
  },
  {
   "cell_type": "code",
   "execution_count": 9,
   "id": "ab3a8fb6",
   "metadata": {
    "ExecuteTime": {
     "end_time": "2023-02-07T13:05:32.425331Z",
     "start_time": "2023-02-07T13:05:32.355784Z"
    }
   },
   "outputs": [
    {
     "data": {
      "image/png": "[encoded data removed]",
      "text/plain": [
       "<PIL.PngImagePlugin.PngImageFile image mode=RGBA size=80x80>"
      ]
     },
     "execution_count": 9,
     "metadata": {},
     "output_type": "execute_result"
    }
   ],
   "source": [
    "Image.open(filename)"
   ]
  },
  {
   "cell_type": "code",
   "execution_count": 10,
   "id": "e6448203",
   "metadata": {
    "ExecuteTime": {
     "end_time": "2023-02-07T13:05:32.477830Z",
     "start_time": "2023-02-07T13:05:32.464864Z"
    }
   },
   "outputs": [],
   "source": [
    "input_image = Image.open(filename).convert('RGB') # since 'RGBA'\n",
    "preprocess = transforms.transforms.Compose([\n",
    "    transforms.Resize(256),\n",
    "    transforms.CenterCrop(224),\n",
    "    transforms.ToTensor(),\n",
    "    transforms.Normalize(mean=[0.485, 0.456, 0.406], std=[0.229, 0.224, 0.225]),\n",
    "])\n",
    "input_tensor = preprocess(input_image)\n",
    "input_batch = input_tensor.unsqueeze(0) # create a mini-batch as expected by the model \n",
    "# torch.Size([1, 3, 224, 224])"
   ]
  },
  {
   "cell_type": "code",
   "execution_count": 11,
   "id": "b04613df",
   "metadata": {
    "ExecuteTime": {
     "end_time": "2023-02-07T13:05:32.692466Z",
     "start_time": "2023-02-07T13:05:32.539529Z"
    }
   },
   "outputs": [],
   "source": [
    "model = googlenet_torchhub\n",
    "# move the input and model to GPU for speed if available\n",
    "if torch.cuda.is_available():\n",
    "    input_batch = input_batch.to('cuda')\n",
    "    model.to('cuda')\n",
    "\n",
    "with torch.no_grad():\n",
    "    output = model(input_batch)"
   ]
  },
  {
   "cell_type": "markdown",
   "id": "a2f47cdc",
   "metadata": {},
   "source": [
    "### googlenet_torchhub"
   ]
  },
  {
   "cell_type": "code",
   "execution_count": 12,
   "id": "422e9e50",
   "metadata": {
    "ExecuteTime": {
     "end_time": "2023-02-07T13:05:32.833761Z",
     "start_time": "2023-02-07T13:05:32.819871Z"
    }
   },
   "outputs": [],
   "source": [
    "activation = {}\n",
    "def get_activation(name):\n",
    "    def hook(googlenet_torchhub, input, output):\n",
    "        activation[name] = output.detach()\n",
    "    return hook"
   ]
  },
  {
   "cell_type": "code",
   "execution_count": 13,
   "id": "2d5556eb",
   "metadata": {
    "ExecuteTime": {
     "end_time": "2023-02-07T13:05:33.068659Z",
     "start_time": "2023-02-07T13:05:32.947551Z"
    },
    "scrolled": true
   },
   "outputs": [
    {
     "name": "stdout",
     "output_type": "stream",
     "text": [
      "tensor([[[[-5.8996e-01, -5.3918e-04,  8.7035e-02,  ..., -4.3434e-01,\n",
      "            1.5759e-02, -6.0254e-01],\n",
      "          [-4.7667e-02, -3.7851e-01, -3.6636e-01,  ..., -8.1495e-01,\n",
      "           -7.7431e-01, -1.2299e+00],\n",
      "          [ 2.7586e-01, -1.8074e-01, -1.1128e+00,  ..., -8.5017e-01,\n",
      "           -3.8465e-01, -4.6790e-01],\n",
      "          ...,\n",
      "          [-6.8768e-01, -3.8408e-01, -7.8516e-01,  ..., -4.8249e-01,\n",
      "           -2.8958e-02, -5.3655e-01],\n",
      "          [-4.8412e-01, -5.7378e-02, -3.4981e-01,  ..., -3.5140e-01,\n",
      "           -9.2419e-02, -3.7915e-01],\n",
      "          [-4.4548e-01, -2.0120e-01, -4.0576e-01,  ..., -6.3764e-01,\n",
      "           -5.5503e-01, -6.8821e-01]],\n",
      "\n",
      "         [[-5.8648e-01, -4.4707e-01, -4.0711e-01,  ...,  5.2227e-02,\n",
      "            1.9518e-01, -3.7338e-01],\n",
      "          [-5.0108e-01, -9.9033e-01, -1.2046e+00,  ..., -3.4684e-01,\n",
      "           -8.5838e-02, -2.2580e-01],\n",
      "          [-1.9921e-01, -1.8962e+00, -2.1581e+00,  ..., -1.8155e+00,\n",
      "           -1.1847e+00, -9.2382e-01],\n",
      "          ...,\n",
      "          [ 8.2354e-01,  5.3397e-01,  7.3233e-02,  ..., -2.5154e-01,\n",
      "           -2.9655e-01, -7.5267e-01],\n",
      "          [-6.0062e-02, -3.5627e-01, -8.4058e-02,  ..., -6.6172e-01,\n",
      "           -1.2934e+00, -9.7466e-01],\n",
      "          [ 4.1489e-02, -1.8801e-01, -4.0461e-01,  ..., -6.8478e-01,\n",
      "           -1.1149e+00, -7.9423e-01]],\n",
      "\n",
      "         [[-1.5023e+00, -1.9118e+00, -1.7470e+00,  ..., -2.1470e+00,\n",
      "           -1.8462e+00, -1.6374e+00],\n",
      "          [-1.5032e+00, -2.5734e+00, -2.9451e+00,  ..., -2.2025e+00,\n",
      "           -1.6998e+00, -1.5447e+00],\n",
      "          [-8.5528e-01, -2.7709e+00, -2.8303e+00,  ..., -2.9996e+00,\n",
      "           -2.0022e+00, -1.7925e+00],\n",
      "          ...,\n",
      "          [-5.1150e-01, -1.1299e+00, -1.4795e+00,  ..., -1.3638e+00,\n",
      "           -1.5302e+00, -1.2871e+00],\n",
      "          [-1.5858e-01, -1.3441e+00, -1.7692e+00,  ..., -1.1572e+00,\n",
      "           -1.4966e+00, -1.2440e+00],\n",
      "          [ 4.8834e-01, -7.9293e-01, -1.3070e+00,  ..., -6.4277e-01,\n",
      "           -1.3589e+00, -1.3212e+00]],\n",
      "\n",
      "         ...,\n",
      "\n",
      "         [[ 5.6462e-01,  2.4574e-01, -3.8331e-01,  ...,  1.0831e-01,\n",
      "            1.2371e-01, -9.6067e-02],\n",
      "          [ 9.9098e-02, -5.1293e-01, -1.9562e+00,  ..., -9.9091e-01,\n",
      "           -3.2885e-01, -1.4229e-02],\n",
      "          [-4.7933e-01, -1.5571e+00, -3.0132e+00,  ..., -2.0903e+00,\n",
      "           -1.0414e+00,  5.4223e-01],\n",
      "          ...,\n",
      "          [-8.8972e-01, -3.8487e-01, -4.3732e-01,  ..., -3.6136e-01,\n",
      "           -4.4609e-01, -2.5832e-01],\n",
      "          [-1.2269e+00, -7.5437e-01, -7.1595e-01,  ..., -3.8094e-01,\n",
      "           -9.9828e-03,  1.0738e-01],\n",
      "          [-1.2920e+00, -5.7037e-01, -7.4467e-01,  ..., -4.0474e-01,\n",
      "            1.4260e-01, -1.1660e-01]],\n",
      "\n",
      "         [[ 9.4796e-03, -9.5262e-01, -1.0416e+00,  ..., -9.7187e-01,\n",
      "            2.4697e-02, -7.6038e-02],\n",
      "          [ 3.4896e-02, -1.3125e+00, -2.4132e+00,  ..., -1.6341e+00,\n",
      "           -4.4014e-01,  1.8009e-01],\n",
      "          [-8.8278e-01, -1.8409e+00, -2.8757e+00,  ..., -2.5780e+00,\n",
      "           -1.0530e+00, -2.2346e-01],\n",
      "          ...,\n",
      "          [-1.6063e-01, -5.3098e-01, -8.5102e-01,  ..., -1.0657e+00,\n",
      "           -1.3038e+00, -1.3900e+00],\n",
      "          [-3.7599e-01, -1.1233e+00, -1.5482e+00,  ..., -9.9548e-01,\n",
      "           -9.2496e-01, -1.5339e-01],\n",
      "          [-9.7314e-01, -8.1336e-01, -7.5756e-01,  ..., -6.9501e-01,\n",
      "           -5.9613e-01, -3.9414e-01]],\n",
      "\n",
      "         [[-4.6451e-02,  8.7621e-01,  3.3893e-01,  ...,  9.2782e-01,\n",
      "            5.0229e-01,  7.9860e-02],\n",
      "          [ 1.0141e-01,  1.8561e-01, -4.9841e-01,  ...,  3.3681e-01,\n",
      "            4.6872e-01,  6.7620e-01],\n",
      "          [ 3.2653e-01, -6.2607e-01, -2.2815e+00,  ..., -1.5833e+00,\n",
      "            2.9739e-01,  9.1309e-01],\n",
      "          ...,\n",
      "          [-1.4906e+00, -1.4768e+00, -9.5414e-01,  ..., -7.1491e-01,\n",
      "           -5.5085e-01, -2.0738e-01],\n",
      "          [-1.1916e+00, -1.4447e+00, -1.1840e+00,  ..., -6.5946e-01,\n",
      "           -4.9028e-01, -1.2074e-01],\n",
      "          [-7.0442e-01, -6.9338e-01, -8.2309e-01,  ..., -4.6809e-01,\n",
      "           -3.5045e-01, -2.9734e-01]]]])\n"
     ]
    }
   ],
   "source": [
    "googlenet_torchhub.inception4e.branch1.conv.register_forward_hook(get_activation('inception4e.branch1.conv'))\n",
    "output = googlenet_torchhub(input_batch)\n",
    "print(activation['inception4e.branch1.conv']) # torch.Size([1, 256, 14, 14])"
   ]
  },
  {
   "cell_type": "code",
   "execution_count": 14,
   "id": "9b7df740",
   "metadata": {
    "ExecuteTime": {
     "end_time": "2023-02-07T13:05:33.215761Z",
     "start_time": "2023-02-07T13:05:33.202857Z"
    },
    "scrolled": true
   },
   "outputs": [
    {
     "name": "stdout",
     "output_type": "stream",
     "text": [
      "tensor(-1.0417)\n"
     ]
    },
    {
     "data": {
      "text/plain": [
       "tensor([-0.6159, -0.5180, -1.4558, -1.1922, -1.4980,  0.2562, -0.5135, -0.4904,\n",
       "        -0.9703, -0.6608, -1.2949, -0.7500, -1.3681, -0.1363, -1.5643, -0.6122,\n",
       "        -0.7456, -0.8824, -0.9252, -0.3892, -0.6584, -0.8279, -0.2775, -1.1982,\n",
       "        -0.8967, -0.9242, -1.0389, -1.1528, -0.6703, -1.0948, -0.9780, -1.0041,\n",
       "        -0.3507, -0.5458, -1.2385, -0.5098, -0.6917, -0.7085, -0.6416, -0.6745,\n",
       "        -0.2973, -1.0830, -0.5421, -0.9236, -0.2561, -0.6813, -1.4557, -1.1798,\n",
       "         0.1050, -1.1631,  0.1403, -1.4496,  0.2195, -0.6628, -0.8256, -1.0417,\n",
       "        -0.3201, -0.3798, -0.9072, -0.0485, -0.8879,  0.1340, -0.7284, -1.8880,\n",
       "        -1.0864, -1.1272, -0.3311, -0.8118, -0.8411, -0.6347, -1.2190, -0.6304,\n",
       "        -0.4716, -0.6883, -0.7384, -1.2185, -0.7271, -1.4821, -0.9260, -1.4130,\n",
       "        -0.9993, -0.0498, -1.0094, -0.1710, -0.4785, -0.3338, -0.5323, -0.8866,\n",
       "        -0.2793, -0.9753, -0.4322, -0.7863, -0.9091, -1.4396, -0.1201, -0.3097,\n",
       "        -1.1748, -0.7898, -1.1169, -0.8363, -1.2690, -1.0783, -0.6380, -1.5105,\n",
       "        -1.0740, -0.7803, -1.0838, -1.0971, -0.6159, -0.5866, -1.3479, -1.3385,\n",
       "        -0.1865, -0.6501, -0.4849, -0.4102, -1.3494, -0.7453, -0.5847, -0.4462,\n",
       "        -1.2704, -1.3501, -0.6172, -1.3852, -0.9837, -1.0760, -1.2684, -1.3276,\n",
       "        -0.5101, -0.5867, -1.1716, -0.6466, -0.9945, -0.5291, -0.6361, -0.5168,\n",
       "        -0.9070, -0.6984, -0.3020, -0.2873, -0.2341, -1.1524, -0.5763, -1.2451,\n",
       "        -1.0536, -0.9319, -1.4220, -1.6140, -0.3287, -0.6700, -3.6547, -1.3132,\n",
       "        -1.2076, -0.5172, -0.6432, -0.0980, -0.5610, -0.9168, -0.7302, -1.3025,\n",
       "        -0.5247, -1.1672, -0.9493, -1.3797, -1.3698, -0.7954, -1.3741, -1.3627,\n",
       "        -1.0608, -0.6795, -0.4312, -1.2690, -0.7252, -1.2169, -0.2244, -1.0777,\n",
       "        -0.8347, -0.9822, -1.2832, -0.8234, -1.1074, -1.3034, -0.6752, -1.1365,\n",
       "        -1.1679, -1.2416, -1.1123, -0.7949, -0.5209, -0.6829, -0.9979, -0.3212,\n",
       "        -0.7599, -1.2881, -0.6285, -0.8049, -0.8257, -0.3553,  0.0176, -1.2052,\n",
       "        -1.5848, -0.8135, -0.5760, -1.1674, -0.7566, -0.4220, -0.8406, -0.6360,\n",
       "        -0.7225, -1.5784, -0.8822, -0.5422, -1.1598, -0.5921, -0.8276, -0.7769,\n",
       "        -0.9238, -1.0828, -1.5358, -1.1608, -0.5155, -1.1166, -0.4394, -0.7345,\n",
       "        -1.2483, -1.0083, -0.7852, -1.2346, -1.0016, -0.1546, -1.1600, -0.8846,\n",
       "        -1.2192, -0.3562, -1.0279, -0.9515, -0.6245, -0.5895, -0.2385, -0.7582,\n",
       "         0.4273, -0.5763, -1.0910, -0.7186, -0.3728, -0.5017, -0.9748, -1.0174,\n",
       "        -0.7821, -1.0613, -1.0153, -0.6976, -0.8474, -0.8649, -1.1897, -0.9566])"
      ]
     },
     "execution_count": 14,
     "metadata": {},
     "output_type": "execute_result"
    }
   ],
   "source": [
    "print(activation['inception4e.branch1.conv'][0].mean(2).mean(1)[55])\n",
    "activation['inception4e.branch1.conv'][0].mean(2).mean(1) # torch.Size([256])"
   ]
  },
  {
   "cell_type": "markdown",
   "id": "a9dbe3c1",
   "metadata": {},
   "source": [
    "### googlenet_torchvision"
   ]
  },
  {
   "cell_type": "code",
   "execution_count": 15,
   "id": "dd219378",
   "metadata": {
    "ExecuteTime": {
     "end_time": "2023-02-07T13:05:44.066629Z",
     "start_time": "2023-02-07T13:05:44.062003Z"
    }
   },
   "outputs": [],
   "source": [
    "activation = {}\n",
    "def get_activation(name):\n",
    "    def hook(googlenet_torchvision, input, output):\n",
    "        activation[name] = output.detach()\n",
    "    return hook"
   ]
  },
  {
   "cell_type": "code",
   "execution_count": 16,
   "id": "4882c17a",
   "metadata": {
    "ExecuteTime": {
     "end_time": "2023-02-07T13:05:44.608334Z",
     "start_time": "2023-02-07T13:05:44.478561Z"
    },
    "scrolled": true
   },
   "outputs": [
    {
     "name": "stdout",
     "output_type": "stream",
     "text": [
      "tensor([[[[-5.8996e-01, -5.3918e-04,  8.7035e-02,  ..., -4.3434e-01,\n",
      "            1.5759e-02, -6.0254e-01],\n",
      "          [-4.7667e-02, -3.7851e-01, -3.6636e-01,  ..., -8.1495e-01,\n",
      "           -7.7431e-01, -1.2299e+00],\n",
      "          [ 2.7586e-01, -1.8074e-01, -1.1128e+00,  ..., -8.5017e-01,\n",
      "           -3.8465e-01, -4.6790e-01],\n",
      "          ...,\n",
      "          [-6.8768e-01, -3.8408e-01, -7.8516e-01,  ..., -4.8249e-01,\n",
      "           -2.8958e-02, -5.3655e-01],\n",
      "          [-4.8412e-01, -5.7378e-02, -3.4981e-01,  ..., -3.5140e-01,\n",
      "           -9.2419e-02, -3.7915e-01],\n",
      "          [-4.4548e-01, -2.0120e-01, -4.0576e-01,  ..., -6.3764e-01,\n",
      "           -5.5503e-01, -6.8821e-01]],\n",
      "\n",
      "         [[-5.8648e-01, -4.4707e-01, -4.0711e-01,  ...,  5.2227e-02,\n",
      "            1.9518e-01, -3.7338e-01],\n",
      "          [-5.0108e-01, -9.9033e-01, -1.2046e+00,  ..., -3.4684e-01,\n",
      "           -8.5838e-02, -2.2580e-01],\n",
      "          [-1.9921e-01, -1.8962e+00, -2.1581e+00,  ..., -1.8155e+00,\n",
      "           -1.1847e+00, -9.2382e-01],\n",
      "          ...,\n",
      "          [ 8.2354e-01,  5.3397e-01,  7.3233e-02,  ..., -2.5154e-01,\n",
      "           -2.9655e-01, -7.5267e-01],\n",
      "          [-6.0062e-02, -3.5627e-01, -8.4058e-02,  ..., -6.6172e-01,\n",
      "           -1.2934e+00, -9.7466e-01],\n",
      "          [ 4.1489e-02, -1.8801e-01, -4.0461e-01,  ..., -6.8478e-01,\n",
      "           -1.1149e+00, -7.9423e-01]],\n",
      "\n",
      "         [[-1.5023e+00, -1.9118e+00, -1.7470e+00,  ..., -2.1470e+00,\n",
      "           -1.8462e+00, -1.6374e+00],\n",
      "          [-1.5032e+00, -2.5734e+00, -2.9451e+00,  ..., -2.2025e+00,\n",
      "           -1.6998e+00, -1.5447e+00],\n",
      "          [-8.5528e-01, -2.7709e+00, -2.8303e+00,  ..., -2.9996e+00,\n",
      "           -2.0022e+00, -1.7925e+00],\n",
      "          ...,\n",
      "          [-5.1150e-01, -1.1299e+00, -1.4795e+00,  ..., -1.3638e+00,\n",
      "           -1.5302e+00, -1.2871e+00],\n",
      "          [-1.5858e-01, -1.3441e+00, -1.7692e+00,  ..., -1.1572e+00,\n",
      "           -1.4966e+00, -1.2440e+00],\n",
      "          [ 4.8834e-01, -7.9293e-01, -1.3070e+00,  ..., -6.4277e-01,\n",
      "           -1.3589e+00, -1.3212e+00]],\n",
      "\n",
      "         ...,\n",
      "\n",
      "         [[ 5.6462e-01,  2.4574e-01, -3.8331e-01,  ...,  1.0831e-01,\n",
      "            1.2371e-01, -9.6067e-02],\n",
      "          [ 9.9098e-02, -5.1293e-01, -1.9562e+00,  ..., -9.9091e-01,\n",
      "           -3.2885e-01, -1.4229e-02],\n",
      "          [-4.7933e-01, -1.5571e+00, -3.0132e+00,  ..., -2.0903e+00,\n",
      "           -1.0414e+00,  5.4223e-01],\n",
      "          ...,\n",
      "          [-8.8972e-01, -3.8487e-01, -4.3732e-01,  ..., -3.6136e-01,\n",
      "           -4.4609e-01, -2.5832e-01],\n",
      "          [-1.2269e+00, -7.5437e-01, -7.1595e-01,  ..., -3.8094e-01,\n",
      "           -9.9828e-03,  1.0738e-01],\n",
      "          [-1.2920e+00, -5.7037e-01, -7.4467e-01,  ..., -4.0474e-01,\n",
      "            1.4260e-01, -1.1660e-01]],\n",
      "\n",
      "         [[ 9.4796e-03, -9.5262e-01, -1.0416e+00,  ..., -9.7187e-01,\n",
      "            2.4697e-02, -7.6038e-02],\n",
      "          [ 3.4896e-02, -1.3125e+00, -2.4132e+00,  ..., -1.6341e+00,\n",
      "           -4.4014e-01,  1.8009e-01],\n",
      "          [-8.8278e-01, -1.8409e+00, -2.8757e+00,  ..., -2.5780e+00,\n",
      "           -1.0530e+00, -2.2346e-01],\n",
      "          ...,\n",
      "          [-1.6063e-01, -5.3098e-01, -8.5102e-01,  ..., -1.0657e+00,\n",
      "           -1.3038e+00, -1.3900e+00],\n",
      "          [-3.7599e-01, -1.1233e+00, -1.5482e+00,  ..., -9.9548e-01,\n",
      "           -9.2496e-01, -1.5339e-01],\n",
      "          [-9.7314e-01, -8.1336e-01, -7.5756e-01,  ..., -6.9501e-01,\n",
      "           -5.9613e-01, -3.9414e-01]],\n",
      "\n",
      "         [[-4.6451e-02,  8.7621e-01,  3.3893e-01,  ...,  9.2782e-01,\n",
      "            5.0229e-01,  7.9860e-02],\n",
      "          [ 1.0141e-01,  1.8561e-01, -4.9841e-01,  ...,  3.3681e-01,\n",
      "            4.6872e-01,  6.7620e-01],\n",
      "          [ 3.2653e-01, -6.2607e-01, -2.2815e+00,  ..., -1.5833e+00,\n",
      "            2.9739e-01,  9.1309e-01],\n",
      "          ...,\n",
      "          [-1.4906e+00, -1.4768e+00, -9.5414e-01,  ..., -7.1491e-01,\n",
      "           -5.5085e-01, -2.0738e-01],\n",
      "          [-1.1916e+00, -1.4447e+00, -1.1840e+00,  ..., -6.5946e-01,\n",
      "           -4.9028e-01, -1.2074e-01],\n",
      "          [-7.0442e-01, -6.9338e-01, -8.2309e-01,  ..., -4.6809e-01,\n",
      "           -3.5045e-01, -2.9734e-01]]]])\n"
     ]
    }
   ],
   "source": [
    "googlenet_torchvision.inception4e.branch1.conv.register_forward_hook(get_activation('inception4e.branch1.conv'))\n",
    "output = googlenet_torchvision(input_batch)\n",
    "print(activation['inception4e.branch1.conv'])"
   ]
  },
  {
   "cell_type": "code",
   "execution_count": 17,
   "id": "cb63bcc9",
   "metadata": {
    "ExecuteTime": {
     "end_time": "2023-02-07T13:05:45.414460Z",
     "start_time": "2023-02-07T13:05:45.405342Z"
    },
    "scrolled": true
   },
   "outputs": [
    {
     "name": "stdout",
     "output_type": "stream",
     "text": [
      "tensor(-1.0417)\n"
     ]
    },
    {
     "data": {
      "text/plain": [
       "tensor([-0.6159, -0.5180, -1.4558, -1.1922, -1.4980,  0.2562, -0.5135, -0.4904,\n",
       "        -0.9703, -0.6608, -1.2949, -0.7500, -1.3681, -0.1363, -1.5643, -0.6122,\n",
       "        -0.7456, -0.8824, -0.9252, -0.3892, -0.6584, -0.8279, -0.2775, -1.1982,\n",
       "        -0.8967, -0.9242, -1.0389, -1.1528, -0.6703, -1.0948, -0.9780, -1.0041,\n",
       "        -0.3507, -0.5458, -1.2385, -0.5098, -0.6917, -0.7085, -0.6416, -0.6745,\n",
       "        -0.2973, -1.0830, -0.5421, -0.9236, -0.2561, -0.6813, -1.4557, -1.1798,\n",
       "         0.1050, -1.1631,  0.1403, -1.4496,  0.2195, -0.6628, -0.8256, -1.0417,\n",
       "        -0.3201, -0.3798, -0.9072, -0.0485, -0.8879,  0.1340, -0.7284, -1.8880,\n",
       "        -1.0864, -1.1272, -0.3311, -0.8118, -0.8411, -0.6347, -1.2190, -0.6304,\n",
       "        -0.4716, -0.6883, -0.7384, -1.2185, -0.7271, -1.4821, -0.9260, -1.4130,\n",
       "        -0.9993, -0.0498, -1.0094, -0.1710, -0.4785, -0.3338, -0.5323, -0.8866,\n",
       "        -0.2793, -0.9753, -0.4322, -0.7863, -0.9091, -1.4396, -0.1201, -0.3097,\n",
       "        -1.1748, -0.7898, -1.1169, -0.8363, -1.2690, -1.0783, -0.6380, -1.5105,\n",
       "        -1.0740, -0.7803, -1.0838, -1.0971, -0.6159, -0.5866, -1.3479, -1.3385,\n",
       "        -0.1865, -0.6501, -0.4849, -0.4102, -1.3494, -0.7453, -0.5847, -0.4462,\n",
       "        -1.2704, -1.3501, -0.6172, -1.3852, -0.9837, -1.0760, -1.2684, -1.3276,\n",
       "        -0.5101, -0.5867, -1.1716, -0.6466, -0.9945, -0.5291, -0.6361, -0.5168,\n",
       "        -0.9070, -0.6984, -0.3020, -0.2873, -0.2341, -1.1524, -0.5763, -1.2451,\n",
       "        -1.0536, -0.9319, -1.4220, -1.6140, -0.3287, -0.6700, -3.6547, -1.3132,\n",
       "        -1.2076, -0.5172, -0.6432, -0.0980, -0.5610, -0.9168, -0.7302, -1.3025,\n",
       "        -0.5247, -1.1672, -0.9493, -1.3797, -1.3698, -0.7954, -1.3741, -1.3627,\n",
       "        -1.0608, -0.6795, -0.4312, -1.2690, -0.7252, -1.2169, -0.2244, -1.0777,\n",
       "        -0.8347, -0.9822, -1.2832, -0.8234, -1.1074, -1.3034, -0.6752, -1.1365,\n",
       "        -1.1679, -1.2416, -1.1123, -0.7949, -0.5209, -0.6829, -0.9979, -0.3212,\n",
       "        -0.7599, -1.2881, -0.6285, -0.8049, -0.8257, -0.3553,  0.0176, -1.2052,\n",
       "        -1.5848, -0.8135, -0.5760, -1.1674, -0.7566, -0.4220, -0.8406, -0.6360,\n",
       "        -0.7225, -1.5784, -0.8822, -0.5422, -1.1598, -0.5921, -0.8276, -0.7769,\n",
       "        -0.9238, -1.0828, -1.5358, -1.1608, -0.5155, -1.1166, -0.4394, -0.7345,\n",
       "        -1.2483, -1.0083, -0.7852, -1.2346, -1.0016, -0.1546, -1.1600, -0.8846,\n",
       "        -1.2192, -0.3562, -1.0279, -0.9515, -0.6245, -0.5895, -0.2385, -0.7582,\n",
       "         0.4273, -0.5763, -1.0910, -0.7186, -0.3728, -0.5017, -0.9748, -1.0174,\n",
       "        -0.7821, -1.0613, -1.0153, -0.6976, -0.8474, -0.8649, -1.1897, -0.9566])"
      ]
     },
     "execution_count": 17,
     "metadata": {},
     "output_type": "execute_result"
    }
   ],
   "source": [
    "print(activation['inception4e.branch1.conv'][0].mean(2).mean(1)[55])\n",
    "activation['inception4e.branch1.conv'][0].mean(2).mean(1) "
   ]
  },
  {
   "cell_type": "markdown",
   "id": "e7d84ef6",
   "metadata": {},
   "source": [
    "### googlenet_captum"
   ]
  },
  {
   "cell_type": "code",
   "execution_count": 18,
   "id": "119539fa",
   "metadata": {
    "ExecuteTime": {
     "end_time": "2023-02-07T13:06:06.835065Z",
     "start_time": "2023-02-07T13:06:06.831527Z"
    }
   },
   "outputs": [],
   "source": [
    "activation = {}\n",
    "def get_activation(name):\n",
    "    def hook(googlenet_captum, input, output):\n",
    "        activation[name] = output.detach()\n",
    "    return hook"
   ]
  },
  {
   "cell_type": "code",
   "execution_count": 19,
   "id": "5d3bb304",
   "metadata": {
    "ExecuteTime": {
     "end_time": "2023-02-07T13:06:07.330859Z",
     "start_time": "2023-02-07T13:06:07.192954Z"
    },
    "scrolled": true
   },
   "outputs": [
    {
     "name": "stdout",
     "output_type": "stream",
     "text": [
      "tensor([[[[-4.5330e+00, -7.4337e+00,  1.7682e+00,  ...,  8.8853e+00,\n",
      "            1.4699e+01,  1.4988e+01],\n",
      "          [-1.1282e+01, -1.1512e+01, -6.6918e+00,  ...,  2.4979e+00,\n",
      "            2.1575e+01,  2.5458e+01],\n",
      "          [-7.8115e+00, -6.3186e+00, -2.4946e+00,  ..., -9.7630e+00,\n",
      "            5.6130e+00,  1.2689e+01],\n",
      "          ...,\n",
      "          [ 1.4245e+01,  2.5361e+01,  2.4913e+01,  ...,  3.6574e+01,\n",
      "            2.0892e+01,  5.7895e+00],\n",
      "          [ 8.8885e+00,  1.6009e+01,  1.7765e+01,  ...,  3.3915e+01,\n",
      "            1.5632e+01,  6.3883e-01],\n",
      "          [ 5.3367e+00,  6.1703e+00,  5.6122e+00,  ...,  2.2547e+01,\n",
      "            6.2093e+00, -3.0197e+00]],\n",
      "\n",
      "         [[-2.4860e+01, -1.8389e+01, -2.0910e+00,  ..., -2.8058e+00,\n",
      "            4.5905e+01,  2.8094e+01],\n",
      "          [-2.6425e+01, -6.9241e+00,  9.8489e+00,  ...,  2.0578e+00,\n",
      "            3.9507e+01,  3.9089e+01],\n",
      "          [-2.3425e+01, -2.4052e+00,  1.3045e+01,  ...,  2.8958e+00,\n",
      "            1.0498e+01,  9.7913e+00],\n",
      "          ...,\n",
      "          [ 6.6545e+00, -1.2824e+00, -5.7426e-03,  ...,  3.8900e-01,\n",
      "            1.4382e+01,  2.7729e+01],\n",
      "          [-9.9629e+00, -9.8535e+00, -1.0471e+00,  ..., -8.4115e+00,\n",
      "            1.0627e+01,  2.5834e+01],\n",
      "          [-1.2064e+01, -1.5035e+01, -1.1016e+01,  ..., -6.2867e+00,\n",
      "           -6.3616e+00, -9.0396e+00]],\n",
      "\n",
      "         [[ 1.1105e+01,  4.9517e+00, -3.9512e+00,  ..., -4.6359e-01,\n",
      "           -6.0421e-01,  8.5332e-01],\n",
      "          [ 2.7620e+01,  1.4435e+01, -2.4570e+01,  ..., -4.5412e+00,\n",
      "            1.0564e+01,  1.6317e+01],\n",
      "          [ 2.6284e+01,  1.1068e+01, -3.3703e+01,  ..., -2.3861e+01,\n",
      "            3.6620e+00,  3.0710e+01],\n",
      "          ...,\n",
      "          [-2.0362e+01, -2.1974e+01, -1.4307e+01,  ..., -1.0085e+01,\n",
      "            1.2158e+01,  1.7374e+01],\n",
      "          [-7.1992e+00, -1.4424e+01, -1.3265e+01,  ..., -1.1155e+00,\n",
      "            4.3747e+00,  4.4232e+00],\n",
      "          [-4.6112e+00, -1.1990e+01, -5.9090e+00,  ..., -2.6444e+01,\n",
      "           -1.9253e+01, -9.2280e+00]],\n",
      "\n",
      "         ...,\n",
      "\n",
      "         [[-2.4371e+00, -5.8947e+00, -1.1988e+01,  ..., -5.0907e+00,\n",
      "            5.6395e+00,  1.0032e+01],\n",
      "          [-1.8856e+00, -1.1518e+01, -2.2060e+01,  ..., -1.5064e+01,\n",
      "            7.7459e+00,  2.0689e+01],\n",
      "          [ 1.6754e+00, -9.5679e+00, -3.7116e+01,  ..., -3.9506e+01,\n",
      "           -9.6474e+00,  4.0422e+00],\n",
      "          ...,\n",
      "          [-5.2909e+01, -4.5155e+01, -3.6736e+01,  ..., -2.2212e+01,\n",
      "           -3.1468e+01, -2.8993e+01],\n",
      "          [-2.8804e+01, -3.2183e+01, -2.5054e+01,  ..., -5.5553e+00,\n",
      "           -1.3862e+01, -1.7866e+01],\n",
      "          [-1.5739e+01, -1.1987e+01, -1.3122e+01,  ..., -1.3479e+01,\n",
      "           -1.7899e+01, -1.4009e+01]],\n",
      "\n",
      "         [[-3.1989e+01, -3.4955e+01, -3.6152e+01,  ..., -3.6271e+01,\n",
      "           -3.7991e+01, -2.5357e+01],\n",
      "          [-3.1945e+01, -4.5741e+01, -4.7438e+01,  ..., -5.0718e+01,\n",
      "           -4.2371e+01, -2.8813e+01],\n",
      "          [-3.4305e+01, -4.1792e+01, -5.1393e+01,  ..., -6.2000e+01,\n",
      "           -3.7335e+01, -1.8203e+01],\n",
      "          ...,\n",
      "          [ 3.7943e+00,  3.6611e+01,  3.9507e+01,  ...,  2.2814e+01,\n",
      "            8.3709e+00, -7.4376e+00],\n",
      "          [-6.4183e+00,  2.0101e+01,  1.6090e+01,  ...,  5.7796e+00,\n",
      "           -1.1282e+01, -2.5774e+00],\n",
      "          [-2.2669e+01, -1.1309e+01, -1.3526e+01,  ..., -4.4266e+00,\n",
      "           -9.5666e+00, -9.2384e+00]],\n",
      "\n",
      "         [[ 1.4509e+01,  9.5322e+00, -1.4304e+01,  ..., -3.9195e+01,\n",
      "           -6.5464e+00,  4.6325e+00],\n",
      "          [ 8.1279e+00, -1.5396e+01, -5.3829e+01,  ..., -4.7971e+01,\n",
      "           -3.0004e+01, -5.6448e+00],\n",
      "          [-2.0040e+01, -5.3674e+01, -7.8788e+01,  ..., -5.3046e+01,\n",
      "           -4.9222e+01, -1.7655e+01],\n",
      "          ...,\n",
      "          [-4.2042e+01, -3.7824e+01, -3.2282e+01,  ..., -2.4588e+01,\n",
      "           -2.7672e+01, -3.3917e+01],\n",
      "          [-4.0057e+01, -4.0959e+01, -3.5113e+01,  ..., -1.7076e+01,\n",
      "           -2.0121e+01, -2.9396e+01],\n",
      "          [-2.4621e+01, -2.4809e+01, -3.5983e+01,  ..., -2.2529e+01,\n",
      "           -2.3248e+01, -2.1462e+01]]]])\n"
     ]
    },
    {
     "name": "stderr",
     "output_type": "stream",
     "text": [
      "/mnt/c/Users/lauraa.omahony/Documents/~PhD_Stuff/1_Workspace/sw-interpretability/src/captum/captum/optim/models/_image/inception_v1.py:209: UserWarning: Model input has values outside of the range [0, 1].\n",
      "  warn(\"Model input has values outside of the range [0, 1].\")\n"
     ]
    }
   ],
   "source": [
    "googlenet_captum.mixed4e.conv_1x1.register_forward_hook(get_activation('mixed4e.conv_1x1'))\n",
    "output = googlenet_captum(input_batch)\n",
    "print(activation['mixed4e.conv_1x1'])"
   ]
  },
  {
   "cell_type": "code",
   "execution_count": 20,
   "id": "872fe1ca",
   "metadata": {
    "ExecuteTime": {
     "end_time": "2023-02-07T13:06:07.580691Z",
     "start_time": "2023-02-07T13:06:07.568444Z"
    },
    "scrolled": true
   },
   "outputs": [
    {
     "name": "stdout",
     "output_type": "stream",
     "text": [
      "tensor(51.9002)\n"
     ]
    },
    {
     "data": {
      "text/plain": [
       "tensor([ 2.0670e+01,  2.6568e+00, -9.9606e+00,  1.1299e+01,  1.8719e+01,\n",
       "        -2.4310e+01,  1.9512e+01, -7.9767e+00, -1.2247e+01, -1.2877e+01,\n",
       "        -5.3039e+00, -4.2541e+00,  1.8439e+01, -1.0218e+00,  1.7505e+00,\n",
       "         1.2673e+01, -7.5612e+00, -1.0299e+01, -2.9500e+01, -2.1995e+01,\n",
       "        -3.3613e-01, -6.9404e+00, -1.6604e+01, -2.6674e+01,  3.0831e+01,\n",
       "         2.4460e+01, -1.3770e+01,  2.0567e+01, -1.6080e+01, -6.4652e+00,\n",
       "         6.5528e+00, -7.5050e+00, -2.7825e+01, -3.7578e+00, -1.4884e+01,\n",
       "         1.2554e+01,  1.3543e+01, -1.5090e+01,  2.8769e+00, -2.0289e+01,\n",
       "        -1.1649e+01, -2.7810e+00,  1.2036e+02, -4.8256e+00,  1.1198e+00,\n",
       "        -1.1509e+01, -1.2520e+01, -7.5820e+00,  7.8733e+00, -2.1391e+01,\n",
       "        -1.2434e+01, -1.4221e+01, -3.3297e+01, -2.8674e+01, -1.0916e+01,\n",
       "         5.1900e+01, -1.3952e+00, -5.5183e+00, -3.0610e+00, -4.1305e+01,\n",
       "         3.7013e+01, -1.1625e+01, -4.0018e+00,  1.6728e+00, -9.9210e+00,\n",
       "        -1.3721e+01,  2.0084e+00,  7.2188e+00, -1.3280e+01, -1.0993e+01,\n",
       "         2.3218e+01, -3.3607e+00, -2.2974e+01, -1.0361e+01,  1.3329e+00,\n",
       "        -1.2837e+01, -2.6480e+01, -4.9329e+00, -4.5409e+00, -1.6536e+01,\n",
       "         1.3000e+01,  8.5050e+00,  2.0644e+01, -1.3973e+01, -2.6501e+01,\n",
       "        -1.6640e+00, -9.1575e+00, -1.2836e+01, -3.0381e+00, -2.4787e+01,\n",
       "         7.1393e+00, -1.5566e+01,  9.4981e+00,  1.3963e+01, -2.8184e+01,\n",
       "        -9.3699e+00, -1.4246e+01, -1.5801e+01, -1.1909e+01,  7.3971e+00,\n",
       "         2.7141e+01, -2.8272e+01,  8.1616e+00, -3.2503e-02,  7.7099e+00,\n",
       "         1.7220e+01, -1.5017e+01,  6.1664e+00, -5.6181e+00, -5.2717e+00,\n",
       "        -8.2329e+00,  1.5515e+01, -1.1705e+01, -1.4865e+01, -1.5529e+01,\n",
       "        -3.2094e+01, -3.6630e+00, -7.3093e+00, -1.4787e+01, -7.9186e+00,\n",
       "         2.8403e+00,  2.2777e+00, -2.5021e+01, -1.2650e+01, -6.4214e+00,\n",
       "        -3.1943e+01, -1.2890e+01,  8.0898e-01, -1.5984e+01,  1.1332e+01,\n",
       "        -7.8275e+00, -9.9049e-01, -1.0420e+01, -1.9015e+01, -2.1031e+01,\n",
       "        -2.7260e+01,  9.8700e+00,  6.0765e+00, -9.9123e+00, -2.5425e+01,\n",
       "        -2.9299e+01, -2.1543e+01, -9.4980e+00, -1.4864e+01, -9.4735e+00,\n",
       "        -1.9100e+00,  2.3112e-01, -1.2624e+01, -2.6265e+01,  5.3307e+00,\n",
       "         2.7585e+00, -1.5884e+01, -1.9425e+01,  3.1952e+01, -3.1798e+01,\n",
       "        -1.2501e+01, -1.0347e+01, -2.6685e+01,  1.0422e+00, -1.3717e+01,\n",
       "        -4.6041e+01, -1.6691e+01, -1.1404e+01, -1.5222e+01, -1.1209e+01,\n",
       "        -6.0975e+00, -2.5791e+01,  4.6986e+00,  1.7492e+01, -6.0075e+00,\n",
       "         4.5402e+00, -3.1217e+01,  7.1364e-01,  1.8518e-01, -4.0738e+00,\n",
       "        -1.4593e+01, -1.0175e+01, -2.0104e+01, -2.0010e+00,  8.4768e+00,\n",
       "         6.3355e+00,  1.3222e+01,  3.3101e+00, -2.0712e+01, -3.1636e+00,\n",
       "        -1.8426e+01, -7.3230e+00, -5.9474e+00, -4.4779e+00, -3.8111e+00,\n",
       "        -2.8886e+00, -2.3765e+01, -2.5065e+01,  1.9672e+01, -3.3771e+01,\n",
       "         1.3584e+01, -1.3480e+00,  2.4244e+01, -1.5677e+01, -2.6998e+01,\n",
       "         1.2667e+01, -5.5349e+00,  7.8326e+00,  2.1724e+01, -2.1239e-01,\n",
       "        -1.6791e+01,  4.6926e+00, -3.8408e+00, -7.0760e-01, -1.4396e+01,\n",
       "        -3.3913e+01, -2.0684e+01, -2.0431e+00, -1.6981e+01, -2.4878e+00,\n",
       "        -2.7572e+01,  8.9612e+00, -7.3941e+00,  1.0079e+01, -2.0655e+01,\n",
       "         9.7752e+00, -1.8193e+01,  6.8781e+00, -2.4002e+01, -3.4446e+00,\n",
       "        -1.3046e+01,  2.4135e+00, -1.4078e+01, -2.5898e+01, -1.7451e+01,\n",
       "        -1.1248e+01,  1.8125e+01, -1.2354e+01,  2.9306e+01, -2.2250e+01,\n",
       "        -2.0453e+01, -2.0428e+01,  4.0790e+00, -3.9491e+00,  2.6282e+00,\n",
       "        -7.7966e+00, -2.9831e+01, -7.7315e+00, -1.0980e+01, -1.1822e+01,\n",
       "        -9.2851e-01,  2.0025e+01, -8.5498e+00, -1.8429e+01, -2.1720e+01,\n",
       "        -1.0307e+01, -1.8340e+01, -2.5602e+01, -1.5111e+01, -1.9762e+01,\n",
       "        -4.3266e+01])"
      ]
     },
     "execution_count": 20,
     "metadata": {},
     "output_type": "execute_result"
    }
   ],
   "source": [
    "print(activation['mixed4e.conv_1x1'][0].mean(2).mean(1)[55])\n",
    "activation['mixed4e.conv_1x1'][0].mean(2).mean(1)"
   ]
  },
  {
   "cell_type": "markdown",
   "id": "1764dad1",
   "metadata": {
    "ExecuteTime": {
     "end_time": "2023-02-06T22:23:12.781540Z",
     "start_time": "2023-02-06T22:23:12.776368Z"
    }
   },
   "source": [
    "## Analyse activations and similarity"
   ]
  },
  {
   "cell_type": "code",
   "execution_count": 141,
   "id": "cb4d530f",
   "metadata": {
    "ExecuteTime": {
     "end_time": "2023-02-07T13:55:11.828292Z",
     "start_time": "2023-02-07T13:55:11.824290Z"
    }
   },
   "outputs": [],
   "source": [
    "activations_cat_dict = {}\n",
    "activations_car_dict = {}\n",
    "activations_cat_avg_dict = {}\n",
    "activations_car_avg_dict = {}\n",
    "\n",
    "activations_cat_avg_dot_dict = {}\n",
    "activations_car_avg_dot_dict = {}\n",
    "activations_cat_car_avg_dot_dict = {}\n",
    "\n",
    "activations_cat_avg_sim_dict = {}\n",
    "activations_car_avg_sim_dict = {}\n",
    "activations_cat_car_avg_sim_dict = {}"
   ]
  },
  {
   "cell_type": "markdown",
   "id": "e316a96f",
   "metadata": {},
   "source": [
    "### Extract activations, calculate averages, dot products"
   ]
  },
  {
   "cell_type": "code",
   "execution_count": 142,
   "id": "1bf18a8d",
   "metadata": {
    "ExecuteTime": {
     "end_time": "2023-02-07T13:55:22.417760Z",
     "start_time": "2023-02-07T13:55:22.414820Z"
    }
   },
   "outputs": [],
   "source": [
    "# Change layer name here and run\n",
    "layer = 'mixed4e.conv_1x1'"
   ]
  },
  {
   "cell_type": "code",
   "execution_count": 143,
   "id": "31bf8723",
   "metadata": {
    "ExecuteTime": {
     "end_time": "2023-02-07T13:55:22.771114Z",
     "start_time": "2023-02-07T13:55:22.767541Z"
    }
   },
   "outputs": [],
   "source": [
    "# activation = {}\n",
    "def get_activation(name):\n",
    "    def hook(googlenet_captum, input, output):\n",
    "        activation[name] = output.detach()\n",
    "    return hook"
   ]
  },
  {
   "cell_type": "code",
   "execution_count": 144,
   "id": "9ac65636",
   "metadata": {
    "ExecuteTime": {
     "end_time": "2023-02-07T13:55:25.226548Z",
     "start_time": "2023-02-07T13:55:23.331541Z"
    }
   },
   "outputs": [
    {
     "name": "stderr",
     "output_type": "stream",
     "text": [
      "/mnt/c/Users/lauraa.omahony/Documents/~PhD_Stuff/1_Workspace/sw-interpretability/src/captum/captum/optim/models/_image/inception_v1.py:209: UserWarning: Model input has values outside of the range [0, 1].\n",
      "  warn(\"Model input has values outside of the range [0, 1].\")\n"
     ]
    }
   ],
   "source": [
    "activations_cat = torch.empty(0,256,14,14)\n",
    "activations_car = torch.empty(0,256,14,14)\n",
    "directory_cat = f'{base_dir}/data/test-images/cat'\n",
    "directory_car = f'{base_dir}/data/test-images/car'\n",
    "\n",
    "for file in os.listdir(directory_cat): # os.listdir(directory)\n",
    "    activation = {}\n",
    "    input_image = Image.open(directory_cat+'/'+file).convert('RGB') # since 'RGBA'\n",
    "    input_tensor = preprocess(input_image)\n",
    "    input_batch = input_tensor.unsqueeze(0)\n",
    "\n",
    "    googlenet_captum.mixed4e.conv_1x1.register_forward_hook(get_activation(layer))\n",
    "    output = googlenet_captum(input_batch)\n",
    "    activations_cat = torch.cat((activations_cat,activation[layer]))\n",
    "\n",
    "for file in os.listdir(directory_car):\n",
    "    activation = {}\n",
    "    input_image = Image.open(directory_car+'/'+file).convert('RGB') # since 'RGBA'\n",
    "    input_tensor = preprocess(input_image)\n",
    "    input_batch = input_tensor.unsqueeze(0)\n",
    "\n",
    "    googlenet_captum.mixed4e.conv_1x1.register_forward_hook(get_activation(layer))\n",
    "    output = googlenet_captum(input_batch)\n",
    "    activations_car = torch.cat((activations_car,activation[layer]))"
   ]
  },
  {
   "cell_type": "code",
   "execution_count": 145,
   "id": "d30c1f01",
   "metadata": {
    "ExecuteTime": {
     "end_time": "2023-02-07T13:55:26.156348Z",
     "start_time": "2023-02-07T13:55:26.151770Z"
    }
   },
   "outputs": [],
   "source": [
    "activations_cat_avg = activations_cat.mean(3).mean(2) \n",
    "activations_car_avg = activations_car.mean(3).mean(2) "
   ]
  },
  {
   "cell_type": "code",
   "execution_count": 146,
   "id": "c67c7f36",
   "metadata": {
    "ExecuteTime": {
     "end_time": "2023-02-07T13:55:26.595125Z",
     "start_time": "2023-02-07T13:55:26.591614Z"
    },
    "scrolled": true
   },
   "outputs": [],
   "source": [
    "# np.dot(activations_car_avg[0], activations_car_avg[0])/(np.linalg.norm(activations_car_avg[0])*np.linalg.norm(activations_car_avg[0])) "
   ]
  },
  {
   "cell_type": "code",
   "execution_count": 149,
   "id": "26802ddf",
   "metadata": {
    "ExecuteTime": {
     "end_time": "2023-02-07T13:57:24.835456Z",
     "start_time": "2023-02-07T13:57:24.788848Z"
    },
    "scrolled": true
   },
   "outputs": [],
   "source": [
    "activations_cat_avg_dot = np.empty([len(activations_cat_avg),len(activations_cat_avg)])\n",
    "activations_cat_avg_sim = np.empty([len(activations_cat_avg),len(activations_cat_avg)])\n",
    "for i in range(len(activations_cat_avg)):\n",
    "    for j in range(len(activations_cat_avg)):\n",
    "        activations_cat_avg_dot[i,j] = np.dot(activations_cat_avg[i], activations_cat_avg[j])\n",
    "        activations_cat_avg_sim[i,j] = activations_cat_avg_dot[i,j]/(np.linalg.norm(activations_cat_avg[i])*np.linalg.norm(activations_cat_avg[j])) \n",
    "        \n",
    "activations_car_avg_dot = np.empty([len(activations_car_avg),len(activations_car_avg)])\n",
    "activations_car_avg_sim = np.empty([len(activations_car_avg),len(activations_car_avg)])\n",
    "for i in range(len(activations_car_avg)):\n",
    "    for j in range(len(activations_car_avg)):\n",
    "        activations_car_avg_dot[i,j] = np.dot(activations_car_avg[i], activations_car_avg[j])\n",
    "        activations_car_avg_sim[i,j] = activations_car_avg_dot[i,j]/(np.linalg.norm(activations_car_avg[i])*np.linalg.norm(activations_car_avg[j])) \n",
    "        \n",
    "activations_cat_car_avg_dot = np.empty([len(activations_cat_avg),len(activations_car_avg)])\n",
    "activations_cat_car_avg_sim = np.empty([len(activations_cat_avg),len(activations_car_avg)])\n",
    "for i in range(len(activations_cat_avg)):\n",
    "    for j in range(len(activations_car_avg)):\n",
    "        activations_cat_car_avg_dot[i,j] = np.dot(activations_cat_avg[i], activations_car_avg[j])\n",
    "        activations_cat_car_avg_sim[i,j] = activations_cat_car_avg_dot[i,j]/(np.linalg.norm(activations_cat_avg[i])*np.linalg.norm(activations_car_avg[j])) \n"
   ]
  },
  {
   "cell_type": "markdown",
   "id": "3e5dd521",
   "metadata": {},
   "source": [
    "### Save"
   ]
  },
  {
   "cell_type": "code",
   "execution_count": 150,
   "id": "ea438198",
   "metadata": {
    "ExecuteTime": {
     "end_time": "2023-02-07T13:57:52.250819Z",
     "start_time": "2023-02-07T13:57:52.246750Z"
    }
   },
   "outputs": [],
   "source": [
    "activations_cat_dict[layer] = activations_cat\n",
    "activations_car_dict[layer] = activations_car\n",
    "activations_cat_avg_dict[layer] = activations_cat_avg\n",
    "activations_car_avg_dict[layer] = activations_car_avg\n",
    "\n",
    "activations_cat_avg_dot_dict[layer] = activations_cat_avg_dot\n",
    "activations_car_avg_dot_dict[layer] = activations_car_avg_dot\n",
    "activations_cat_car_avg_dot_dict[layer] = activations_cat_car_avg_dot\n",
    "\n",
    "activations_cat_avg_sim_dict[layer] = activations_cat_avg_sim\n",
    "activations_car_avg_sim_dict[layer] = activations_car_avg_sim\n",
    "activations_cat_car_avg_sim_dict[layer] = activations_cat_car_avg_sim"
   ]
  },
  {
   "cell_type": "markdown",
   "id": "ad979945",
   "metadata": {},
   "source": [
    "### Analyse activations from some layer"
   ]
  },
  {
   "cell_type": "code",
   "execution_count": 152,
   "id": "4269cfd4",
   "metadata": {
    "ExecuteTime": {
     "end_time": "2023-02-07T13:58:02.899306Z",
     "start_time": "2023-02-07T13:58:02.895715Z"
    }
   },
   "outputs": [],
   "source": [
    "layer = 'mixed4e.conv_1x1'"
   ]
  },
  {
   "cell_type": "code",
   "execution_count": 153,
   "id": "24672adf",
   "metadata": {
    "ExecuteTime": {
     "end_time": "2023-02-07T13:58:03.390032Z",
     "start_time": "2023-02-07T13:58:03.374263Z"
    },
    "scrolled": true
   },
   "outputs": [
    {
     "name": "stdout",
     "output_type": "stream",
     "text": [
      "tensor(40.8712)\n",
      "tensor(28.3196)\n",
      "tensor(26.9722)\n"
     ]
    },
    {
     "data": {
      "text/plain": [
       "tensor([ 5.0376e+00, -4.9111e+00,  1.4150e+01, -1.6354e+00, -2.7737e+00,\n",
       "        -1.1065e+00, -6.5590e+00, -1.4795e+01, -4.4490e+00,  1.5086e+01,\n",
       "        -2.0797e+01, -2.0095e+01,  2.7212e+00, -1.3083e+01, -5.1011e+00,\n",
       "        -1.1686e+01, -9.6292e-01, -7.8750e+00,  4.0149e+00, -1.0331e+01,\n",
       "         6.7908e+00, -1.1969e+01,  5.1243e+00, -1.3287e+01, -4.5497e+00,\n",
       "        -1.1915e+01,  1.1651e+01, -6.5405e+00, -4.7897e+00, -2.9820e+00,\n",
       "        -2.5691e+00,  1.1982e+01, -1.7255e+01, -2.3968e+01, -5.8580e+00,\n",
       "         1.3675e+01, -1.0549e+01, -7.0029e+00, -4.8587e+00, -1.7680e+01,\n",
       "         1.9925e+00, -2.3096e+00,  1.2625e+02,  6.6789e+00, -1.3327e-01,\n",
       "        -5.1863e+00, -5.9694e+00,  6.7918e-01,  7.8991e+00, -8.2906e+00,\n",
       "        -1.5833e+01,  5.2804e+00, -8.2658e+00, -9.8935e+00, -1.7248e+01,\n",
       "         2.6972e+01, -4.6030e+00,  9.9497e+00,  6.7233e+00, -1.2542e+01,\n",
       "         9.7354e+00, -4.4610e+00, -9.8948e+00, -6.8968e+00, -1.3422e+01,\n",
       "        -4.1376e-03, -1.1488e+01, -6.9146e-01, -2.5982e+00,  6.5509e+00,\n",
       "        -8.5870e+00,  1.5631e+01, -4.0774e+00,  2.2066e+01, -1.6954e+00,\n",
       "        -1.7338e+01, -8.1011e+00, -1.5643e+00, -4.9017e+00,  5.5817e+00,\n",
       "        -6.7887e+00, -1.6861e+01, -1.0816e+01, -2.6101e+00, -6.6551e+00,\n",
       "        -1.8407e+00,  1.2078e+01, -6.0266e+00, -3.3648e+00, -5.1840e+00,\n",
       "        -3.9017e+00,  4.7430e+00, -1.0579e+01, -4.0720e+00,  2.2872e+00,\n",
       "        -6.9127e-01, -1.2372e+01,  1.8489e+00,  2.6317e+00, -2.0833e+01,\n",
       "        -2.0221e+00, -1.7981e+01, -3.6905e+00, -1.2672e+00, -1.5367e+01,\n",
       "         1.3246e+01,  2.8391e+00, -8.7619e-01, -9.8800e+00, -1.0457e+01,\n",
       "        -2.0652e+00,  1.0487e+00, -1.4642e+01, -1.4891e+01, -2.0199e+01,\n",
       "        -8.2462e+00, -1.1001e+01, -4.8302e+00, -2.9418e+00, -2.0063e+01,\n",
       "        -4.4294e+00, -4.8692e+00, -4.8284e+00, -1.7182e+01, -1.5707e+01,\n",
       "        -4.7975e+00, -1.6984e+01,  9.3010e+00, -9.3815e+00, -6.8869e+00,\n",
       "        -1.3671e+01, -1.7934e+01, -4.6397e+00, -5.2664e+00, -6.1561e+00,\n",
       "        -1.4244e+01, -4.7289e+00, -1.5133e+01, -1.2158e+01, -6.6176e+00,\n",
       "        -4.5621e+00, -9.8319e+00, -2.0658e+00, -3.7078e+00, -7.0862e+00,\n",
       "        -1.6221e+01, -4.5956e+00, -6.4918e+00, -2.0966e+00, -2.0000e+00,\n",
       "         1.3101e+00,  5.2908e+00, -2.8949e+00,  2.7548e+00, -2.3328e+01,\n",
       "        -9.1789e+00, -7.8369e+00, -1.6012e+00, -8.2835e+00,  2.7121e+01,\n",
       "        -1.3012e+01,  2.8971e+00, -8.7650e+00,  4.6889e+00,  6.9293e+00,\n",
       "        -1.3440e+01,  3.4412e+00, -4.6212e+00, -3.5638e+00,  6.2430e+00,\n",
       "         2.6113e+00, -1.1362e+01, -1.1815e+01, -9.1848e+00, -2.9987e+00,\n",
       "        -1.0177e+01, -1.7122e+01, -8.8533e+00, -1.4067e+01,  5.1249e+00,\n",
       "        -1.0685e+01, -4.1738e+00, -5.1058e+00, -8.9294e+00, -1.5102e+01,\n",
       "        -1.3053e+01, -3.2553e+00, -1.0751e+01, -5.3649e+00, -5.8239e+00,\n",
       "        -1.7172e+01, -1.3129e+01, -5.1829e+00, -8.9160e+00, -1.3673e+01,\n",
       "        -1.0973e+01, -2.0797e+01,  1.2095e+01, -1.8859e+01,  2.0799e+00,\n",
       "        -1.3128e+01,  1.0626e+01,  2.4011e+00,  1.9997e+00, -1.2028e+01,\n",
       "         7.4348e-01, -2.5449e+00, -1.4000e+01,  4.5816e+00, -8.4135e+00,\n",
       "        -1.0345e+01, -1.8720e+01, -1.6790e+01, -3.6686e+00, -3.7826e+00,\n",
       "        -1.3795e+01, -3.6047e+00,  4.1002e+00,  1.7055e+00, -9.9369e+00,\n",
       "        -7.5820e+00, -2.0875e+01, -3.1561e+00, -1.2759e+01, -6.8890e+00,\n",
       "        -8.3413e+00, -1.5416e+00, -6.5873e+00,  2.6696e+00, -1.4724e+01,\n",
       "         1.7872e+01, -3.1980e+00, -5.5340e-01, -5.9042e+00, -4.2486e-01,\n",
       "        -5.2278e+00, -7.8802e+00, -6.0700e-01, -1.3542e+01,  1.9471e+01,\n",
       "        -1.0751e+00, -8.9517e+00, -2.8137e+00, -3.0874e+00,  7.1616e+00,\n",
       "        -8.5307e+00, -7.0647e+00, -6.2175e+00, -4.8826e+00, -1.3026e+01,\n",
       "        -7.2749e+00, -1.5084e+01, -1.1521e+01,  1.0460e+00, -2.2390e+01,\n",
       "        -2.1556e+01])"
      ]
     },
     "execution_count": 153,
     "metadata": {},
     "output_type": "execute_result"
    }
   ],
   "source": [
    "print(activations_car_dict[layer][0].mean(2).mean(1)[55])\n",
    "print(activations_car_dict[layer][1].mean(2).mean(1)[55])\n",
    "print(activations_car_dict[layer][-1].mean(2).mean(1)[55])\n",
    "activation[layer][0].mean(2).mean(1)"
   ]
  },
  {
   "cell_type": "markdown",
   "id": "19fc5cdf",
   "metadata": {},
   "source": [
    "Outputs 256 14x14 feature maps. \n",
    "How to visualise/analyse this shape? \n",
    "Create loop and average?? Look at unit 55. "
   ]
  },
  {
   "cell_type": "code",
   "execution_count": 154,
   "id": "6cbded3f",
   "metadata": {
    "ExecuteTime": {
     "end_time": "2023-02-07T13:58:05.048126Z",
     "start_time": "2023-02-07T13:58:05.045644Z"
    }
   },
   "outputs": [],
   "source": [
    "# car hood: imagenet 81, flickr 61, 76, 81, 98"
   ]
  },
  {
   "cell_type": "code",
   "execution_count": 155,
   "id": "8dfc2eda",
   "metadata": {
    "ExecuteTime": {
     "end_time": "2023-02-07T13:58:05.666838Z",
     "start_time": "2023-02-07T13:58:05.663827Z"
    }
   },
   "outputs": [],
   "source": [
    "# activations_cat_dict['mixed4e.conv_1x1'].shape # torch.Size([17, 256, 14, 14])\n",
    "# activations_car_dict['mixed4e.conv_1x1'].shape # torch.Size([5, 256, 14, 14])"
   ]
  },
  {
   "cell_type": "code",
   "execution_count": 156,
   "id": "5a5d7021",
   "metadata": {
    "ExecuteTime": {
     "end_time": "2023-02-07T13:58:06.049225Z",
     "start_time": "2023-02-07T13:58:06.045901Z"
    }
   },
   "outputs": [],
   "source": [
    "# len(activations_cat_dict['mixed4e.conv_1x1']) # 17\n",
    "# len(activations_car_dict['mixed4e.conv_1x1']) # 5\n",
    "# activations_cat_avg_dict['mixed4e.conv_1x1'].shape # torch.Size([17, 256])\n",
    "# activations_car_avg_dict['mixed4e.conv_1x1'].shape # torch.Size([5, 256])"
   ]
  },
  {
   "cell_type": "code",
   "execution_count": 157,
   "id": "4162dbb3",
   "metadata": {
    "ExecuteTime": {
     "end_time": "2023-02-07T13:58:06.422320Z",
     "start_time": "2023-02-07T13:58:06.414916Z"
    },
    "scrolled": true
   },
   "outputs": [
    {
     "data": {
      "text/plain": [
       "tensor([ 2.0670e+01,  2.6568e+00, -9.9606e+00,  1.1299e+01,  1.8719e+01,\n",
       "        -2.4310e+01,  1.9512e+01, -7.9767e+00, -1.2247e+01, -1.2877e+01,\n",
       "        -5.3039e+00, -4.2541e+00,  1.8439e+01, -1.0218e+00,  1.7505e+00,\n",
       "         1.2673e+01, -7.5612e+00, -1.0299e+01, -2.9500e+01, -2.1995e+01,\n",
       "        -3.3613e-01, -6.9404e+00, -1.6604e+01, -2.6674e+01,  3.0831e+01,\n",
       "         2.4460e+01, -1.3770e+01,  2.0567e+01, -1.6080e+01, -6.4652e+00,\n",
       "         6.5528e+00, -7.5050e+00, -2.7825e+01, -3.7578e+00, -1.4884e+01,\n",
       "         1.2554e+01,  1.3543e+01, -1.5090e+01,  2.8769e+00, -2.0289e+01,\n",
       "        -1.1649e+01, -2.7810e+00,  1.2036e+02, -4.8256e+00,  1.1198e+00,\n",
       "        -1.1509e+01, -1.2520e+01, -7.5820e+00,  7.8733e+00, -2.1391e+01,\n",
       "        -1.2434e+01, -1.4221e+01, -3.3297e+01, -2.8674e+01, -1.0916e+01,\n",
       "         5.1900e+01, -1.3952e+00, -5.5183e+00, -3.0610e+00, -4.1305e+01,\n",
       "         3.7013e+01, -1.1625e+01, -4.0018e+00,  1.6728e+00, -9.9210e+00,\n",
       "        -1.3721e+01,  2.0084e+00,  7.2188e+00, -1.3280e+01, -1.0993e+01,\n",
       "         2.3218e+01, -3.3607e+00, -2.2974e+01, -1.0361e+01,  1.3329e+00,\n",
       "        -1.2837e+01, -2.6480e+01, -4.9329e+00, -4.5409e+00, -1.6536e+01,\n",
       "         1.3000e+01,  8.5050e+00,  2.0644e+01, -1.3973e+01, -2.6501e+01,\n",
       "        -1.6640e+00, -9.1575e+00, -1.2836e+01, -3.0381e+00, -2.4787e+01,\n",
       "         7.1393e+00, -1.5566e+01,  9.4981e+00,  1.3963e+01, -2.8184e+01,\n",
       "        -9.3699e+00, -1.4246e+01, -1.5801e+01, -1.1909e+01,  7.3971e+00,\n",
       "         2.7141e+01, -2.8272e+01,  8.1616e+00, -3.2503e-02,  7.7099e+00,\n",
       "         1.7220e+01, -1.5017e+01,  6.1664e+00, -5.6181e+00, -5.2717e+00,\n",
       "        -8.2329e+00,  1.5515e+01, -1.1705e+01, -1.4865e+01, -1.5529e+01,\n",
       "        -3.2094e+01, -3.6630e+00, -7.3093e+00, -1.4787e+01, -7.9186e+00,\n",
       "         2.8403e+00,  2.2777e+00, -2.5021e+01, -1.2650e+01, -6.4214e+00,\n",
       "        -3.1943e+01, -1.2890e+01,  8.0898e-01, -1.5984e+01,  1.1332e+01,\n",
       "        -7.8275e+00, -9.9049e-01, -1.0420e+01, -1.9015e+01, -2.1031e+01,\n",
       "        -2.7260e+01,  9.8700e+00,  6.0765e+00, -9.9123e+00, -2.5425e+01,\n",
       "        -2.9299e+01, -2.1543e+01, -9.4980e+00, -1.4864e+01, -9.4735e+00,\n",
       "        -1.9100e+00,  2.3112e-01, -1.2624e+01, -2.6265e+01,  5.3307e+00,\n",
       "         2.7585e+00, -1.5884e+01, -1.9425e+01,  3.1952e+01, -3.1798e+01,\n",
       "        -1.2501e+01, -1.0347e+01, -2.6685e+01,  1.0422e+00, -1.3717e+01,\n",
       "        -4.6041e+01, -1.6691e+01, -1.1404e+01, -1.5222e+01, -1.1209e+01,\n",
       "        -6.0975e+00, -2.5791e+01,  4.6986e+00,  1.7492e+01, -6.0075e+00,\n",
       "         4.5402e+00, -3.1217e+01,  7.1364e-01,  1.8518e-01, -4.0738e+00,\n",
       "        -1.4593e+01, -1.0175e+01, -2.0104e+01, -2.0010e+00,  8.4768e+00,\n",
       "         6.3355e+00,  1.3222e+01,  3.3101e+00, -2.0712e+01, -3.1636e+00,\n",
       "        -1.8426e+01, -7.3230e+00, -5.9474e+00, -4.4779e+00, -3.8111e+00,\n",
       "        -2.8886e+00, -2.3765e+01, -2.5065e+01,  1.9672e+01, -3.3771e+01,\n",
       "         1.3584e+01, -1.3480e+00,  2.4244e+01, -1.5677e+01, -2.6998e+01,\n",
       "         1.2667e+01, -5.5349e+00,  7.8326e+00,  2.1724e+01, -2.1239e-01,\n",
       "        -1.6791e+01,  4.6926e+00, -3.8408e+00, -7.0760e-01, -1.4396e+01,\n",
       "        -3.3913e+01, -2.0684e+01, -2.0431e+00, -1.6981e+01, -2.4878e+00,\n",
       "        -2.7572e+01,  8.9612e+00, -7.3941e+00,  1.0079e+01, -2.0655e+01,\n",
       "         9.7752e+00, -1.8193e+01,  6.8781e+00, -2.4002e+01, -3.4446e+00,\n",
       "        -1.3046e+01,  2.4135e+00, -1.4078e+01, -2.5898e+01, -1.7451e+01,\n",
       "        -1.1248e+01,  1.8125e+01, -1.2354e+01,  2.9306e+01, -2.2250e+01,\n",
       "        -2.0453e+01, -2.0428e+01,  4.0790e+00, -3.9491e+00,  2.6282e+00,\n",
       "        -7.7966e+00, -2.9831e+01, -7.7315e+00, -1.0980e+01, -1.1822e+01,\n",
       "        -9.2851e-01,  2.0025e+01, -8.5498e+00, -1.8429e+01, -2.1720e+01,\n",
       "        -1.0307e+01, -1.8340e+01, -2.5602e+01, -1.5111e+01, -1.9762e+01,\n",
       "        -4.3266e+01])"
      ]
     },
     "execution_count": 157,
     "metadata": {},
     "output_type": "execute_result"
    }
   ],
   "source": [
    "activations_cat_avg_dict[layer][0]"
   ]
  },
  {
   "cell_type": "code",
   "execution_count": 158,
   "id": "1aa7ea12",
   "metadata": {
    "ExecuteTime": {
     "end_time": "2023-02-07T13:58:07.200635Z",
     "start_time": "2023-02-07T13:58:07.191705Z"
    },
    "scrolled": false
   },
   "outputs": [
    {
     "name": "stdout",
     "output_type": "stream",
     "text": [
      "tensor(51.9002)\n",
      "tensor(30.3812)\n",
      "tensor(36.2447)\n"
     ]
    }
   ],
   "source": [
    "print(activations_cat_dict[layer][0].mean(2).mean(1)[55])\n",
    "print(activations_cat_dict[layer][1].mean(2).mean(1)[55])\n",
    "print(activations_cat_dict[layer][-1].mean(2).mean(1)[55])"
   ]
  },
  {
   "cell_type": "code",
   "execution_count": 159,
   "id": "abaea738",
   "metadata": {
    "ExecuteTime": {
     "end_time": "2023-02-07T13:58:07.992938Z",
     "start_time": "2023-02-07T13:58:07.982305Z"
    },
    "scrolled": true
   },
   "outputs": [
    {
     "data": {
      "text/plain": [
       "tensor([ 2.4143e+00, -8.1993e+00,  1.7875e+01, -1.1238e+01,  8.6440e+00,\n",
       "         3.6584e+00, -1.0727e+01, -1.2424e+01, -7.2836e+00,  1.2622e+01,\n",
       "        -2.1161e+01, -8.8233e+00,  3.8180e+00, -1.4443e+01, -5.3038e+00,\n",
       "        -8.8534e+00, -4.7622e+00, -9.7690e+00, -2.9489e+00, -8.3558e+00,\n",
       "         9.0305e+00, -1.3737e+01,  1.1373e+00, -1.6018e+01, -7.6267e-01,\n",
       "        -1.6982e+01,  8.8713e+00, -7.8527e+00, -1.0438e+01, -1.0699e+01,\n",
       "        -1.9927e+01,  9.7394e+00, -1.5372e+01, -1.1782e+01, -3.0595e+00,\n",
       "         1.8755e+01, -1.0091e+01, -1.5016e+01, -5.2432e+00, -1.1687e+01,\n",
       "        -2.8368e+00,  2.0381e+00,  1.1971e+02,  7.3276e+00,  1.5723e+01,\n",
       "        -1.0064e+01, -1.5567e+01,  2.7730e+00,  2.5680e+01, -7.5134e+00,\n",
       "        -1.6923e+01,  6.6091e+00, -4.7973e+00, -7.6282e+00, -2.2068e+01,\n",
       "         2.7765e+01, -3.3257e+00, -3.5991e+00,  7.1929e+00, -1.7320e+01,\n",
       "         4.1330e+00, -1.6645e+01, -8.3227e+00,  5.7150e+00, -7.4034e+00,\n",
       "        -1.1748e+00, -6.9157e-01, -3.5383e+00, -5.2886e+00,  8.0338e+00,\n",
       "        -3.6420e+00,  9.4204e+00, -2.6855e+00,  3.7763e+00, -1.0355e+01,\n",
       "        -1.9060e+01, -3.1996e+00, -3.4198e+00, -2.1033e+01, -1.2065e+00,\n",
       "        -1.0590e+01, -9.7038e+00, -1.8114e+01,  7.5955e-01, -6.0289e+00,\n",
       "        -1.3050e+01, -1.7403e+00, -4.6259e-02, -9.0017e+00, -1.4639e+01,\n",
       "        -1.0556e+01, -7.0213e+00, -1.4670e+01, -2.2695e+00,  8.6783e+00,\n",
       "        -1.6903e+01, -1.3063e+01, -5.9328e-01,  4.8839e+00, -1.2864e+01,\n",
       "        -1.0874e+01, -1.7071e+01, -3.8310e+00,  1.3778e+01, -2.0860e+01,\n",
       "         1.2344e+01,  6.8106e+00,  3.3125e-01, -7.7559e-01, -1.6098e+01,\n",
       "         2.0874e+00, -1.6101e+00, -6.5009e+00, -1.4527e+01, -1.5074e+01,\n",
       "        -1.3109e+01, -7.3429e+00, -6.6423e+00, -6.5679e+00, -2.4157e+01,\n",
       "        -1.2976e+01, -6.0463e-01, -6.7080e+00, -1.5553e+01, -1.6195e+01,\n",
       "        -1.0847e+01, -2.2956e+01,  4.7801e+00, -4.6940e+00, -8.3504e+00,\n",
       "         8.2685e-02, -2.3848e+01, -1.4128e+00,  2.0940e+00, -1.5886e+01,\n",
       "        -1.1744e+01, -8.1174e+00, -1.3677e+01, -2.0774e+01, -6.8049e+00,\n",
       "         2.0607e-01, -1.3867e+01, -1.4884e+00, -1.1296e+01, -1.1787e+01,\n",
       "        -2.3563e+01, -2.0858e+01, -3.8577e+00, -6.9019e+00, -4.4147e+00,\n",
       "        -4.3412e+00, -4.5151e+00,  1.0490e-01,  3.7679e+00, -1.8670e+01,\n",
       "         4.7010e+00,  1.4764e+00,  8.4911e-01, -7.7050e+00,  1.4886e+01,\n",
       "        -2.0581e+01, -1.7742e-01, -8.0365e+00,  6.6891e+00,  2.0691e+01,\n",
       "        -1.6903e+01,  1.1579e+01, -1.3050e+01, -6.4023e+00, -8.0600e-01,\n",
       "        -1.2841e+01, -6.6458e+00, -6.5976e+00, -4.8558e+00, -5.1130e+00,\n",
       "        -5.5653e+00, -1.3410e+01, -2.0532e-01, -1.3306e+01, -5.0885e+00,\n",
       "        -1.7545e+01,  3.0794e-01, -3.4274e+00, -1.9569e+00, -1.9097e+01,\n",
       "         2.3861e+00, -9.6444e+00, -1.2792e+01, -6.7675e+00,  4.0201e+00,\n",
       "        -1.4168e+01, -2.1058e+01, -1.0201e+01, -1.0195e+01, -1.0847e+01,\n",
       "        -3.0913e+00, -1.9044e+01,  3.9807e+00, -2.1105e+01,  9.0776e+00,\n",
       "        -1.2070e+01,  4.5760e+00, -3.0548e+00,  5.6633e+00, -4.4053e+00,\n",
       "        -9.4029e+00, -2.2153e+00, -1.0362e+01,  4.9151e+00, -1.9413e+01,\n",
       "        -1.3394e+01, -1.1590e+01, -1.5624e+01, -1.6793e+01,  4.9999e+00,\n",
       "        -2.0216e+01, -2.5407e+00,  1.7256e+00, -1.8042e+00, -9.2356e+00,\n",
       "        -1.3296e+01, -2.2926e+01, -1.7341e+00, -8.1617e+00, -1.1518e+00,\n",
       "        -3.8306e+00, -7.5497e+00, -9.3034e+00,  7.9229e+00, -9.6384e+00,\n",
       "         1.4659e+00, -7.3621e+00, -3.5193e+00, -7.4823e+00, -6.4466e+00,\n",
       "        -1.3838e+01, -5.3346e+00, -2.1512e+00, -1.5829e+01,  2.3625e+01,\n",
       "        -2.4957e+00, -1.6769e+01, -5.1327e+00, -5.3119e+00,  7.2896e+00,\n",
       "        -7.8494e+00, -2.3349e+00, -1.4955e+01, -2.4779e+00, -1.5816e+01,\n",
       "        -1.5246e+01, -1.0964e+01, -1.0603e+00, -1.2738e+01, -2.5947e+01,\n",
       "        -2.6929e+01])"
      ]
     },
     "execution_count": 159,
     "metadata": {},
     "output_type": "execute_result"
    }
   ],
   "source": [
    "activations_car_avg_dict[layer][2]"
   ]
  },
  {
   "cell_type": "code",
   "execution_count": 160,
   "id": "2a9997c0",
   "metadata": {
    "ExecuteTime": {
     "end_time": "2023-02-07T13:58:08.852210Z",
     "start_time": "2023-02-07T13:58:08.655691Z"
    },
    "scrolled": true
   },
   "outputs": [
    {
     "data": {
      "text/plain": [
       "[<matplotlib.lines.Line2D at 0x7ff2d4e71ca0>]"
      ]
     },
     "execution_count": 160,
     "metadata": {},
     "output_type": "execute_result"
    },
    {
     "data": {
      "image/png": "[encoded data removed]",
      "text/plain": [
       "<Figure size 640x480 with 1 Axes>"
      ]
     },
     "metadata": {},
     "output_type": "display_data"
    }
   ],
   "source": [
    "plt.plot(activations_cat_avg_dict[layer][0]) # 42 peak"
   ]
  },
  {
   "cell_type": "code",
   "execution_count": 161,
   "id": "5a3f83f5",
   "metadata": {
    "ExecuteTime": {
     "end_time": "2023-02-07T13:58:09.850562Z",
     "start_time": "2023-02-07T13:58:09.655731Z"
    },
    "scrolled": true
   },
   "outputs": [
    {
     "data": {
      "text/plain": [
       "[<matplotlib.lines.Line2D at 0x7ff2d4f48550>]"
      ]
     },
     "execution_count": 161,
     "metadata": {},
     "output_type": "execute_result"
    },
    {
     "data": {
      "image/png": "[encoded data removed]",
      "text/plain": [
       "<Figure size 640x480 with 1 Axes>"
      ]
     },
     "metadata": {},
     "output_type": "display_data"
    }
   ],
   "source": [
    "plt.plot(activations_car_avg_dict[layer][0]) # 42 peak"
   ]
  },
  {
   "cell_type": "code",
   "execution_count": 165,
   "id": "212d1863",
   "metadata": {
    "ExecuteTime": {
     "end_time": "2023-02-07T14:04:23.495381Z",
     "start_time": "2023-02-07T14:04:22.832432Z"
    },
    "scrolled": false
   },
   "outputs": [
    {
     "data": {
      "image/png": "[encoded data removed]",
      "text/plain": [
       "<Figure size 600x1200 with 4 Axes>"
      ]
     },
     "metadata": {},
     "output_type": "display_data"
    }
   ],
   "source": [
    "cat = [f\"cat{i}\" for i in range(len(activations_cat_avg_dot_dict[layer]))]\n",
    "car = [f\"car{i}\" for i in range(len(activations_car_avg_dot_dict[layer]))]\n",
    "\n",
    "min_dot = min(np.amin(activations_cat_avg_dot_dict[layer]), np.amin(activations_car_avg_dot_dict[layer]), np.amin(activations_cat_car_avg_dot_dict[layer])) \n",
    "max_dot = max(np.amax(activations_cat_avg_dot_dict[layer]), np.amax(activations_car_avg_dot_dict[layer]), np.amax(activations_cat_car_avg_dot_dict[layer])) \n",
    "\n",
    "fig, axs = plt.subplots(3,1,figsize=(6, 12))\n",
    "\n",
    "im1 = axs[0].imshow(activations_cat_avg_dot_dict[layer], cmap='viridis', interpolation='nearest', vmin=min_dot, vmax=max_dot)\n",
    "axs[0].set_xticks(np.arange(len(activations_cat_avg_dot_dict[layer])), labels=cat)\n",
    "axs[0].set_yticks(np.arange(len(activations_cat_avg_dot_dict[layer])), labels=cat)\n",
    "axs[0].set_title(\"activations_cat_avg_dot\")\n",
    "\n",
    "im2 = axs[1].imshow(activations_car_avg_dot_dict[layer], cmap='viridis', interpolation='nearest', vmin=min_dot, vmax=max_dot)\n",
    "axs[1].set_xticks(np.arange(len(activations_car_avg_dot_dict[layer])), labels=car)\n",
    "axs[1].set_yticks(np.arange(len(activations_car_avg_dot_dict[layer])), labels=car)\n",
    "axs[1].set_title(\"activations_car_avg_dot\")\n",
    "for i in range(len(activations_car_avg_dot_dict[layer])):\n",
    "    for j in range(len(activations_car_avg_dot_dict[layer])):\n",
    "        text = axs[1].text(j, i, activations_car_avg_dot_dict[layer][i, j]//1000,\n",
    "                       ha=\"center\", va=\"center\", color=\"w\")\n",
    "        \n",
    "im2 = axs[2].imshow(activations_cat_car_avg_dot_dict[layer], cmap='viridis', interpolation='nearest', vmin=min_dot, vmax=max_dot)\n",
    "axs[2].set_xticks(np.arange(len(activations_car_avg_dot_dict[layer])), labels=car)\n",
    "axs[2].set_yticks(np.arange(len(activations_cat_avg_dot_dict[layer])), labels=cat)\n",
    "axs[2].set_title(\"activations_cat_car_avg_dot\")\n",
    "\n",
    "plt.subplots_adjust(right=0.8)\n",
    "cbar_ax = plt.axes([0.85, 0.1, 0.075, 0.8])\n",
    "plt.colorbar(mappable=(im1), cax=cbar_ax)\n",
    "# cbar_ax = fig.add_axes([0.85, 0.15, 0.05, 0.7])\n",
    "\n",
    "plt.show()"
   ]
  },
  {
   "cell_type": "code",
   "execution_count": 173,
   "id": "6f99621b",
   "metadata": {
    "ExecuteTime": {
     "end_time": "2023-02-07T14:09:07.176228Z",
     "start_time": "2023-02-07T14:09:06.471221Z"
    }
   },
   "outputs": [
    {
     "data": {
      "image/png": "[encoded data removed]",
      "text/plain": [
       "<Figure size 600x1200 with 4 Axes>"
      ]
     },
     "metadata": {},
     "output_type": "display_data"
    }
   ],
   "source": [
    "cat = [f\"cat{i}\" for i in range(len(activations_cat_avg_sim_dict[layer]))]\n",
    "car = [f\"car{i}\" for i in range(len(activations_car_avg_sim_dict[layer]))]\n",
    "\n",
    "min_sim = 0\n",
    "max_sim = 1\n",
    "\n",
    "fig, axs = plt.subplots(3,1,figsize=(6, 12))\n",
    "\n",
    "im1 = axs[0].imshow(activations_cat_avg_sim_dict[layer], cmap='viridis', interpolation='nearest', vmin=min_sim, vmax=max_sim) \n",
    "axs[0].set_xticks(np.arange(len(activations_cat_avg_sim_dict[layer])), labels=cat)\n",
    "axs[0].set_yticks(np.arange(len(activations_cat_avg_sim_dict[layer])), labels=cat)\n",
    "axs[0].set_title(\"activations_cat_avg_sim\")\n",
    "\n",
    "im2 = axs[1].imshow(activations_car_avg_sim_dict[layer], cmap='viridis', interpolation='nearest', vmin=min_sim, vmax=max_sim) \n",
    "axs[1].set_xticks(np.arange(len(activations_car_avg_sim_dict[layer])), labels=car)\n",
    "axs[1].set_yticks(np.arange(len(activations_car_avg_sim_dict[layer])), labels=car)\n",
    "axs[1].set_title(\"activations_car_avg_sim\")\n",
    "for i in range(len(activations_car_avg_sim_dict[layer])):\n",
    "    for j in range(len(activations_car_avg_sim_dict[layer])):\n",
    "        text = axs[1].text(j, i, round(activations_car_avg_sim_dict[layer][i, j],2),\n",
    "                       ha=\"center\", va=\"center\") # , color=\"w\"\n",
    "        \n",
    "im2 = axs[2].imshow(activations_cat_car_avg_sim_dict[layer], cmap='viridis', interpolation='nearest', vmin=min_sim, vmax=max_sim) \n",
    "axs[2].set_xticks(np.arange(len(activations_car_avg_sim_dict[layer])), labels=car)\n",
    "axs[2].set_yticks(np.arange(len(activations_cat_avg_sim_dict[layer])), labels=cat)\n",
    "axs[2].set_title(\"activations_cat_car_avg_sim\")\n",
    "\n",
    "plt.subplots_adjust(right=0.8)\n",
    "cbar_ax = plt.axes([0.85, 0.1, 0.075, 0.8])\n",
    "plt.colorbar(mappable=(im1), cax=cbar_ax)\n",
    "# cbar_ax = fig.add_axes([0.85, 0.15, 0.05, 0.7])\n",
    "\n",
    "plt.show()"
   ]
  },
  {
   "cell_type": "markdown",
   "id": "319b04d0",
   "metadata": {},
   "source": [
    "## Other"
   ]
  },
  {
   "cell_type": "markdown",
   "id": "e5474ba3",
   "metadata": {},
   "source": [
    "Another model..."
   ]
  },
  {
   "cell_type": "code",
   "execution_count": null,
   "id": "fc85f83c",
   "metadata": {
    "ExecuteTime": {
     "end_time": "2023-02-07T12:57:40.212086Z",
     "start_time": "2023-02-07T12:57:40.212056Z"
    }
   },
   "outputs": [],
   "source": [
    "activations_cat = torch.empty(0,256,14,14)\n",
    "activations_car = torch.empty(0,256,14,14)\n",
    "directory_cat = f'{base_dir}/data/test-images/cat'\n",
    "directory_car = f'{base_dir}/data/test-images/car'\n",
    "\n",
    "for file in os.listdir(directory_cat): # os.listdir(directory)\n",
    "    activation = {}\n",
    "    input_image = Image.open(directory_cat+'/'+file).convert('RGB') # since 'RGBA'\n",
    "    input_tensor = preprocess(input_image)\n",
    "    input_batch = input_tensor.unsqueeze(0)\n",
    "\n",
    "    googlenet_torchvision.inception4e.branch1.conv.register_forward_hook(get_activation(layer))\n",
    "    output = googlenet_torchvision(input_batch)\n",
    "    activations_cat = torch.cat((activations_cat,activation[layer]))\n",
    "\n",
    "for file in os.listdir(directory_car):\n",
    "    activation = {}\n",
    "    input_image = Image.open(directory_car+'/'+file).convert('RGB') # since 'RGBA'\n",
    "    input_tensor = preprocess(input_image)\n",
    "    input_batch = input_tensor.unsqueeze(0)\n",
    "\n",
    "    googlenet_torchvision.inception4e.branch1.conv.register_forward_hook(get_activation(layer))\n",
    "    output = googlenet_torchvision(input_batch)\n",
    "    activations_car = torch.cat((activations_car,activation[layer]))"
   ]
  }
 ],
 "metadata": {
  "kernelspec": {
   "display_name": "Python 3 (ipykernel)",
   "language": "python",
   "name": "python3"
  },
  "language_info": {
   "codemirror_mode": {
    "name": "ipython",
    "version": 3
   },
   "file_extension": ".py",
   "mimetype": "text/x-python",
   "name": "python",
   "nbconvert_exporter": "python",
   "pygments_lexer": "ipython3",
   "version": "3.8.16"
  },
  "toc": {
   "base_numbering": 1,
   "nav_menu": {},
   "number_sections": true,
   "sideBar": true,
   "skip_h1_title": false,
   "title_cell": "Table of Contents",
   "title_sidebar": "Contents",
   "toc_cell": false,
   "toc_position": {
    "height": "calc(100% - 180px)",
    "left": "10px",
    "top": "150px",
    "width": "336px"
   },
   "toc_section_display": true,
   "toc_window_display": true
  },
  "varInspector": {
   "cols": {
    "lenName": 16,
    "lenType": 16,
    "lenVar": 40
   },
   "kernels_config": {
    "python": {
     "delete_cmd_postfix": "",
     "delete_cmd_prefix": "del ",
     "library": "var_list.py",
     "varRefreshCmd": "print(var_dic_list())"
    },
    "r": {
     "delete_cmd_postfix": ") ",
     "delete_cmd_prefix": "rm(",
     "library": "var_list.r",
     "varRefreshCmd": "cat(var_dic_list()) "
    }
   },
   "types_to_exclude": [
    "module",
    "function",
    "builtin_function_or_method",
    "instance",
    "_Feature"
   ],
   "window_display": false
  }
 },
 "nbformat": 4,
 "nbformat_minor": 5
}
