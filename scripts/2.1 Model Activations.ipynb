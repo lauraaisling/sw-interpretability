{
 "cells": [
  {
   "cell_type": "markdown",
   "id": "e470beed",
   "metadata": {},
   "source": [
    "## Set up"
   ]
  },
  {
   "cell_type": "code",
   "execution_count": 1,
   "id": "8dedb8a6",
   "metadata": {
    "ExecuteTime": {
     "end_time": "2023-02-10T22:48:44.028307Z",
     "start_time": "2023-02-10T22:48:44.010572Z"
    }
   },
   "outputs": [],
   "source": [
    "import os\n",
    "base_dir = os.path.normpath(os.getcwd() + os.sep + os.pardir) "
   ]
  },
  {
   "cell_type": "code",
   "execution_count": null,
   "id": "39e793ce",
   "metadata": {
    "ExecuteTime": {
     "end_time": "2023-02-10T22:48:44.857415Z",
     "start_time": "2023-02-10T22:48:44.857386Z"
    },
    "scrolled": true
   },
   "outputs": [],
   "source": [
    "# import requests # request img from web\n",
    "# import shutil # save img locally\n",
    "# from pathlib import Path\n",
    "from PIL import Image\n",
    "# import numpy as np\n",
    "# import math\n",
    "import matplotlib.pyplot as plt\n",
    "import torch\n",
    "import torchvision\n",
    "from torchvision import transforms\n",
    "\n",
    "import utilities"
   ]
  },
  {
   "cell_type": "code",
   "execution_count": null,
   "id": "f47b7725",
   "metadata": {
    "ExecuteTime": {
     "end_time": "2023-02-10T22:48:44.920062Z",
     "start_time": "2023-02-10T22:48:44.920032Z"
    }
   },
   "outputs": [],
   "source": [
    "import imp\n",
    "import extract_activations \n",
    "imp.reload(utilities)\n",
    "imp.reload(extract_activations) "
   ]
  },
  {
   "cell_type": "code",
   "execution_count": null,
   "id": "18e29b11",
   "metadata": {
    "ExecuteTime": {
     "end_time": "2023-02-10T22:48:44.962370Z",
     "start_time": "2023-02-10T22:48:44.962344Z"
    },
    "scrolled": true
   },
   "outputs": [],
   "source": [
    "import sys\n",
    "sys.path.append(f'{base_dir}/src/captum')\n",
    "from captum import optim as optimviz"
   ]
  },
  {
   "cell_type": "markdown",
   "id": "1764dad1",
   "metadata": {
    "ExecuteTime": {
     "end_time": "2023-02-06T22:23:12.781540Z",
     "start_time": "2023-02-06T22:23:12.776368Z"
    }
   },
   "source": [
    "## Analyse activations and similarity"
   ]
  },
  {
   "cell_type": "code",
   "execution_count": null,
   "id": "d5d73d22",
   "metadata": {
    "ExecuteTime": {
     "end_time": "2023-02-07T13:55:11.828292Z",
     "start_time": "2023-02-07T13:55:11.824290Z"
    }
   },
   "outputs": [],
   "source": [
    "activations_cat_dict = {}\n",
    "activations_car_dict = {}\n",
    "activations_cat_avg_dict = {}\n",
    "activations_car_avg_dict = {}\n",
    "\n",
    "activations_cat_avg_dot_dict = {}\n",
    "activations_car_avg_dot_dict = {}\n",
    "activations_cat_car_avg_dot_dict = {}\n",
    "\n",
    "activations_cat_avg_sim_dict = {}\n",
    "activations_car_avg_sim_dict = {}\n",
    "activations_cat_car_avg_sim_dict = {}"
   ]
  },
  {
   "cell_type": "markdown",
   "id": "80c6fb40",
   "metadata": {},
   "source": [
    "### Extract activations, calculate averages, dot products"
   ]
  },
  {
   "cell_type": "code",
   "execution_count": null,
   "id": "7f74159b",
   "metadata": {
    "ExecuteTime": {
     "end_time": "2023-02-07T13:55:22.417760Z",
     "start_time": "2023-02-07T13:55:22.414820Z"
    }
   },
   "outputs": [],
   "source": [
    "# Change layer name here and run\n",
    "layer = 'mixed4e.conv_1x1'"
   ]
  },
  {
   "cell_type": "code",
   "execution_count": null,
   "id": "d30c1f01",
   "metadata": {
    "ExecuteTime": {
     "end_time": "2023-02-07T13:55:26.156348Z",
     "start_time": "2023-02-07T13:55:26.151770Z"
    }
   },
   "outputs": [],
   "source": [
    "activations_cat_avg = activations_cat.mean(3).mean(2) \n",
    "activations_car_avg = activations_car.mean(3).mean(2) "
   ]
  },
  {
   "cell_type": "code",
   "execution_count": null,
   "id": "4a03d869",
   "metadata": {
    "ExecuteTime": {
     "end_time": "2023-02-07T13:55:26.595125Z",
     "start_time": "2023-02-07T13:55:26.591614Z"
    },
    "scrolled": true
   },
   "outputs": [],
   "source": [
    "# np.dot(activations_car_avg[0], activations_car_avg[0])/(np.linalg.norm(activations_car_avg[0])*np.linalg.norm(activations_car_avg[0])) "
   ]
  },
  {
   "cell_type": "code",
   "execution_count": null,
   "id": "15b3a965",
   "metadata": {
    "ExecuteTime": {
     "end_time": "2023-02-07T13:57:24.835456Z",
     "start_time": "2023-02-07T13:57:24.788848Z"
    },
    "scrolled": true
   },
   "outputs": [],
   "source": [
    "activations_cat_avg_dot = np.empty([len(activations_cat_avg),len(activations_cat_avg)])\n",
    "activations_cat_avg_sim = np.empty([len(activations_cat_avg),len(activations_cat_avg)])\n",
    "for i in range(len(activations_cat_avg)):\n",
    "    for j in range(len(activations_cat_avg)):\n",
    "        activations_cat_avg_dot[i,j] = np.dot(activations_cat_avg[i], activations_cat_avg[j])\n",
    "        activations_cat_avg_sim[i,j] = activations_cat_avg_dot[i,j]/(np.linalg.norm(activations_cat_avg[i])*np.linalg.norm(activations_cat_avg[j])) \n",
    "        \n",
    "activations_car_avg_dot = np.empty([len(activations_car_avg),len(activations_car_avg)])\n",
    "activations_car_avg_sim = np.empty([len(activations_car_avg),len(activations_car_avg)])\n",
    "for i in range(len(activations_car_avg)):\n",
    "    for j in range(len(activations_car_avg)):\n",
    "        activations_car_avg_dot[i,j] = np.dot(activations_car_avg[i], activations_car_avg[j])\n",
    "        activations_car_avg_sim[i,j] = activations_car_avg_dot[i,j]/(np.linalg.norm(activations_car_avg[i])*np.linalg.norm(activations_car_avg[j])) \n",
    "        \n",
    "activations_cat_car_avg_dot = np.empty([len(activations_cat_avg),len(activations_car_avg)])\n",
    "activations_cat_car_avg_sim = np.empty([len(activations_cat_avg),len(activations_car_avg)])\n",
    "for i in range(len(activations_cat_avg)):\n",
    "    for j in range(len(activations_car_avg)):\n",
    "        activations_cat_car_avg_dot[i,j] = np.dot(activations_cat_avg[i], activations_car_avg[j])\n",
    "        activations_cat_car_avg_sim[i,j] = activations_cat_car_avg_dot[i,j]/(np.linalg.norm(activations_cat_avg[i])*np.linalg.norm(activations_car_avg[j])) \n"
   ]
  },
  {
   "cell_type": "markdown",
   "id": "3175d23b",
   "metadata": {},
   "source": [
    "### Save"
   ]
  },
  {
   "cell_type": "code",
   "execution_count": null,
   "id": "5050569a",
   "metadata": {
    "ExecuteTime": {
     "end_time": "2023-02-07T13:57:52.250819Z",
     "start_time": "2023-02-07T13:57:52.246750Z"
    }
   },
   "outputs": [],
   "source": [
    "activations_cat_dict[layer] = activations_cat\n",
    "activations_car_dict[layer] = activations_car\n",
    "activations_cat_avg_dict[layer] = activations_cat_avg\n",
    "activations_car_avg_dict[layer] = activations_car_avg\n",
    "\n",
    "activations_cat_avg_dot_dict[layer] = activations_cat_avg_dot\n",
    "activations_car_avg_dot_dict[layer] = activations_car_avg_dot\n",
    "activations_cat_car_avg_dot_dict[layer] = activations_cat_car_avg_dot\n",
    "\n",
    "activations_cat_avg_sim_dict[layer] = activations_cat_avg_sim\n",
    "activations_car_avg_sim_dict[layer] = activations_car_avg_sim\n",
    "activations_cat_car_avg_sim_dict[layer] = activations_cat_car_avg_sim"
   ]
  },
  {
   "cell_type": "markdown",
   "id": "cd9bef1d",
   "metadata": {},
   "source": [
    "### Analyse activations from some layer"
   ]
  },
  {
   "cell_type": "code",
   "execution_count": null,
   "id": "af394d9f",
   "metadata": {
    "ExecuteTime": {
     "end_time": "2023-02-07T13:58:02.899306Z",
     "start_time": "2023-02-07T13:58:02.895715Z"
    }
   },
   "outputs": [],
   "source": [
    "layer = 'mixed4e.conv_1x1'"
   ]
  },
  {
   "cell_type": "code",
   "execution_count": null,
   "id": "24672adf",
   "metadata": {
    "ExecuteTime": {
     "end_time": "2023-02-07T13:58:03.390032Z",
     "start_time": "2023-02-07T13:58:03.374263Z"
    },
    "scrolled": true
   },
   "outputs": [],
   "source": [
    "print(activations_car_dict[layer][0].mean(2).mean(1)[55])\n",
    "print(activations_car_dict[layer][1].mean(2).mean(1)[55])\n",
    "print(activations_car_dict[layer][-1].mean(2).mean(1)[55])\n",
    "activation[layer][0].mean(2).mean(1)"
   ]
  },
  {
   "cell_type": "markdown",
   "id": "19fc5cdf",
   "metadata": {},
   "source": [
    "Outputs 256 14x14 feature maps. \n",
    "How to visualise/analyse this shape? \n",
    "Create loop and average?? Look at unit 55. "
   ]
  },
  {
   "cell_type": "code",
   "execution_count": null,
   "id": "6cbded3f",
   "metadata": {
    "ExecuteTime": {
     "end_time": "2023-02-07T13:58:05.048126Z",
     "start_time": "2023-02-07T13:58:05.045644Z"
    }
   },
   "outputs": [],
   "source": [
    "# car hood: imagenet 81, flickr 61, 76, 81, 98"
   ]
  },
  {
   "cell_type": "code",
   "execution_count": null,
   "id": "23fb65dc",
   "metadata": {
    "ExecuteTime": {
     "end_time": "2023-02-07T13:58:05.666838Z",
     "start_time": "2023-02-07T13:58:05.663827Z"
    }
   },
   "outputs": [],
   "source": [
    "# activations_cat_dict['mixed4e.conv_1x1'].shape # torch.Size([17, 256, 14, 14])\n",
    "# activations_car_dict['mixed4e.conv_1x1'].shape # torch.Size([5, 256, 14, 14])"
   ]
  },
  {
   "cell_type": "code",
   "execution_count": null,
   "id": "5a5d7021",
   "metadata": {
    "ExecuteTime": {
     "end_time": "2023-02-07T13:58:06.049225Z",
     "start_time": "2023-02-07T13:58:06.045901Z"
    }
   },
   "outputs": [],
   "source": [
    "# len(activations_cat_dict['mixed4e.conv_1x1']) # 17\n",
    "# len(activations_car_dict['mixed4e.conv_1x1']) # 5\n",
    "# activations_cat_avg_dict['mixed4e.conv_1x1'].shape # torch.Size([17, 256])\n",
    "# activations_car_avg_dict['mixed4e.conv_1x1'].shape # torch.Size([5, 256])"
   ]
  },
  {
   "cell_type": "code",
   "execution_count": null,
   "id": "4162dbb3",
   "metadata": {
    "ExecuteTime": {
     "end_time": "2023-02-07T13:58:06.422320Z",
     "start_time": "2023-02-07T13:58:06.414916Z"
    },
    "scrolled": true
   },
   "outputs": [],
   "source": [
    "activations_cat_avg_dict[layer][0]"
   ]
  },
  {
   "cell_type": "code",
   "execution_count": null,
   "id": "1aa7ea12",
   "metadata": {
    "ExecuteTime": {
     "end_time": "2023-02-07T13:58:07.200635Z",
     "start_time": "2023-02-07T13:58:07.191705Z"
    },
    "scrolled": false
   },
   "outputs": [],
   "source": [
    "print(activations_cat_dict[layer][0].mean(2).mean(1)[55])\n",
    "print(activations_cat_dict[layer][1].mean(2).mean(1)[55])\n",
    "print(activations_cat_dict[layer][-1].mean(2).mean(1)[55])"
   ]
  },
  {
   "cell_type": "code",
   "execution_count": null,
   "id": "abaea738",
   "metadata": {
    "ExecuteTime": {
     "end_time": "2023-02-07T13:58:07.992938Z",
     "start_time": "2023-02-07T13:58:07.982305Z"
    },
    "scrolled": true
   },
   "outputs": [],
   "source": [
    "activations_car_avg_dict[layer][2]"
   ]
  },
  {
   "cell_type": "code",
   "execution_count": null,
   "id": "2a9997c0",
   "metadata": {
    "ExecuteTime": {
     "end_time": "2023-02-07T13:58:08.852210Z",
     "start_time": "2023-02-07T13:58:08.655691Z"
    },
    "scrolled": true
   },
   "outputs": [],
   "source": [
    "plt.plot(activations_cat_avg_dict[layer][0]) # 42 peak"
   ]
  },
  {
   "cell_type": "code",
   "execution_count": null,
   "id": "5a3f83f5",
   "metadata": {
    "ExecuteTime": {
     "end_time": "2023-02-07T13:58:09.850562Z",
     "start_time": "2023-02-07T13:58:09.655731Z"
    },
    "scrolled": true
   },
   "outputs": [],
   "source": [
    "plt.plot(activations_car_avg_dict[layer][0]) # 42 peak"
   ]
  },
  {
   "cell_type": "markdown",
   "id": "291d95bf",
   "metadata": {},
   "source": [
    "### Cosine similarities"
   ]
  },
  {
   "cell_type": "code",
   "execution_count": null,
   "id": "e52f001d",
   "metadata": {
    "ExecuteTime": {
     "end_time": "2023-02-07T14:04:23.495381Z",
     "start_time": "2023-02-07T14:04:22.832432Z"
    },
    "scrolled": false
   },
   "outputs": [],
   "source": [
    "cat = [f\"cat{i}\" for i in range(len(activations_cat_avg_dot_dict[layer]))]\n",
    "car = [f\"car{i}\" for i in range(len(activations_car_avg_dot_dict[layer]))]\n",
    "\n",
    "min_dot = min(np.amin(activations_cat_avg_dot_dict[layer]), np.amin(activations_car_avg_dot_dict[layer]), np.amin(activations_cat_car_avg_dot_dict[layer])) \n",
    "max_dot = max(np.amax(activations_cat_avg_dot_dict[layer]), np.amax(activations_car_avg_dot_dict[layer]), np.amax(activations_cat_car_avg_dot_dict[layer])) \n",
    "\n",
    "fig, axs = plt.subplots(3,1,figsize=(6, 12))\n",
    "\n",
    "im1 = axs[0].imshow(activations_cat_avg_dot_dict[layer], cmap='viridis', interpolation='nearest', vmin=min_dot, vmax=max_dot)\n",
    "axs[0].set_xticks(np.arange(len(activations_cat_avg_dot_dict[layer])), labels=cat)\n",
    "axs[0].set_yticks(np.arange(len(activations_cat_avg_dot_dict[layer])), labels=cat)\n",
    "axs[0].set_title(\"activations_cat_avg_dot\")\n",
    "\n",
    "im2 = axs[1].imshow(activations_car_avg_dot_dict[layer], cmap='viridis', interpolation='nearest', vmin=min_dot, vmax=max_dot)\n",
    "axs[1].set_xticks(np.arange(len(activations_car_avg_dot_dict[layer])), labels=car)\n",
    "axs[1].set_yticks(np.arange(len(activations_car_avg_dot_dict[layer])), labels=car)\n",
    "axs[1].set_title(\"activations_car_avg_dot\")\n",
    "for i in range(len(activations_car_avg_dot_dict[layer])):\n",
    "    for j in range(len(activations_car_avg_dot_dict[layer])):\n",
    "        text = axs[1].text(j, i, activations_car_avg_dot_dict[layer][i, j]//1000,\n",
    "                       ha=\"center\", va=\"center\", color=\"w\")\n",
    "        \n",
    "im2 = axs[2].imshow(activations_cat_car_avg_dot_dict[layer], cmap='viridis', interpolation='nearest', vmin=min_dot, vmax=max_dot)\n",
    "axs[2].set_xticks(np.arange(len(activations_car_avg_dot_dict[layer])), labels=car)\n",
    "axs[2].set_yticks(np.arange(len(activations_cat_avg_dot_dict[layer])), labels=cat)\n",
    "axs[2].set_title(\"activations_cat_car_avg_dot\")\n",
    "\n",
    "plt.subplots_adjust(right=0.8)\n",
    "cbar_ax = plt.axes([0.85, 0.1, 0.075, 0.8])\n",
    "plt.colorbar(mappable=(im1), cax=cbar_ax)\n",
    "# cbar_ax = fig.add_axes([0.85, 0.15, 0.05, 0.7])\n",
    "\n",
    "plt.show()"
   ]
  },
  {
   "cell_type": "code",
   "execution_count": null,
   "id": "eaa3786c",
   "metadata": {
    "ExecuteTime": {
     "end_time": "2023-02-07T14:09:07.176228Z",
     "start_time": "2023-02-07T14:09:06.471221Z"
    },
    "scrolled": true
   },
   "outputs": [],
   "source": [
    "cat = [f\"cat{i}\" for i in range(len(activations_cat_avg_sim_dict[layer]))]\n",
    "car = [f\"car{i}\" for i in range(len(activations_car_avg_sim_dict[layer]))]\n",
    "\n",
    "min_sim = 0\n",
    "max_sim = 1\n",
    "\n",
    "fig, axs = plt.subplots(3,1,figsize=(6, 12))\n",
    "\n",
    "im1 = axs[0].imshow(activations_cat_avg_sim_dict[layer], cmap='viridis', interpolation='nearest', vmin=min_sim, vmax=max_sim) \n",
    "axs[0].set_xticks(np.arange(len(activations_cat_avg_sim_dict[layer])), labels=cat)\n",
    "axs[0].set_yticks(np.arange(len(activations_cat_avg_sim_dict[layer])), labels=cat)\n",
    "axs[0].set_title(\"activations_cat_avg_sim\")\n",
    "\n",
    "im2 = axs[1].imshow(activations_car_avg_sim_dict[layer], cmap='viridis', interpolation='nearest', vmin=min_sim, vmax=max_sim) \n",
    "axs[1].set_xticks(np.arange(len(activations_car_avg_sim_dict[layer])), labels=car)\n",
    "axs[1].set_yticks(np.arange(len(activations_car_avg_sim_dict[layer])), labels=car)\n",
    "axs[1].set_title(\"activations_car_avg_sim\")\n",
    "for i in range(len(activations_car_avg_sim_dict[layer])):\n",
    "    for j in range(len(activations_car_avg_sim_dict[layer])):\n",
    "        text = axs[1].text(j, i, round(activations_car_avg_sim_dict[layer][i, j],2),\n",
    "                       ha=\"center\", va=\"center\") # , color=\"w\"\n",
    "        \n",
    "im2 = axs[2].imshow(activations_cat_car_avg_sim_dict[layer], cmap='viridis', interpolation='nearest', vmin=min_sim, vmax=max_sim) \n",
    "axs[2].set_xticks(np.arange(len(activations_car_avg_sim_dict[layer])), labels=car)\n",
    "axs[2].set_yticks(np.arange(len(activations_cat_avg_sim_dict[layer])), labels=cat)\n",
    "axs[2].set_title(\"activations_cat_car_avg_sim\")\n",
    "\n",
    "plt.subplots_adjust(right=0.8)\n",
    "cbar_ax = plt.axes([0.85, 0.1, 0.075, 0.8])\n",
    "plt.colorbar(mappable=(im1), cax=cbar_ax)\n",
    "# cbar_ax = fig.add_axes([0.85, 0.15, 0.05, 0.7])\n",
    "\n",
    "plt.show()"
   ]
  },
  {
   "cell_type": "code",
   "execution_count": null,
   "id": "730f1d6a",
   "metadata": {},
   "outputs": [],
   "source": []
  },
  {
   "cell_type": "code",
   "execution_count": null,
   "id": "1e1b8ee8",
   "metadata": {},
   "outputs": [],
   "source": []
  },
  {
   "cell_type": "code",
   "execution_count": null,
   "id": "4d35c66a",
   "metadata": {},
   "outputs": [],
   "source": []
  },
  {
   "cell_type": "code",
   "execution_count": null,
   "id": "e715d8e0",
   "metadata": {},
   "outputs": [],
   "source": []
  },
  {
   "cell_type": "code",
   "execution_count": null,
   "id": "88ce729c",
   "metadata": {},
   "outputs": [],
   "source": []
  },
  {
   "cell_type": "markdown",
   "id": "273a0ef7",
   "metadata": {},
   "source": [
    "## Other"
   ]
  },
  {
   "cell_type": "markdown",
   "id": "e5474ba3",
   "metadata": {},
   "source": [
    "Another model..."
   ]
  },
  {
   "cell_type": "code",
   "execution_count": null,
   "id": "fc85f83c",
   "metadata": {
    "ExecuteTime": {
     "end_time": "2023-02-07T12:57:40.212086Z",
     "start_time": "2023-02-07T12:57:40.212056Z"
    }
   },
   "outputs": [],
   "source": [
    "activations_cat = torch.empty(0,256,14,14)\n",
    "activations_car = torch.empty(0,256,14,14)\n",
    "directory_cat = f'{base_dir}/data/test-images/cat'\n",
    "directory_car = f'{base_dir}/data/test-images/car'\n",
    "\n",
    "for file in os.listdir(directory_cat): # os.listdir(directory)\n",
    "    activation = {}\n",
    "    input_image = Image.open(directory_cat+'/'+file).convert('RGB') # since 'RGBA'\n",
    "    input_tensor = preprocess(input_image)\n",
    "    input_batch = input_tensor.unsqueeze(0)\n",
    "\n",
    "    googlenet_torchvision.inception4e.branch1.conv.register_forward_hook(get_activation(layer, googlenet_torchvision))\n",
    "    output = googlenet_torchvision(input_batch)\n",
    "    activations_cat = torch.cat((activations_cat,activation[layer]))\n",
    "\n",
    "for file in os.listdir(directory_car):\n",
    "    activation = {}\n",
    "    input_image = Image.open(directory_car+'/'+file).convert('RGB') # since 'RGBA'\n",
    "    input_tensor = preprocess(input_image)\n",
    "    input_batch = input_tensor.unsqueeze(0)\n",
    "\n",
    "    googlenet_torchvision.inception4e.branch1.conv.register_forward_hook(get_activation(layer, googlenet_torchvision))\n",
    "    output = googlenet_torchvision(input_batch)\n",
    "    activations_car = torch.cat((activations_car,activation[layer]))"
   ]
  }
 ],
 "metadata": {
  "kernelspec": {
   "display_name": "Python 3 (ipykernel)",
   "language": "python",
   "name": "python3"
  },
  "language_info": {
   "codemirror_mode": {
    "name": "ipython",
    "version": 3
   },
   "file_extension": ".py",
   "mimetype": "text/x-python",
   "name": "python",
   "nbconvert_exporter": "python",
   "pygments_lexer": "ipython3",
   "version": "3.8.16"
  },
  "toc": {
   "base_numbering": 1,
   "nav_menu": {},
   "number_sections": true,
   "sideBar": true,
   "skip_h1_title": false,
   "title_cell": "Table of Contents",
   "title_sidebar": "Contents",
   "toc_cell": false,
   "toc_position": {
    "height": "calc(100% - 180px)",
    "left": "10px",
    "top": "150px",
    "width": "336px"
   },
   "toc_section_display": true,
   "toc_window_display": false
  },
  "varInspector": {
   "cols": {
    "lenName": 16,
    "lenType": 16,
    "lenVar": 40
   },
   "kernels_config": {
    "python": {
     "delete_cmd_postfix": "",
     "delete_cmd_prefix": "del ",
     "library": "var_list.py",
     "varRefreshCmd": "print(var_dic_list())"
    },
    "r": {
     "delete_cmd_postfix": ") ",
     "delete_cmd_prefix": "rm(",
     "library": "var_list.r",
     "varRefreshCmd": "cat(var_dic_list()) "
    }
   },
   "types_to_exclude": [
    "module",
    "function",
    "builtin_function_or_method",
    "instance",
    "_Feature"
   ],
   "window_display": false
  }
 },
 "nbformat": 4,
 "nbformat_minor": 5
}
