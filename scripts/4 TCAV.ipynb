{
 "cells": [
  {
   "cell_type": "markdown",
   "id": "cef2d7dd",
   "metadata": {},
   "source": [
    "## Set up"
   ]
  },
  {
   "cell_type": "code",
   "execution_count": null,
   "id": "75d39989",
   "metadata": {},
   "outputs": [],
   "source": [
    "import os\n",
    "base_dir = os.path.normpath(os.getcwd() + os.sep + os.pardir) "
   ]
  },
  {
   "cell_type": "code",
   "execution_count": null,
   "id": "1fd579ed",
   "metadata": {},
   "outputs": [],
   "source": [
    "import PIL.Image as Image\n",
    "import os\n",
    "import matplotlib.pyplot as plt\n",
    "import numpy as np\n",
    "import glob\n",
    "import torch\n",
    "import torchvision\n",
    "from torchvision import transforms\n",
    "\n",
    "from captum.concept import TCAV\n",
    "from captum.concept import Concept\n",
    "from captum.concept._utils.data_iterator import dataset_to_dataloader, CustomIterableDataset\n",
    "from captum.concept._utils.common import concepts_to_str\n",
    "from captum.attr import LayerGradientXActivation, LayerIntegratedGradients"
   ]
  },
  {
   "cell_type": "code",
   "execution_count": null,
   "id": "3cfb1a93",
   "metadata": {},
   "outputs": [],
   "source": [
    "concepts_path = f\"{base_dir}/data/test-images/\""
   ]
  },
  {
   "cell_type": "markdown",
   "id": "6940d451",
   "metadata": {},
   "source": [
    "## Utilities"
   ]
  },
  {
   "cell_type": "code",
   "execution_count": null,
   "id": "dd10469d",
   "metadata": {},
   "outputs": [],
   "source": [
    "transform = transforms.Compose([\n",
    " transforms.Resize(256),\n",
    " transforms.CenterCrop(224),\n",
    " transforms.ToTensor()\n",
    "])"
   ]
  },
  {
   "cell_type": "code",
   "execution_count": null,
   "id": "58e5101e",
   "metadata": {},
   "outputs": [],
   "source": [
    "transform_normalize = transforms.Normalize(\n",
    "     mean=[0.485, 0.456, 0.406],\n",
    "     std=[0.229, 0.224, 0.225]\n",
    " )"
   ]
  },
  {
   "cell_type": "code",
   "execution_count": null,
   "id": "c500b2c8",
   "metadata": {},
   "outputs": [],
   "source": [
    "# image for assemble_concept()\n",
    "def get_tensor_from_filename(filename):\n",
    "    img = Image.open(filename).convert(\"RGB\")\n",
    "    return transform(img)"
   ]
  },
  {
   "cell_type": "code",
   "execution_count": null,
   "id": "fa1024ac",
   "metadata": {},
   "outputs": [],
   "source": [
    "# \n",
    "def assemble_concept(name, id, concepts_path=f\"{base_dir}/Files/data/\"):\n",
    "    concept_path = os.path.join(concepts_path, name) + \"/\"\n",
    "    dataset = CustomIterableDataset(get_tensor_from_filename, concept_path)\n",
    "    concept_iter = dataset_to_dataloader(dataset)\n",
    "\n",
    "    return Concept(id=id, name=name, data_iter=concept_iter)"
   ]
  },
  {
   "cell_type": "code",
   "execution_count": null,
   "id": "e17a13d2",
   "metadata": {},
   "outputs": [],
   "source": [
    "# Load sample images from folder\n",
    "def load_image_tensors(class_name, root_path, transform=True):\n",
    "    path = os.path.join(root_path, class_name)\n",
    "    filenames = glob.glob(path + '/*.jpg')\n",
    "\n",
    "    tensors = []\n",
    "    for filename in filenames:\n",
    "        img = Image.open(filename).convert('RGB')\n",
    "        tensors.append(transform(img) if transform else img)\n",
    "    \n",
    "    return tensors"
   ]
  },
  {
   "cell_type": "markdown",
   "id": "3e0982ad",
   "metadata": {},
   "source": [
    "## Define concepts, read images"
   ]
  },
  {
   "cell_type": "code",
   "execution_count": null,
   "id": "8a778d58",
   "metadata": {},
   "outputs": [],
   "source": [
    "cat_concept = assemble_concept(\"cat\", 0, concepts_path=concepts_path)\n",
    "car_concept = assemble_concept(\"car\", 1, concepts_path=concepts_path)\n",
    "\n",
    "random_0_concept = assemble_concept(\"random500_0\", 2, concepts_path=concepts_path)\n",
    "random_1_concept = assemble_concept(\"random500_1\", 3, concepts_path=concepts_path)"
   ]
  },
  {
   "cell_type": "code",
   "execution_count": null,
   "id": "8ec2f508",
   "metadata": {},
   "outputs": [],
   "source": [
    "n_figs = 5\n",
    "n_concepts = 4\n",
    "\n",
    "fig, axs = plt.subplots(n_concepts, n_figs + 1, figsize = (25, 4 * n_concepts))\n",
    "\n",
    "for c, concept in enumerate([cat_concept, car_concept, random_0_concept, random_1_concept]):\n",
    "    concept_path = os.path.join(concepts_path, concept.name) + \"/\"\n",
    "    img_files = glob.glob(concept_path + '*')\n",
    "    for i, img_file in enumerate(img_files[:n_figs]):\n",
    "        if os.path.isfile(img_file):\n",
    "            #if i == 0:\n",
    "            axs[c, 0].text(1.0, 0.5, str(concept.name), ha='right', va='center', family='sans-serif', size=24)\n",
    "            #else:\n",
    "            img = plt.imread(img_file)\n",
    "            axs[c, i+1].imshow(img)\n",
    "\n",
    "            axs[c, i+1].axis('off')"
   ]
  },
  {
   "cell_type": "code",
   "execution_count": null,
   "id": "f34b4e36",
   "metadata": {},
   "outputs": [],
   "source": [
    "zebra_imgs = load_image_tensors('zebra', transform=False, root_path=f\"{base_dir}/Files/data/\")"
   ]
  },
  {
   "cell_type": "code",
   "execution_count": null,
   "id": "7e89b596",
   "metadata": {},
   "outputs": [],
   "source": [
    "fig, axs = plt.subplots(1, 5, figsize = (25, 5))\n",
    "axs[0].imshow(zebra_imgs[0])\n",
    "axs[1].imshow(zebra_imgs[1])\n",
    "axs[2].imshow(zebra_imgs[2])\n",
    "axs[3].imshow(zebra_imgs[3])\n",
    "axs[4].imshow(zebra_imgs[4])\n",
    "\n",
    "axs[0].axis('off')\n",
    "axs[1].axis('off')\n",
    "axs[2].axis('off')\n",
    "axs[3].axis('off')\n",
    "axs[4].axis('off')\n",
    "\n",
    "plt.show()"
   ]
  },
  {
   "cell_type": "code",
   "execution_count": null,
   "id": "b3e1f0c5",
   "metadata": {},
   "outputs": [],
   "source": [
    "# Load sample images from folder\n",
    "zebra_tensors = torch.stack([transform_normalize(transform(img)) for img in zebra_imgs])"
   ]
  },
  {
   "cell_type": "code",
   "execution_count": null,
   "id": "d88af1c0",
   "metadata": {},
   "outputs": [],
   "source": [
    "# zebra class index\n",
    "zebra_ind = 340"
   ]
  },
  {
   "cell_type": "markdown",
   "id": "9bcc9b66",
   "metadata": {},
   "source": [
    "## TCAV"
   ]
  },
  {
   "cell_type": "code",
   "execution_count": null,
   "id": "17862dfd",
   "metadata": {},
   "outputs": [],
   "source": [
    "model = torchvision.models.googlenet(pretrained=True)\n",
    "model = model.eval()"
   ]
  },
  {
   "cell_type": "code",
   "execution_count": null,
   "id": "f157a6db",
   "metadata": {},
   "outputs": [],
   "source": [
    "layers=['inception4c', 'inception4d', 'inception4e']"
   ]
  },
  {
   "cell_type": "code",
   "execution_count": null,
   "id": "2d2fe7f9",
   "metadata": {},
   "outputs": [],
   "source": [
    "mytcav = TCAV(model=model,\n",
    "              layers=layers,\n",
    "              layer_attr_method = LayerIntegratedGradients(\n",
    "                model, None, multiply_by_inputs=False),\n",
    "              save_path=f\"{base_dir}/Files/cav/\")"
   ]
  },
  {
   "cell_type": "code",
   "execution_count": null,
   "id": "1dd3f28e",
   "metadata": {},
   "outputs": [],
   "source": [
    "experimental_set_rand = [[cat_concept, random_0_concept], [car_concept, random_1_concept], [cat_concept, car_concept]]\n",
    "experimental_set_rand"
   ]
  },
  {
   "cell_type": "code",
   "execution_count": null,
   "id": "046a6c73",
   "metadata": {},
   "outputs": [],
   "source": [
    "mytcav"
   ]
  },
  {
   "cell_type": "code",
   "execution_count": null,
   "id": "791a70ca",
   "metadata": {},
   "outputs": [],
   "source": [
    "tcav_scores_w_random = mytcav.interpret(inputs=zebra_tensors,\n",
    "                                        experimental_sets=experimental_set_rand,\n",
    "                                        target=zebra_ind,\n",
    "                                        n_steps=5,\n",
    "                                       )\n",
    "tcav_scores_w_random"
   ]
  },
  {
   "cell_type": "markdown",
   "id": "eef7a433",
   "metadata": {},
   "source": [
    "## Plots"
   ]
  },
  {
   "cell_type": "code",
   "execution_count": null,
   "id": "a1374585",
   "metadata": {},
   "outputs": [],
   "source": [
    "def format_float(f):\n",
    "    return float('{:.3f}'.format(f) if abs(f) >= 0.0005 else '{:.3e}'.format(f))\n",
    "\n",
    "def plot_tcav_scores(experimental_sets, tcav_scores):\n",
    "    fig, ax = plt.subplots(1, len(experimental_sets), figsize = (40, 7))\n",
    "\n",
    "    barWidth = 1 / (len(experimental_sets[0]) + 1)\n",
    "\n",
    "    for idx_es, concepts in enumerate(experimental_sets):\n",
    "\n",
    "        concepts = experimental_sets[idx_es]\n",
    "        concepts_key = concepts_to_str(concepts)\n",
    "\n",
    "        pos = [np.arange(len(layers))]\n",
    "        for i in range(1, len(concepts)):\n",
    "            pos.append([(x + barWidth) for x in pos[i-1]])\n",
    "        _ax = (ax[idx_es] if len(experimental_sets) > 1 else ax)\n",
    "        for i in range(len(concepts)):\n",
    "            val = [format_float(scores['sign_count'][i]) for layer, scores in tcav_scores[concepts_key].items()]\n",
    "            _ax.bar(pos[i], val, width=barWidth, edgecolor='white', label=concepts[i].name)\n",
    "\n",
    "        # Add xticks on the middle of the group bars\n",
    "        _ax.set_xlabel('Set {}'.format(str(idx_es)), fontweight='bold', fontsize=16)\n",
    "        _ax.set_xticks([r + 0.3 * barWidth for r in range(len(layers))])\n",
    "        _ax.set_xticklabels(layers, fontsize=16)\n",
    "\n",
    "        # Create legend & Show graphic\n",
    "        _ax.legend(fontsize=16)\n",
    "\n",
    "    plt.show()"
   ]
  },
  {
   "cell_type": "code",
   "execution_count": null,
   "id": "ea558fbc",
   "metadata": {},
   "outputs": [],
   "source": [
    "plot_tcav_scores(experimental_set_rand, tcav_scores_w_random)"
   ]
  },
  {
   "cell_type": "markdown",
   "id": "90dba9ae",
   "metadata": {},
   "source": [
    "## Activations"
   ]
  },
  {
   "cell_type": "code",
   "execution_count": null,
   "id": "82bc035f",
   "metadata": {},
   "outputs": [],
   "source": [
    "activation = f'{base_dir}/Files/cav/av/default_model_id/car-1/inception4e/0.pt' \n",
    "activation = torch.load(activations)\n",
    "activation\n",
    "# activations[0].shape \n",
    "# 4c torch.Size([100352]) 1*(128+256+64+64)*14*14 \n",
    "# 4e torch.Size([163072]) 1*(256+320+128+128)*14*14 "
   ]
  },
  {
   "cell_type": "code",
   "execution_count": null,
   "id": "e83d8927",
   "metadata": {},
   "outputs": [],
   "source": [
    "activations[0].shape"
   ]
  },
  {
   "cell_type": "code",
   "execution_count": null,
   "id": "63bc45f7",
   "metadata": {},
   "outputs": [],
   "source": [
    "cav_0_1 = f'{base_dir}/Files/cav/default_model_id/0-1-inception4e.pkl' \n",
    "cav_0_1 = torch.load(cav_0_1)\n",
    "\n",
    "cav_0_2 = f'{base_dir}/Files/cav/default_model_id/0-2-inception4e.pkl' \n",
    "cav_0_2 = torch.load(cav_0_2)\n",
    "\n",
    "cav_1_3 = f'{base_dir}/Files/cav/default_model_id/1-3-inception4e.pkl' \n",
    "cav_1_3 = torch.load(cav_1_3)"
   ]
  },
  {
   "cell_type": "code",
   "execution_count": null,
   "id": "b0955fd0",
   "metadata": {},
   "outputs": [],
   "source": [
    "cav_0_1"
   ]
  },
  {
   "cell_type": "code",
   "execution_count": null,
   "id": "b2882856",
   "metadata": {},
   "outputs": [],
   "source": [
    "cav_0_2"
   ]
  },
  {
   "cell_type": "code",
   "execution_count": null,
   "id": "6c7e4823",
   "metadata": {},
   "outputs": [],
   "source": [
    "cav_1_3"
   ]
  }
 ],
 "metadata": {
  "kernelspec": {
   "display_name": "Python 3 (ipykernel)",
   "language": "python",
   "name": "python3"
  },
  "language_info": {
   "codemirror_mode": {
    "name": "ipython",
    "version": 3
   },
   "file_extension": ".py",
   "mimetype": "text/x-python",
   "name": "python",
   "nbconvert_exporter": "python",
   "pygments_lexer": "ipython3",
   "version": "3.8.16"
  },
  "toc": {
   "base_numbering": 1,
   "nav_menu": {},
   "number_sections": true,
   "sideBar": true,
   "skip_h1_title": false,
   "title_cell": "Table of Contents",
   "title_sidebar": "Contents",
   "toc_cell": false,
   "toc_position": {},
   "toc_section_display": true,
   "toc_window_display": false
  },
  "varInspector": {
   "cols": {
    "lenName": 16,
    "lenType": 16,
    "lenVar": 40
   },
   "kernels_config": {
    "python": {
     "delete_cmd_postfix": "",
     "delete_cmd_prefix": "del ",
     "library": "var_list.py",
     "varRefreshCmd": "print(var_dic_list())"
    },
    "r": {
     "delete_cmd_postfix": ") ",
     "delete_cmd_prefix": "rm(",
     "library": "var_list.r",
     "varRefreshCmd": "cat(var_dic_list()) "
    }
   },
   "types_to_exclude": [
    "module",
    "function",
    "builtin_function_or_method",
    "instance",
    "_Feature"
   ],
   "window_display": false
  }
 },
 "nbformat": 4,
 "nbformat_minor": 5
}
