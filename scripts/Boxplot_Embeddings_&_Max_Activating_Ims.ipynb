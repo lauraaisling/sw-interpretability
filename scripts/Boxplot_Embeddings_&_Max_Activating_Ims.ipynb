{
 "cells": [
  {
   "cell_type": "markdown",
   "id": "f481c062",
   "metadata": {},
   "source": [
    "## Set up"
   ]
  },
  {
   "cell_type": "code",
   "execution_count": null,
   "id": "e7d1bf5e",
   "metadata": {},
   "outputs": [],
   "source": [
    "import sys\n",
    "sys.path.append('./scripts/')\n",
    "import os\n",
    "\n",
    "import matplotlib.pyplot as plt\n",
    "import seaborn as sns\n",
    "import math\n",
    "import copy\n",
    "import numpy as np\n",
    "sns.set_style(\"darkgrid\")\n",
    "from PIL import Image\n",
    "from sklearn.preprocessing import StandardScaler\n",
    "from sklearn.preprocessing import MinMaxScaler\n",
    "\n",
    "import imp\n",
    "import my_datasets\n",
    "import utilities \n",
    "imp.reload(my_datasets) \n",
    "imp.reload(utilities) "
   ]
  },
  {
   "cell_type": "code",
   "execution_count": null,
   "id": "9a392d92",
   "metadata": {},
   "outputs": [],
   "source": [
    "dataset='ilsvrc12'\n",
    "paths, count, y, idx_to_labels =  my_datasets.get_dataset(dataset)\n",
    "\n",
    "print(count, len(paths))"
   ]
  },
  {
   "cell_type": "code",
   "execution_count": null,
   "id": "448fb786",
   "metadata": {},
   "outputs": [],
   "source": [
    "layer='Mixed_7b.cat_2'\n",
    "SAVEFOLD0=f'../outputs/{dataset}'\n",
    "\n",
    "SAVEFOLD=f\"{SAVEFOLD0}/{layer}/\""
   ]
  },
  {
   "cell_type": "code",
   "execution_count": null,
   "id": "533dcaa0",
   "metadata": {},
   "outputs": [],
   "source": [
    "gradients_wrt_conv_layer=np.load(f\"{SAVEFOLD}/gradients_wrt_conv_layer.npy\")\n",
    "predictions=np.load(f\"{SAVEFOLD}/predictions.npy\")\n",
    "conv_maps=np.load(f\"{SAVEFOLD}/conv_maps.npy\")\n",
    "\n",
    "pvh=np.load(f\"{SAVEFOLD}/eigenvectors.npy\",allow_pickle=True)"
   ]
  },
  {
   "cell_type": "code",
   "execution_count": null,
   "id": "7344798e",
   "metadata": {},
   "outputs": [],
   "source": [
    "# conv_maps.shape # (10000, 2048, 8, 8)\n",
    "# GAP since featre maps of size 8*8 for layer Mixed_7b.cat_2\n",
    "conv_maps_avg = conv_maps.mean(3).mean(2)\n",
    "# conv_maps_avg.shape # (10000, 2048)"
   ]
  },
  {
   "cell_type": "code",
   "execution_count": null,
   "id": "33edf9a6",
   "metadata": {},
   "outputs": [],
   "source": [
    "projections = np.zeros(conv_maps_avg.shape) # .shape (10000, 2048)\n",
    "for evec in range(len(pvh)):\n",
    "    projections[:, evec] = np.dot(conv_maps_avg, pvh[evec,:].T)"
   ]
  },
  {
   "cell_type": "code",
   "execution_count": null,
   "id": "f21e1c03",
   "metadata": {},
   "outputs": [],
   "source": [
    "transforms = \"SVD\" # \"SVD\" / None / \"standardise\" / \"normalise\""
   ]
  },
  {
   "cell_type": "code",
   "execution_count": null,
   "id": "9d6d4f34",
   "metadata": {},
   "outputs": [],
   "source": [
    "scale = StandardScaler()\n",
    "normalise = MinMaxScaler()\n",
    "\n",
    "standardised_data = scale.fit_transform(conv_maps_avg) \n",
    "normalised_data = normalise.fit_transform(conv_maps_avg) # .shape (10000, 2048)"
   ]
  },
  {
   "cell_type": "code",
   "execution_count": null,
   "id": "66c7374c",
   "metadata": {},
   "outputs": [],
   "source": [
    "if transforms == \"standardise\":\n",
    "    activations = standardised_data\n",
    "    print(\"Standardise\")\n",
    "elif transforms == \"normalise\": \n",
    "    activations = normalised_data\n",
    "    print(\"Normalised\")\n",
    "elif transforms == \"SVD\": \n",
    "    activations = projections\n",
    "    print(\"SVD\")\n",
    "else: \n",
    "    activations = conv_maps_avg\n",
    "    print(\"Raw activations\")"
   ]
  },
  {
   "cell_type": "markdown",
   "id": "39f09051",
   "metadata": {},
   "source": [
    "## Boxplots for neuron activations on Imagenet"
   ]
  },
  {
   "cell_type": "code",
   "execution_count": null,
   "id": "cd3cb22c",
   "metadata": {},
   "outputs": [],
   "source": [
    "if not os.path.exists(SAVEFOLD+\"boxplots\"):\n",
    "    os.mkdir(SAVEFOLD+\"boxplots\")"
   ]
  },
  {
   "cell_type": "code",
   "execution_count": null,
   "id": "4b295c4a",
   "metadata": {},
   "outputs": [],
   "source": [
    "num_neurons = conv_maps.shape[1]\n",
    "\n",
    "for hundreds in range(math.ceil(num_neurons/100)):\n",
    "    boxplot_f = f\"{SAVEFOLD}/activation_boxplots/hundreds_{hundreds}.png\"\n",
    "\n",
    "    if not os.path.exists(boxplot_f):\n",
    "        fig, ax = plt.subplots(10, 1, figsize=(8, 8 * 10)) # \n",
    "        \n",
    "        for start in range(hundreds*100,min((hundreds+1)*100,num_neurons),10):\n",
    "            ax[(start//10)-(hundreds*10)].set_title(f\"Distribution of neuron {start}-{start + 9} activations\")\n",
    "            ax[(start//10)-(hundreds*10)].set_ylim([0, 3]) \n",
    "            sns.boxplot(activations[:,start:start+10], ax = ax[(start//10)-(hundreds*10)])\n",
    "        \n",
    "        fig.savefig(boxplot_f, bbox_inches=\"tight\") \n",
    "        print(\"saved file!\")\n",
    "    else: \n",
    "        print(\"File already exists!\")"
   ]
  },
  {
   "cell_type": "markdown",
   "id": "9beb1f5e",
   "metadata": {},
   "source": [
    "## Random  analysis"
   ]
  },
  {
   "cell_type": "code",
   "execution_count": null,
   "id": "15e8eb55",
   "metadata": {},
   "outputs": [],
   "source": [
    "if not os.path.exists(SAVEFOLD+\"max_activating_ims\"):\n",
    "    os.mkdir(SAVEFOLD+\"max_activating_ims\")"
   ]
  },
  {
   "cell_type": "code",
   "execution_count": null,
   "id": "c15d1efb",
   "metadata": {
    "scrolled": true
   },
   "outputs": [],
   "source": [
    "num_neurons = conv_maps.shape[1]\n",
    "plt.clf()\n",
    "sns.set()\n",
    "\n",
    "for hundreds in range(math.ceil(num_neurons/100)):\n",
    "    max_activating_ims_f = f\"{SAVEFOLD}/max_activating_ims/hundreds_{hundreds}.png\"\n",
    "    neuron_range = range(hundreds*100,min(hundreds*100+100,num_neurons))\n",
    "    if not os.path.exists(max_activating_ims_f):\n",
    "        fig, ax = plt.subplots(100, 11, figsize=(22, 200)) # (10, 11, figsize=(22, 20))\n",
    "        ax = ax.flatten()\n",
    "        i=0\n",
    "        for neuron in neuron_range: ### change\n",
    "            if neuron > num_neurons:\n",
    "                break\n",
    "            top_10 = activations[:,neuron].argsort()[-10:][::-1]\n",
    "            ax[i].text(1.0, 0.5, \"Neuron \"+str(neuron), ha='right', va='center', family='sans-serif', size=16)\n",
    "            ax[i].axis('off')\n",
    "            i+=1 \n",
    "            for act in top_10:\n",
    "                # print(\"Image: \" + str(act))\n",
    "                im = Image.open(paths[act])\n",
    "                # im.show() \n",
    "                ax[i].imshow(im)\n",
    "                ax[i].axis('off')\n",
    "                ax[i].set_title(str(act)+\" : \"+str(round(activations[act,neuron],3)), size=12)\n",
    "                i+=1\n",
    "        plt.show()\n",
    "\n",
    "        fig.savefig(max_activating_ims_f, bbox_inches=\"tight\") \n",
    "        print(\"saved file!\")\n",
    "    else: \n",
    "        print(\"File already exists!\")"
   ]
  },
  {
   "cell_type": "code",
   "execution_count": null,
   "id": "cfb01d6b",
   "metadata": {},
   "outputs": [],
   "source": [
    "neuron # 240\n",
    "neuron_range # range(140, 1500)"
   ]
  },
  {
   "cell_type": "markdown",
   "id": "79446633",
   "metadata": {},
   "source": [
    "### SVD directions"
   ]
  },
  {
   "cell_type": "code",
   "execution_count": null,
   "id": "63461a73",
   "metadata": {},
   "outputs": [],
   "source": [
    "if transforms == \"SVD\": \n",
    "    if not os.path.exists(SAVEFOLD+\"evec_max_activating_ims\"):\n",
    "        os.mkdir(SAVEFOLD+\"evec_max_activating_ims\")"
   ]
  },
  {
   "cell_type": "code",
   "execution_count": null,
   "id": "c4bea7fe",
   "metadata": {},
   "outputs": [],
   "source": [
    "if transforms == \"SVD\": \n",
    "    num_neurons = conv_maps.shape[1]\n",
    "    plt.clf()\n",
    "    sns.set()\n",
    "\n",
    "    for hundreds in range(math.ceil(num_neurons/100)):\n",
    "        max_activating_ims_f = f\"{SAVEFOLD}/evec_max_activating_ims/hundreds_{hundreds}.png\"\n",
    "        neuron_range = range(hundreds*100,min(hundreds*100+100,num_neurons))\n",
    "        if not os.path.exists(max_activating_ims_f):\n",
    "            fig, ax = plt.subplots(100, 11, figsize=(22, 200)) # (10, 11, figsize=(22, 20))\n",
    "            ax = ax.flatten()\n",
    "            i=0\n",
    "            for neuron in neuron_range: ### change\n",
    "                if neuron > num_neurons:\n",
    "                    break\n",
    "                top_10 = activations[:,neuron].argsort()[-10:][::-1]\n",
    "                ax[i].text(1.0, 0.5, \"Direction \"+str(neuron), ha='right', va='center', family='sans-serif', size=16)\n",
    "                ax[i].axis('off')\n",
    "                i+=1 \n",
    "                for act in top_10:\n",
    "                    # print(\"Image: \" + str(act))\n",
    "                    im = Image.open(paths[act])\n",
    "                    # im.show() \n",
    "                    ax[i].imshow(im)\n",
    "                    ax[i].axis('off')\n",
    "                    ax[i].set_title(str(act)+\" : \"+str(round(activations[act,neuron],3)), size=12)\n",
    "                    i+=1\n",
    "            plt.show()\n",
    "\n",
    "            fig.savefig(max_activating_ims_f, bbox_inches=\"tight\") \n",
    "            print(\"saved file!\")\n",
    "        else: \n",
    "            print(\"File already exists!\")"
   ]
  },
  {
   "cell_type": "markdown",
   "id": "820ff595",
   "metadata": {},
   "source": [
    "## Maximally activating dataset examples"
   ]
  },
  {
   "cell_type": "markdown",
   "id": "5785b075",
   "metadata": {},
   "source": [
    "### activations for one image"
   ]
  },
  {
   "cell_type": "code",
   "execution_count": null,
   "id": "296265f1",
   "metadata": {},
   "outputs": [],
   "source": [
    "print(idx_to_labels[f'{int(y[0])}'][1])\n",
    "Image.open(paths[0])"
   ]
  },
  {
   "cell_type": "code",
   "execution_count": null,
   "id": "13678b3d",
   "metadata": {
    "scrolled": true
   },
   "outputs": [],
   "source": [
    "# np.argmax(activations[0]) # 1215\n",
    "# activations[0].argsort()[-5:][::-1] # array([1215, 1527, 1620, 1876, 1624])"
   ]
  },
  {
   "cell_type": "code",
   "execution_count": null,
   "id": "0decfb20",
   "metadata": {
    "scrolled": false
   },
   "outputs": [],
   "source": [
    "# example 0 activations\n",
    "print(activations[0])\n",
    "plt.plot(activations[0])"
   ]
  },
  {
   "cell_type": "markdown",
   "id": "67284341",
   "metadata": {},
   "source": [
    "## RW"
   ]
  },
  {
   "cell_type": "markdown",
   "id": "dc308862",
   "metadata": {},
   "source": [
    "### Boxplots"
   ]
  },
  {
   "cell_type": "code",
   "execution_count": null,
   "id": "b4f8d770",
   "metadata": {
    "scrolled": false
   },
   "outputs": [],
   "source": [
    "plt.figure(figsize = (8,8))\n",
    "plt.boxplot(conv_maps_avg[:,0])\n",
    "plt.violinplot(conv_maps_avg[:,0])\n",
    "# sns.boxplot(conv_maps_avg[:,0])\n",
    "# sns.violinplot(conv_maps_avg[:,0])\n",
    "# plt.boxplot(conv_maps_avg[:,:10])\n",
    "# plt.violinplot(conv_maps_avg[:,:10])\n",
    "\n",
    "# for start in range(0,2048,10):\n",
    "#     fig, ax = plt.subplots()\n",
    "#     ax.set_title(f\"Distribution of neuron {start}-{start + 10} activations\")\n",
    "#     sns.boxplot(conv_maps_avg[:,start:start+10])"
   ]
  },
  {
   "cell_type": "code",
   "execution_count": null,
   "id": "f8da1bb9",
   "metadata": {},
   "outputs": [],
   "source": [
    "# # tried 70*10 700 at a time, couldn't open plots\n",
    "# boxplot_f0 = f\"{SAVEFOLD}/boxplot0.png\"\n",
    "# boxplot_f1 = f\"{SAVEFOLD}/boxplot1.png\"\n",
    "# boxplot_f2 = f\"{SAVEFOLD}/boxplot2.png\"\n",
    "\n",
    "# num_neurons=conv_maps.shape[1]\n",
    "# # need to break into 3 plots\n",
    "# num_neurons0=700\n",
    "# num_neurons1=1400\n",
    "# # num_neurons2=num_neurons\n",
    "\n",
    "# if not os.path.exists(boxplot_f0):\n",
    "#     fig, ax = plt.subplots(math.ceil(num_neurons0/10), 1, figsize=(8, 8 * math.ceil(num_neurons0/10)))\n",
    "#     for start in range(0,num_neurons0,10):\n",
    "#         ax[start//10].set_title(f\"Distribution of neuron {start}-{start + 9} activations\")\n",
    "#         sns.boxplot(conv_maps_avg[:,start:start+10], ax = ax[start//10])\n",
    "#     plt.savefig(boxplot_f0) \n",
    "#     print(\"saved file!\")\n",
    "# else: \n",
    "#     print(\"File already exists!\")"
   ]
  },
  {
   "cell_type": "code",
   "execution_count": null,
   "id": "a3a70af6",
   "metadata": {},
   "outputs": [],
   "source": [
    "# if not os.path.exists(boxplot_f1):\n",
    "#     fig, ax = plt.subplots(math.ceil((num_neurons1-num_neurons0)/10), 1, figsize=(8, 8 * math.ceil((num_neurons1-num_neurons0)/10)))\n",
    "#     for start in range(num_neurons0,num_neurons1,10):\n",
    "#         ax[(start//10)-(num_neurons0//10)].set_title(f\"Distribution of neuron {start}-{start + 9} activations\")\n",
    "#         sns.boxplot(conv_maps_avg[:,start:start+10], ax = ax[(start//10)-(num_neurons0//10)])\n",
    "#     plt.savefig(boxplot_f1) \n",
    "#     print(\"saved file!\")\n",
    "# else: \n",
    "#     print(\"File already exists!\")\n",
    "#     Image.open(boxplot_f1)"
   ]
  },
  {
   "cell_type": "code",
   "execution_count": null,
   "id": "55bddf75",
   "metadata": {},
   "outputs": [],
   "source": [
    "# if not os.path.exists(boxplot_f2):\n",
    "#     fig, ax = plt.subplots(math.ceil(num_neurons-num_neurons1/10), 1, figsize=(8, 8 * math.ceil((num_neurons-num_neurons1)/10)))\n",
    "#     for start in range(num_neurons1,num_neurons,10):\n",
    "#         ax[(start//10)-(num_neurons1//10)].set_title(f\"Distribution of neuron {start}-{start + 9} activations\")\n",
    "#         sns.boxplot(conv_maps_avg[:,start:start+10], ax = ax[(start//10)-(num_neurons1//10)])\n",
    "#     plt.savefig(boxplot_f2) \n",
    "#     print(\"saved file!\")\n",
    "# else: \n",
    "#     print(\"File already exists!\")"
   ]
  },
  {
   "cell_type": "markdown",
   "id": "2d1cf528",
   "metadata": {},
   "source": [
    "### Maximally actitivating dataset examples\n"
   ]
  },
  {
   "cell_type": "code",
   "execution_count": null,
   "id": "08baec76",
   "metadata": {
    "scrolled": false
   },
   "outputs": [],
   "source": [
    "neuron = 0\n",
    "\n",
    "print(\"\\nmaximally activating dataset example: \")\n",
    "print(np.argmax(conv_maps_avg[:,neuron])) # 5205\n",
    "\n",
    "print(\"\\n10 maximally activating dataset example: \")\n",
    "top_25 = conv_maps_avg[:,neuron].argsort()[-25:][::-1]\n",
    "print(top_25) # array([5205, 4403, 1826, 9692, 6182, 5160, 6196, 7968, 6140, 4434])\n",
    "\n",
    "print(\"\\n10 corresponding highest activations: \")\n",
    "print(conv_maps_avg[top_25,neuron])"
   ]
  },
  {
   "cell_type": "code",
   "execution_count": null,
   "id": "a30a8e74",
   "metadata": {},
   "outputs": [],
   "source": [
    "for i in top_10:\n",
    "    print(\"Image: \" + str(i))\n",
    "    im = Image.open(paths[i])\n",
    "    im.show() "
   ]
  },
  {
   "cell_type": "code",
   "execution_count": null,
   "id": "dad3570e",
   "metadata": {},
   "outputs": [],
   "source": [
    "# working example for one neuron\n",
    "neuron=0\n",
    "top_10 = conv_maps_avg[:,neuron].argsort()[-10:][::-1]\n",
    "fig, ax = plt.subplots(1, 11, figsize=(22, 2))\n",
    "ax = ax.flatten()\n",
    "sns.set()\n",
    "i=0\n",
    "ax[i].text(1.0, 0.5, \"Neuron \"+str(neuron), ha='right', va='center', family='sans-serif', size=16)\n",
    "ax[i].axis('off')\n",
    "i+=1\n",
    "for act in top_10:\n",
    "    # print(\"Image: \" + str(act))\n",
    "    im = Image.open(paths[act])\n",
    "    # im.show() \n",
    "    ax[i].imshow(im)\n",
    "    ax[i].axis('off')\n",
    "    ax[i].set_title(str(act)+\" : \"+str(round(conv_maps_avg[act,neuron],3)), size=12)\n",
    "    i+=1\n",
    "plt.show()"
   ]
  },
  {
   "cell_type": "code",
   "execution_count": null,
   "id": "06b5e3eb",
   "metadata": {},
   "outputs": [],
   "source": [
    "# works for fifty\n",
    "num_neurons = conv_maps.shape[1]\n",
    "plt.clf()\n",
    "sns.set()\n",
    "fifty = 0\n",
    "max_activating_ims_f = f\"{SAVEFOLD}/max_activating_ims_{fifty}.png\"\n",
    "neuron_range = range(50)\n",
    "\n",
    "if not os.path.exists(max_activating_ims_f):\n",
    "    fig, ax = plt.subplots(50, 11, figsize=(22, 100)) # (10, 11, figsize=(22, 20))\n",
    "    ax = ax.flatten()\n",
    "    i=0\n",
    "    for neuron in neuron_range: ### change\n",
    "        top_10 = conv_maps_avg[:,neuron].argsort()[-10:][::-1]\n",
    "        ax[i].text(1.0, 0.5, \"Neuron \"+str(neuron), ha='right', va='center', family='sans-serif', size=16)\n",
    "        ax[i].axis('off')\n",
    "        i+=1 \n",
    "        for act in top_10:\n",
    "            # print(\"Image: \" + str(act))\n",
    "            im = Image.open(paths[act])\n",
    "            # im.show() \n",
    "            ax[i].imshow(im)\n",
    "            ax[i].axis('off')\n",
    "            ax[i].set_title(str(act)+\" : \"+str(round(conv_maps_avg[act,neuron],3)), size=12)\n",
    "            i+=1\n",
    "    plt.show()"
   ]
  },
  {
   "cell_type": "code",
   "execution_count": null,
   "id": "19e3210b",
   "metadata": {},
   "outputs": [],
   "source": [
    "# just looking \n",
    "num_neurons = 101# conv_maps.shape[1]\n",
    "plt.clf()\n",
    "sns.set()\n",
    "\n",
    "for fifties in range(math.ceil(num_neurons/50)):\n",
    "    max_activating_ims_f = f\"{SAVEFOLD}/max_activating_ims_{fifties}.png\"\n",
    "    neuron_range = range(fifties*50,fifties*50+50)\n",
    "    if not os.path.exists(max_activating_ims_f):\n",
    "        fig, ax = plt.subplots(50, 11, figsize=(22, 100)) # (10, 11, figsize=(22, 20))\n",
    "        ax = ax.flatten()\n",
    "        i=0\n",
    "        for neuron in neuron_range: ### change\n",
    "            top_10 = conv_maps_avg[:,neuron].argsort()[-10:][::-1]\n",
    "            ax[i].text(1.0, 0.5, \"Neuron \"+str(neuron), ha='right', va='center', family='sans-serif', size=16)\n",
    "            ax[i].axis('off')\n",
    "            i+=1 \n",
    "            for act in top_10:\n",
    "                # print(\"Image: \" + str(act))\n",
    "                im = Image.open(paths[act])\n",
    "                # im.show() \n",
    "                ax[i].imshow(im)\n",
    "                ax[i].axis('off')\n",
    "                ax[i].set_title(str(act)+\" : \"+str(round(conv_maps_avg[act,neuron],3)), size=12)\n",
    "                i+=1\n",
    "        plt.show()\n",
    "\n",
    "        plt.savefig(max_activating_ims_f) \n",
    "        print(\"saved file!\")\n",
    "    else: \n",
    "        print(\"File already exists!\")"
   ]
  },
  {
   "cell_type": "code",
   "execution_count": null,
   "id": "314ed392",
   "metadata": {},
   "outputs": [],
   "source": [
    "tens = 0\n",
    "Image.open(f\"{SAVEFOLD}/max_activating_ims/tens_{tens}.png\") # .size (640, 480)"
   ]
  },
  {
   "cell_type": "code",
   "execution_count": null,
   "id": "6914814b",
   "metadata": {},
   "outputs": [],
   "source": []
  }
 ],
 "metadata": {
  "kernelspec": {
   "display_name": "Python 3 (ipykernel)",
   "language": "python",
   "name": "python3"
  },
  "language_info": {
   "codemirror_mode": {
    "name": "ipython",
    "version": 3
   },
   "file_extension": ".py",
   "mimetype": "text/x-python",
   "name": "python",
   "nbconvert_exporter": "python",
   "pygments_lexer": "ipython3",
   "version": "3.8.16"
  }
 },
 "nbformat": 4,
 "nbformat_minor": 5
}
