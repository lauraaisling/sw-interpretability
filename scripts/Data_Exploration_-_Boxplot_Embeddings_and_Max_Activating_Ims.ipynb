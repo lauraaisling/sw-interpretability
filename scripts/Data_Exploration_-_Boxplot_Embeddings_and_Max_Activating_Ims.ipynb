{
 "cells": [
  {
   "cell_type": "markdown",
   "id": "f481c062",
   "metadata": {},
   "source": [
    "## Set up"
   ]
  },
  {
   "cell_type": "code",
   "execution_count": null,
   "id": "e7d1bf5e",
   "metadata": {},
   "outputs": [],
   "source": [
    "import sys\n",
    "sys.path.append('./scripts/')\n",
    "import os\n",
    "\n",
    "import matplotlib.pyplot as plt\n",
    "import seaborn as sns\n",
    "import math\n",
    "import copy\n",
    "import numpy as np\n",
    "sns.set_style(\"darkgrid\")\n",
    "from PIL import Image\n",
    "from sklearn.preprocessing import StandardScaler\n",
    "from sklearn.preprocessing import MinMaxScaler\n",
    "\n",
    "import imp\n",
    "import my_datasets\n",
    "import utilities \n",
    "imp.reload(my_datasets) \n",
    "imp.reload(utilities) "
   ]
  },
  {
   "cell_type": "code",
   "execution_count": null,
   "id": "9a392d92",
   "metadata": {
    "scrolled": true
   },
   "outputs": [],
   "source": [
    "dataset='ilsvrc12fine'\n",
    "paths, count, y, idx_to_labels =  my_datasets.get_dataset(dataset)\n",
    "\n",
    "print(count, len(paths))"
   ]
  },
  {
   "cell_type": "code",
   "execution_count": null,
   "id": "79f755e3",
   "metadata": {},
   "outputs": [],
   "source": [
    "# For ilsvrc12fine dataset, paths are mapped differently\n",
    "if dataset=='ilsvrc12fine':\n",
    "    idxs=np.arange(0, 1281167, 10) \n",
    "    classes=np.unique(y[idxs])\n",
    "    ppaths=[paths[i] for i in idxs]\n",
    "    paths=ppaths"
   ]
  },
  {
   "cell_type": "code",
   "execution_count": null,
   "id": "448fb786",
   "metadata": {},
   "outputs": [],
   "source": [
    "layer='Mixed_7b.cat_2'\n",
    "SAVEFOLD0=f'../outputs/{dataset}'\n",
    "\n",
    "SAVEFOLD=f\"{SAVEFOLD0}/{layer}/\""
   ]
  },
  {
   "cell_type": "code",
   "execution_count": null,
   "id": "533dcaa0",
   "metadata": {},
   "outputs": [],
   "source": [
    "# gradients_wrt_conv_layer=np.load(f\"{SAVEFOLD}/gradients_wrt_conv_layer.npy\")\n",
    "predictions=np.load(f\"{SAVEFOLD}/predictions.npy\")\n",
    "conv_maps=np.load(f\"{SAVEFOLD}/conv_maps.npy\")\n",
    "\n",
    "# pvh=np.load(f\"{SAVEFOLD}/eigenvectors.npy\",allow_pickle=True)"
   ]
  },
  {
   "cell_type": "code",
   "execution_count": null,
   "id": "7344798e",
   "metadata": {},
   "outputs": [],
   "source": [
    "# conv_maps.shape # (10000, 2048, 8, 8)\n",
    "# GAP since featre maps of size 8*8 for layer Mixed_7b.cat_2\n",
    "conv_maps_avg = conv_maps.mean(3).mean(2)\n",
    "# conv_maps_avg.shape # (10000, 2048)"
   ]
  },
  {
   "cell_type": "code",
   "execution_count": null,
   "id": "33edf9a6",
   "metadata": {},
   "outputs": [],
   "source": [
    "projections = np.zeros(conv_maps_avg.shape) # .shape (10000, 2048)\n",
    "for evec in range(len(pvh)):\n",
    "    projections[:, evec] = np.dot(conv_maps_avg, pvh[evec,:].T)"
   ]
  },
  {
   "cell_type": "code",
   "execution_count": null,
   "id": "f21e1c03",
   "metadata": {},
   "outputs": [],
   "source": [
    "transforms = \"None\" # \"SVD\" / None / \"standardise\" / \"normalise\""
   ]
  },
  {
   "cell_type": "code",
   "execution_count": null,
   "id": "9d6d4f34",
   "metadata": {},
   "outputs": [],
   "source": [
    "scale = StandardScaler()\n",
    "normalise = MinMaxScaler()\n",
    "\n",
    "standardised_data = scale.fit_transform(conv_maps_avg) \n",
    "normalised_data = normalise.fit_transform(conv_maps_avg) # .shape (10000, 2048)"
   ]
  },
  {
   "cell_type": "code",
   "execution_count": null,
   "id": "66c7374c",
   "metadata": {},
   "outputs": [],
   "source": [
    "if transforms == \"standardise\":\n",
    "    activations = standardised_data\n",
    "    print(\"Standardise\")\n",
    "elif transforms == \"normalise\": \n",
    "    activations = normalised_data\n",
    "    print(\"Normalised\")\n",
    "elif transforms == \"SVD\": \n",
    "    activations = projections\n",
    "    print(\"SVD\")\n",
    "else: \n",
    "    activations = conv_maps_avg\n",
    "    print(\"Raw activations\")"
   ]
  },
  {
   "cell_type": "markdown",
   "id": "39f09051",
   "metadata": {},
   "source": [
    "## Boxplots for neuron activations on Imagenet"
   ]
  },
  {
   "cell_type": "code",
   "execution_count": null,
   "id": "cd3cb22c",
   "metadata": {},
   "outputs": [],
   "source": [
    "if not os.path.exists(SAVEFOLD+\"boxplots\"):\n",
    "    os.mkdir(SAVEFOLD+\"boxplots\")"
   ]
  },
  {
   "cell_type": "code",
   "execution_count": null,
   "id": "4b295c4a",
   "metadata": {},
   "outputs": [],
   "source": [
    "num_neurons = conv_maps.shape[1]\n",
    "\n",
    "for hundreds in range(math.ceil(num_neurons/100)):\n",
    "    boxplot_f = f\"{SAVEFOLD}/activation_boxplots/hundreds_{hundreds}.png\"\n",
    "\n",
    "    if not os.path.exists(boxplot_f):\n",
    "        fig, ax = plt.subplots(10, 1, figsize=(8, 8 * 10)) # \n",
    "        \n",
    "        for start in range(hundreds*100,min((hundreds+1)*100,num_neurons),10):\n",
    "            ax[(start//10)-(hundreds*10)].set_title(f\"Distribution of neuron {start}-{start + 9} activations\")\n",
    "            ax[(start//10)-(hundreds*10)].set_ylim([0, 3]) \n",
    "            sns.boxplot(activations[:,start:start+10], ax = ax[(start//10)-(hundreds*10)])\n",
    "        \n",
    "        fig.savefig(boxplot_f, bbox_inches=\"tight\") \n",
    "        print(\"saved file!\")\n",
    "    else: \n",
    "        print(\"File already exists!\")"
   ]
  },
  {
   "cell_type": "markdown",
   "id": "9beb1f5e",
   "metadata": {},
   "source": [
    "## Random  analysis"
   ]
  },
  {
   "cell_type": "code",
   "execution_count": null,
   "id": "15e8eb55",
   "metadata": {},
   "outputs": [],
   "source": [
    "if not os.path.exists(SAVEFOLD+\"max_activating_ims\"):\n",
    "    os.mkdir(SAVEFOLD+\"max_activating_ims\")"
   ]
  },
  {
   "cell_type": "code",
   "execution_count": null,
   "id": "c15d1efb",
   "metadata": {
    "scrolled": true
   },
   "outputs": [],
   "source": [
    "num_neurons = conv_maps.shape[1]\n",
    "plt.clf()\n",
    "sns.set()\n",
    "\n",
    "for hundreds in range(math.ceil(num_neurons/100)):\n",
    "    max_activating_ims_f = f\"{SAVEFOLD}/max_activating_ims/hundreds_{hundreds}.png\"\n",
    "    neuron_range = range(hundreds*100,min(hundreds*100+100,num_neurons))\n",
    "    if not os.path.exists(max_activating_ims_f):\n",
    "        fig, ax = plt.subplots(100, 11, figsize=(22, 200)) # (10, 11, figsize=(22, 20))\n",
    "        ax = ax.flatten()\n",
    "        i=0\n",
    "        for neuron in neuron_range: ### change\n",
    "            if neuron > num_neurons:\n",
    "                break\n",
    "            top_10 = activations[:,neuron].argsort()[-10:][::-1]\n",
    "            ax[i].text(1.0, 0.5, \"Neuron \"+str(neuron), ha='right', va='center', family='sans-serif', size=16)\n",
    "            ax[i].axis('off')\n",
    "            i+=1 \n",
    "            for act in top_10:\n",
    "                # print(\"Image: \" + str(act))\n",
    "                im = Image.open(paths[act])\n",
    "                # im.show() \n",
    "                ax[i].imshow(im)\n",
    "                ax[i].axis('off')\n",
    "                ax[i].set_title(str(act)+\" : \"+str(round(activations[act,neuron],3)), size=12)\n",
    "                i+=1\n",
    "        plt.show()\n",
    "\n",
    "        fig.savefig(max_activating_ims_f, bbox_inches=\"tight\") \n",
    "        print(\"saved file!\")\n",
    "    else: \n",
    "        print(\"File already exists!\")"
   ]
  },
  {
   "cell_type": "code",
   "execution_count": null,
   "id": "cfb01d6b",
   "metadata": {},
   "outputs": [],
   "source": [
    "neuron # 240\n",
    "neuron_range # range(140, 1500)"
   ]
  },
  {
   "cell_type": "markdown",
   "id": "79446633",
   "metadata": {},
   "source": [
    "### SVD directions"
   ]
  },
  {
   "cell_type": "code",
   "execution_count": null,
   "id": "63461a73",
   "metadata": {},
   "outputs": [],
   "source": [
    "# if transforms == \"SVD\": \n",
    "#     if not os.path.exists(SAVEFOLD+\"evec_max_activating_ims\"):\n",
    "#         os.mkdir(SAVEFOLD+\"evec_max_activating_ims\")"
   ]
  },
  {
   "cell_type": "code",
   "execution_count": null,
   "id": "c4bea7fe",
   "metadata": {},
   "outputs": [],
   "source": [
    "# if transforms == \"SVD\": \n",
    "#     num_neurons = conv_maps.shape[1]\n",
    "#     plt.clf()\n",
    "#     sns.set()\n",
    "\n",
    "#     for hundreds in range(math.ceil(num_neurons/100)):\n",
    "#         max_activating_ims_f = f\"{SAVEFOLD}/evec_max_activating_ims/hundreds_{hundreds}.png\"\n",
    "#         neuron_range = range(hundreds*100,min(hundreds*100+100,num_neurons))\n",
    "#         if not os.path.exists(max_activating_ims_f):\n",
    "#             fig, ax = plt.subplots(100, 11, figsize=(22, 200)) # (10, 11, figsize=(22, 20))\n",
    "#             ax = ax.flatten()\n",
    "#             i=0\n",
    "#             for neuron in neuron_range: ### change\n",
    "#                 if neuron > num_neurons:\n",
    "#                     break\n",
    "#                 top_10 = activations[:,neuron].argsort()[-10:][::-1]\n",
    "#                 ax[i].text(1.0, 0.5, \"Direction \"+str(neuron), ha='right', va='center', family='sans-serif', size=16)\n",
    "#                 ax[i].axis('off')\n",
    "#                 i+=1 \n",
    "#                 for act in top_10:\n",
    "#                     # print(\"Image: \" + str(act))\n",
    "#                     im = Image.open(paths[act])\n",
    "#                     # im.show() \n",
    "#                     ax[i].imshow(im)\n",
    "#                     ax[i].axis('off')\n",
    "#                     ax[i].set_title(str(act)+\" : \"+str(round(activations[act,neuron],3)), size=12)\n",
    "#                     i+=1\n",
    "#             plt.show()\n",
    "\n",
    "#             fig.savefig(max_activating_ims_f, bbox_inches=\"tight\") \n",
    "#             print(\"saved file!\")\n",
    "#         else: \n",
    "#             print(\"File already exists!\")"
   ]
  },
  {
   "cell_type": "markdown",
   "id": "820ff595",
   "metadata": {},
   "source": [
    "## Maximally activating dataset examples"
   ]
  },
  {
   "cell_type": "markdown",
   "id": "5785b075",
   "metadata": {},
   "source": [
    "### activations for one image"
   ]
  },
  {
   "cell_type": "code",
   "execution_count": null,
   "id": "296265f1",
   "metadata": {},
   "outputs": [],
   "source": [
    "print(idx_to_labels[f'{int(y[0])}'][1])\n",
    "Image.open(paths[0])"
   ]
  },
  {
   "cell_type": "code",
   "execution_count": null,
   "id": "13678b3d",
   "metadata": {
    "scrolled": true
   },
   "outputs": [],
   "source": [
    "# np.argmax(activations[0]) # 1215\n",
    "# activations[0].argsort()[-5:][::-1] # array([1215, 1527, 1620, 1876, 1624])"
   ]
  },
  {
   "cell_type": "code",
   "execution_count": null,
   "id": "0decfb20",
   "metadata": {
    "scrolled": false
   },
   "outputs": [],
   "source": [
    "# example 0 activations\n",
    "print(activations[0])\n",
    "plt.plot(activations[0])"
   ]
  },
  {
   "cell_type": "code",
   "execution_count": null,
   "id": "6914814b",
   "metadata": {},
   "outputs": [],
   "source": []
  }
 ],
 "metadata": {
  "kernelspec": {
   "display_name": "Python 3 (ipykernel)",
   "language": "python",
   "name": "python3"
  },
  "language_info": {
   "codemirror_mode": {
    "name": "ipython",
    "version": 3
   },
   "file_extension": ".py",
   "mimetype": "text/x-python",
   "name": "python",
   "nbconvert_exporter": "python",
   "pygments_lexer": "ipython3",
   "version": "3.8.16"
  }
 },
 "nbformat": 4,
 "nbformat_minor": 5
}
