{
 "cells": [
  {
   "cell_type": "markdown",
   "id": "86caeadf",
   "metadata": {},
   "source": [
    "## Set up"
   ]
  },
  {
   "cell_type": "code",
   "execution_count": null,
   "id": "987f4490",
   "metadata": {},
   "outputs": [],
   "source": [
    "import sys\n",
    "sys.path.append('./scripts/')\n",
    "from datasets import *\n",
    "import scipy.ndimage\n",
    "import torch\n",
    "import torchvision \n",
    "import os\n",
    "import numpy as np\n",
    "from PIL import Image\n",
    "from torchvision.models import feature_extraction \n",
    "\n",
    "\n",
    "os.environ[\"CUDA_DEVICE_ORDER\"]=\"PCI_BUS_ID\"   # see issue #152\n",
    "os.environ[\"CUDA_VISIBLE_DEVICES\"]=\"1\""
   ]
  },
  {
   "cell_type": "code",
   "execution_count": null,
   "id": "140f731a",
   "metadata": {},
   "outputs": [],
   "source": [
    "import get_embeddings\n",
    "import imp\n",
    "imp.reload(get_embeddings)"
   ]
  },
  {
   "cell_type": "code",
   "execution_count": null,
   "id": "057b2a04",
   "metadata": {},
   "outputs": [],
   "source": [
    "device = torch.device(\"cuda:0\" if torch.cuda.is_available() else \"cpu\")"
   ]
  },
  {
   "cell_type": "code",
   "execution_count": null,
   "id": "95fbf2fe",
   "metadata": {},
   "outputs": [],
   "source": [
    "dataset='ilsvrc12'\n",
    "layer='Mixed_7b.cat_2'\n",
    "compute_embeddings_fresh = True\n",
    "paths, count, y, idx_to_labels = get_dataset(dataset)\n",
    "\n",
    "print(count, len(paths))"
   ]
  },
  {
   "cell_type": "code",
   "execution_count": null,
   "id": "1df591e3",
   "metadata": {},
   "outputs": [],
   "source": [
    "SAVEFOLD0=f'../outputs/{dataset}'\n",
    "if not os.path.exists(SAVEFOLD0):\n",
    "    os.mkdir(SAVEFOLD0)"
   ]
  },
  {
   "cell_type": "code",
   "execution_count": null,
   "id": "f26febf3",
   "metadata": {},
   "outputs": [],
   "source": [
    "try:\n",
    "    os.mkdir(f\"{SAVEFOLD0}/{layer}/\")\n",
    "except:\n",
    "    print(\"Maybe the directory already exists? \")\n",
    "SAVEFOLD=f\"{SAVEFOLD0}/{layer}/\""
   ]
  },
  {
   "cell_type": "markdown",
   "id": "e4cb402d",
   "metadata": {},
   "source": [
    "## Get data"
   ]
  },
  {
   "cell_type": "code",
   "execution_count": null,
   "id": "157d7ec9",
   "metadata": {},
   "outputs": [],
   "source": [
    "idx_to_labels"
   ]
  },
  {
   "cell_type": "code",
   "execution_count": null,
   "id": "7ea233d7",
   "metadata": {},
   "outputs": [],
   "source": [
    "classes = np.unique(y)"
   ]
  },
  {
   "cell_type": "code",
   "execution_count": null,
   "id": "20e5b2e9",
   "metadata": {},
   "outputs": [],
   "source": [
    "model = torch.hub.load('pytorch/vision:v0.9.0', 'inception_v3', pretrained=True)\n",
    "model.eval()"
   ]
  },
  {
   "cell_type": "code",
   "execution_count": null,
   "id": "a9489d6f",
   "metadata": {},
   "outputs": [],
   "source": [
    " torchvision.models.feature_extraction.get_graph_node_names(model)"
   ]
  },
  {
   "cell_type": "code",
   "execution_count": null,
   "id": "88f16272",
   "metadata": {},
   "outputs": [],
   "source": [
    "print(layer)\n",
    "return_nodes={f'{layer}': 'conv', 'avgpool':'avgpool', 'fc':'fc'\n",
    "             }\n",
    "model = torchvision.models.feature_extraction.create_feature_extractor(model, return_nodes=return_nodes)"
   ]
  },
  {
   "cell_type": "code",
   "execution_count": null,
   "id": "4090b10f",
   "metadata": {},
   "outputs": [],
   "source": [
    "model"
   ]
  },
  {
   "cell_type": "code",
   "execution_count": null,
   "id": "7137b274",
   "metadata": {},
   "outputs": [],
   "source": [
    "inputs=torch.zeros((8,3,299,299), dtype=torch.float).to(device)\n",
    "model.to(device)\n",
    "outs=model(inputs)\n",
    "dim_c = outs['conv'].shape[1]\n",
    "dim_w = outs['conv'].shape[2]\n",
    "dim_h = outs['conv'].shape[3] "
   ]
  },
  {
   "cell_type": "code",
   "execution_count": null,
   "id": "510033a8",
   "metadata": {},
   "outputs": [],
   "source": [
    "if compute_embeddings_fresh == True:\n",
    "    get_embeddings.get_model_state(model, paths, y, dim_c, dim_w, dim_h, SAVEFOLD=SAVEFOLD)"
   ]
  },
  {
   "cell_type": "code",
   "execution_count": null,
   "id": "afa3ca8c",
   "metadata": {},
   "outputs": [],
   "source": [
    "print(\"\\ndevice: \")\n",
    "print(device )\n",
    "print(\"\\ntorch.cuda.is_available(): \")\n",
    "print(torch.cuda.is_available())\n",
    "print(\"\\ntorch.cuda.device_count()\")\n",
    "print(torch.cuda.device_count())\n",
    "print(\"\\ntorch.cuda.get_device_name(0)\")\n",
    "print(torch.cuda.get_device_name(0))\n",
    "print(\"\\ninputs.is_cuda: \")\n",
    "print(inputs.is_cuda)"
   ]
  },
  {
   "cell_type": "code",
   "execution_count": null,
   "id": "4102450d",
   "metadata": {},
   "outputs": [],
   "source": [
    "print(torch.cuda.get_device_name(1))"
   ]
  },
  {
   "cell_type": "markdown",
   "id": "c26f82f4",
   "metadata": {},
   "source": [
    "## Load precomputed results"
   ]
  },
  {
   "cell_type": "code",
   "execution_count": null,
   "id": "1d9eaea9",
   "metadata": {},
   "outputs": [],
   "source": [
    "gradients_wrt_conv_layer=np.load(f\"{SAVEFOLD}/gradients_wrt_conv_layer.npy\")\n",
    "predictions=np.load(f\"{SAVEFOLD}/predictions.npy\")\n",
    "conv_maps=np.load(f\"{SAVEFOLD}/conv_maps.npy\")"
   ]
  },
  {
   "cell_type": "code",
   "execution_count": null,
   "id": "94d46573",
   "metadata": {},
   "outputs": [],
   "source": []
  },
  {
   "cell_type": "code",
   "execution_count": null,
   "id": "70ac1a8a",
   "metadata": {},
   "outputs": [],
   "source": []
  },
  {
   "cell_type": "code",
   "execution_count": null,
   "id": "34762492",
   "metadata": {},
   "outputs": [],
   "source": []
  },
  {
   "cell_type": "code",
   "execution_count": null,
   "id": "c5b6f9be",
   "metadata": {},
   "outputs": [],
   "source": []
  }
 ],
 "metadata": {
  "kernelspec": {
   "display_name": "Python 3 (ipykernel)",
   "language": "python",
   "name": "python3"
  },
  "language_info": {
   "codemirror_mode": {
    "name": "ipython",
    "version": 3
   },
   "file_extension": ".py",
   "mimetype": "text/x-python",
   "name": "python",
   "nbconvert_exporter": "python",
   "pygments_lexer": "ipython3",
   "version": "3.8.16"
  }
 },
 "nbformat": 4,
 "nbformat_minor": 5
}
