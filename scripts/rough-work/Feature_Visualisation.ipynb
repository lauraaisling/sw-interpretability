{
 "cells": [
  {
   "cell_type": "code",
   "execution_count": null,
   "id": "292996b2",
   "metadata": {},
   "outputs": [],
   "source": [
    "import torch\n",
    "import torchvision\n",
    "from lucent.optvis import render, param, transform, objectives"
   ]
  },
  {
   "cell_type": "code",
   "execution_count": null,
   "id": "fb84274f",
   "metadata": {},
   "outputs": [],
   "source": [
    "device = torch.device(\"cuda:0\" if torch.cuda.is_available() else \"cpu\")"
   ]
  },
  {
   "cell_type": "code",
   "execution_count": null,
   "id": "c0f6085c",
   "metadata": {},
   "outputs": [],
   "source": [
    "layer='Mixed_7b'\n",
    "neuron = 35"
   ]
  },
  {
   "cell_type": "markdown",
   "id": "f9195903",
   "metadata": {},
   "source": [
    "https://github.com/greentfrapp/lucent \n",
    "\n",
    "https://colab.research.google.com/github/greentfrapp/lucent-notebooks/blob/master/notebooks/diversity.ipynb#scrollTo=ZmmS4duOoU65\n",
    "\n",
    "https://colab.research.google.com/github/greentfrapp/lucent-notebooks/blob/master/notebooks/tutorial.ipynb#scrollTo=1W_gbtglap04"
   ]
  },
  {
   "cell_type": "markdown",
   "id": "c79f9c14",
   "metadata": {},
   "source": [
    "There is a problem caused by the ReLU layers in Inception v3. TODO: Replace ReLU layers with redirected ReLU layers!"
   ]
  },
  {
   "cell_type": "code",
   "execution_count": null,
   "id": "38dda69c",
   "metadata": {
    "scrolled": false
   },
   "outputs": [],
   "source": [
    "model = torch.hub.load('pytorch/vision:v0.9.0', 'inception_v3', pretrained=True)\n",
    "model.to(device).eval()\n",
    "\n",
    "render.render_vis(model, f'{layer}:{neuron}')"
   ]
  },
  {
   "cell_type": "code",
   "execution_count": null,
   "id": "84308313",
   "metadata": {
    "scrolled": true
   },
   "outputs": [],
   "source": [
    "_ = render.render_vis(model, f'{layer}:{neuron}')"
   ]
  },
  {
   "cell_type": "code",
   "execution_count": null,
   "id": "5d6c2029",
   "metadata": {
    "scrolled": true
   },
   "outputs": [],
   "source": [
    "batch_param_f = lambda: param.image(128, batch=6, decorrelate=True)\n",
    "obj = objectives.channel(layer, neuron)\n",
    "_ = render.render_vis(model, obj, batch_param_f, show_inline=True)"
   ]
  },
  {
   "cell_type": "markdown",
   "id": "8935ffce",
   "metadata": {},
   "source": [
    "Testing out diversity"
   ]
  },
  {
   "cell_type": "code",
   "execution_count": null,
   "id": "f0b8b850",
   "metadata": {
    "scrolled": true
   },
   "outputs": [],
   "source": [
    "batch_param_f = lambda: param.image(128, batch=6)\n",
    "\n",
    "obj = objectives.channel(layer, neuron) - 1e0 * objectives.diversity(layer)\n",
    "\n",
    "_ = render.render_vis(model, obj, batch_param_f, show_inline=True)"
   ]
  },
  {
   "cell_type": "code",
   "execution_count": null,
   "id": "9a3de719",
   "metadata": {},
   "outputs": [],
   "source": [
    "batch_param_f = lambda: param.image(128, batch=6)\n",
    "\n",
    "obj = objectives.channel(layer, neuron) - 0.5 * objectives.diversity(layer)\n",
    "\n",
    "_ = render.render_vis(model, obj, batch_param_f, show_inline=True)"
   ]
  },
  {
   "cell_type": "code",
   "execution_count": null,
   "id": "9f41a8f2",
   "metadata": {},
   "outputs": [],
   "source": [
    "?render.render_vis"
   ]
  },
  {
   "cell_type": "markdown",
   "id": "47b8df55",
   "metadata": {},
   "source": [
    "FFT"
   ]
  },
  {
   "cell_type": "code",
   "execution_count": null,
   "id": "f4448303",
   "metadata": {},
   "outputs": [],
   "source": [
    "param_f = lambda: param.image(128, fft=True, batch=6)\n",
    "obj = objectives.channel(layer, neuron) - 1 * objectives.diversity(layer)\n",
    "_ = render.render_vis(model, obj, param_f, transforms=[], show_inline=True)"
   ]
  },
  {
   "cell_type": "code",
   "execution_count": null,
   "id": "4741fcc7",
   "metadata": {},
   "outputs": [],
   "source": []
  }
 ],
 "metadata": {
  "kernelspec": {
   "display_name": "Python 3 (ipykernel)",
   "language": "python",
   "name": "python3"
  },
  "language_info": {
   "codemirror_mode": {
    "name": "ipython",
    "version": 3
   },
   "file_extension": ".py",
   "mimetype": "text/x-python",
   "name": "python",
   "nbconvert_exporter": "python",
   "pygments_lexer": "ipython3",
   "version": "3.8.16"
  }
 },
 "nbformat": 4,
 "nbformat_minor": 5
}
